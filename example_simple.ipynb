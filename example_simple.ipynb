{
 "cells": [
  {
   "cell_type": "code",
   "execution_count": 1,
   "id": "57d9b353",
   "metadata": {},
   "outputs": [],
   "source": [
    "import pods\n",
    "import numpy as np"
   ]
  },
  {
   "cell_type": "code",
   "execution_count": 86,
   "id": "28246360",
   "metadata": {},
   "outputs": [],
   "source": [
    "data = pods.datasets.della_gatta_TRP63_gene_expression(data_set='della_gatta',gene_number=937)\n",
    "\n",
    "x = data['X']\n",
    "y = data['Y']\n",
    "\n",
    "offset = y.mean()\n",
    "scale = np.sqrt(y.var())\n",
    "yhat = (y-offset)/scale"
   ]
  },
  {
   "cell_type": "code",
   "execution_count": 3,
   "id": "4793c144",
   "metadata": {},
   "outputs": [],
   "source": [
    "import matplotlib.pyplot as plt\n",
    "import GPy\n",
    "import deepgp\n"
   ]
  },
  {
   "cell_type": "code",
   "execution_count": 87,
   "id": "63571e7b",
   "metadata": {},
   "outputs": [
    {
     "data": {
      "text/plain": [
       "(array([[  0.],\n",
       "        [ 20.],\n",
       "        [ 40.],\n",
       "        [ 60.],\n",
       "        [ 80.],\n",
       "        [100.],\n",
       "        [120.],\n",
       "        [140.],\n",
       "        [160.],\n",
       "        [180.],\n",
       "        [200.],\n",
       "        [220.],\n",
       "        [240.]]),\n",
       " array([[-1.03226909],\n",
       "        [-0.80767781],\n",
       "        [-2.53308535],\n",
       "        [-0.84773402],\n",
       "        [ 1.01182806],\n",
       "        [ 0.1622854 ],\n",
       "        [ 0.60203592],\n",
       "        [ 0.16743045],\n",
       "        [ 0.09570278],\n",
       "        [ 0.74655102],\n",
       "        [ 0.88048833],\n",
       "        [ 0.49759362],\n",
       "        [ 1.0568507 ]]))"
      ]
     },
     "execution_count": 87,
     "metadata": {},
     "output_type": "execute_result"
    }
   ],
   "source": [
    "x,yhat"
   ]
  },
  {
   "cell_type": "code",
   "execution_count": 157,
   "id": "be7b1fd6",
   "metadata": {},
   "outputs": [],
   "source": [
    "layers = [1 for i in range(2)]\n",
    "\n",
    "kernels = []\n",
    "for i in layers[1:]:\n",
    "    kernels += [GPy.kern.RBF(i,ARD=False,lengthscale = None)]\n",
    "m_a = deepgp.DeepGP(layers,Y=yhat, X=x, inits = None,\n",
    "                  kernels=kernels, # the kernels for each layer\n",
    "                  num_inducing=len(x), back_constraint=False,lengthscale = 2)"
   ]
  },
  {
   "cell_type": "code",
   "execution_count": 158,
   "id": "96cec791",
   "metadata": {},
   "outputs": [],
   "source": [
    "\n",
    "for i in range(len(m_a.layers)):\n",
    "    output_var = m_a.layers[i].Y.var() if i==0 else m_a.layers[i].Y.mean.var()\n",
    "    m_a.layers[i].Gaussian_noise.variance = output_var*0\n",
    "#     if i== 4:\n",
    "#         m.layers[i].fix()\n",
    "    m_a.layers[i].Gaussian_noise.variance.fix()\n",
    "#     m.layers[i].kern.lengthscale.fix()"
   ]
  },
  {
   "cell_type": "code",
   "execution_count": 159,
   "id": "ef94b53e",
   "metadata": {},
   "outputs": [
    {
     "data": {
      "application/vnd.jupyter.widget-view+json": {
       "model_id": "ba0fb810bfab49c49c440f0e04ce9606",
       "version_major": 2,
       "version_minor": 0
      },
      "text/plain": [
       "HBox(children=(VBox(children=(IntProgress(value=0, max=1000), HTML(value=''))), Box(children=(HTML(value=''),)…"
      ]
     },
     "metadata": {},
     "output_type": "display_data"
    }
   ],
   "source": [
    "m_a.optimize(max_iters=1000, messages=True)"
   ]
  },
  {
   "cell_type": "code",
   "execution_count": 160,
   "id": "b5c0039a",
   "metadata": {},
   "outputs": [
    {
     "data": {
      "text/plain": [
       "<matplotlib.collections.PathCollection at 0x133839a90>"
      ]
     },
     "execution_count": 160,
     "metadata": {},
     "output_type": "execute_result"
    },
    {
     "data": {
      "image/png": "[encoded data removed]",
      "text/plain": [
       "<Figure size 432x288 with 1 Axes>"
      ]
     },
     "metadata": {
      "needs_background": "light"
     },
     "output_type": "display_data"
    }
   ],
   "source": [
    "plt.plot(x,m_a.predict(x)[0])\n",
    "plt.scatter(x,yhat)"
   ]
  },
  {
   "cell_type": "code",
   "execution_count": 53,
   "id": "6d48c9ce",
   "metadata": {},
   "outputs": [],
   "source": [
    "def Cov(x1, x2, l=1.0, sigma_f=1.0):\n",
    "    m, n = x1.shape[0], x2.shape[0]\n",
    "    dist_matrix = np.zeros((m, n), dtype=float)\n",
    "    for i in range(m):\n",
    "        for j in range(n):\n",
    "            dist_matrix[i][j] = np.sum((x1[i] - x2[j])**2)\n",
    "    return sigma_f**2 * np.exp(-0.5 / l**2 * dist_matrix)\n",
    "\n",
    "def Cov2(x1, x2, l=1.0, sigma_f=1.0):\n",
    "    dist_matrix = np.sum(x1**2, 1).reshape(-1, 1) + np.sum(x2**2, 1) - 2 * np.dot(x1, x2.T)\n",
    "    return sigma_f**2 * np.exp(-0.5 / l**2 * dist_matrix)"
   ]
  },
  {
   "cell_type": "code",
   "execution_count": 143,
   "id": "7980c006",
   "metadata": {},
   "outputs": [
    {
     "name": "stdout",
     "output_type": "stream",
     "text": [
      "0.0012867536955546025\n"
     ]
    }
   ],
   "source": [
    "for num_layers in range(len(m_a.layers)):\n",
    "    K = Cov2(m_a.layers[num_layers].parameters[0], m_a.layers[num_layers].parameters[0], \\\n",
    "                    l=m_a.layers[num_layers].parameters[1][1], sigma_f=m_a.layers[num_layers].parameters[1][0])\n",
    "    print(np.linalg.eigvals(K).max())"
   ]
  },
  {
   "cell_type": "code",
   "execution_count": 55,
   "id": "3839a3fe",
   "metadata": {},
   "outputs": [],
   "source": [
    "def rmse(predictions, targets):\n",
    "    return np.sqrt(((predictions.flatten() - targets.flatten()) ** 2).mean())"
   ]
  },
  {
   "cell_type": "code",
   "execution_count": 56,
   "id": "e34a3012",
   "metadata": {},
   "outputs": [],
   "source": [
    "Y_pred = m.predict(x)[0]\n",
    "Y_pred_s = m.predict_withSamples(x, nSamples=10)[0]"
   ]
  },
  {
   "cell_type": "code",
   "execution_count": 101,
   "id": "1d3c9694",
   "metadata": {},
   "outputs": [
    {
     "name": "stdout",
     "output_type": "stream",
     "text": [
      "1.5210038041597347\n",
      "1.5066634694731444\n"
     ]
    }
   ],
   "source": [
    "print(rmse(Y_pred,x))\n",
    "print(rmse(Y_pred_s,x))"
   ]
  },
  {
   "cell_type": "code",
   "execution_count": 61,
   "id": "277ab59a",
   "metadata": {},
   "outputs": [],
   "source": [
    "layers = [1 for i in range(20)]\n",
    "\n",
    "kernels = []\n",
    "for i in layers[1:]:\n",
    "    kernels += [GPy.kern.RBF(i,ARD=False,lengthscale = None)]\n",
    "m = deepgp.DeepGP(layers,Y=y, X=x, \n",
    "                  inits=inits, \n",
    "                  kernels=kernels, # the kernels for each layer\n",
    "                  num_inducing=len(x), back_constraint=False,lengthscale = 2)"
   ]
  },
  {
   "cell_type": "code",
   "execution_count": 62,
   "id": "d3c15bd4",
   "metadata": {},
   "outputs": [],
   "source": [
    "\n",
    "for i in range(len(m.layers)):\n",
    "    output_var = m.layers[i].Y.var() if i==0 else m.layers[i].Y.mean.var()\n",
    "    m.layers[i].Gaussian_noise.variance = output_var*0\n",
    "#     if i== 4:\n",
    "#         m.layers[i].fix()\n",
    "    m.layers[i].Gaussian_noise.variance.fix()\n",
    "#     m.layers[i].kern.lengthscale.fix()"
   ]
  },
  {
   "cell_type": "code",
   "execution_count": 63,
   "id": "16c32788",
   "metadata": {},
   "outputs": [
    {
     "data": {
      "application/vnd.jupyter.widget-view+json": {
       "model_id": "361dc02a804c47f885a383a11005cfd4",
       "version_major": 2,
       "version_minor": 0
      },
      "text/plain": [
       "HBox(children=(VBox(children=(IntProgress(value=0, max=5000), HTML(value=''))), Box(children=(HTML(value=''),)…"
      ]
     },
     "metadata": {},
     "output_type": "display_data"
    }
   ],
   "source": [
    "m.optimize(max_iters=5000, messages=True)"
   ]
  },
  {
   "cell_type": "code",
   "execution_count": 64,
   "id": "90894677",
   "metadata": {},
   "outputs": [
    {
     "data": {
      "text/plain": [
       "<matplotlib.collections.PathCollection at 0x15e4b0d30>"
      ]
     },
     "execution_count": 64,
     "metadata": {},
     "output_type": "execute_result"
    },
    {
     "data": {
      "image/png": "[encoded data removed]",
      "text/plain": [
       "<Figure size 432x288 with 1 Axes>"
      ]
     },
     "metadata": {
      "needs_background": "light"
     },
     "output_type": "display_data"
    }
   ],
   "source": [
    "plt.plot(x,m.predict(x)[0])\n",
    "plt.scatter(x,x)"
   ]
  },
  {
   "cell_type": "code",
   "execution_count": 65,
   "id": "666025f1",
   "metadata": {},
   "outputs": [
    {
     "name": "stdout",
     "output_type": "stream",
     "text": [
      "(18704.673710161886+0j)\n",
      "2173.4393876394265\n",
      "133.8458179082703\n",
      "2.856314904405197\n",
      "0.2606850543230408\n",
      "1.101473098888958\n",
      "1.043900835728077\n",
      "0.27898767670288227\n",
      "1.196876527879377\n",
      "1.9991715967038282\n",
      "0.361238007985358\n",
      "0.7212377616468076\n",
      "3.656621420242277\n",
      "2.1686698626307703\n",
      "0.7345073186727769\n",
      "0.30647033617176006\n",
      "0.06345865840373491\n",
      "8.14845778251173\n"
     ]
    }
   ],
   "source": [
    "for num_layers in range(len(m.layers)):\n",
    "    if num_layers>0:\n",
    "        K = Cov2(m.layers[num_layers].parameters[0], m.layers[num_layers].parameters[0], \\\n",
    "                    l=m.layers[num_layers].parameters[1][1], sigma_f=m.layers[num_layers].parameters[1][0])\n",
    "        print(np.linalg.eigvals(K).max())"
   ]
  },
  {
   "cell_type": "code",
   "execution_count": 66,
   "id": "6f25d815",
   "metadata": {},
   "outputs": [
    {
     "name": "stdout",
     "output_type": "stream",
     "text": [
      "27.011288187513216\n",
      "23.909595764294497\n"
     ]
    }
   ],
   "source": [
    "def rmse(predictions, targets):\n",
    "    return np.sqrt(((predictions.flatten() - targets.flatten()) ** 2).mean())\n",
    "Y_pred = m.predict(x)[0]\n",
    "Y_pred_s = m.predict_withSamples(x, nSamples=10)[0]\n",
    "print(rmse(Y_pred,x))\n",
    "print(rmse(Y_pred_s,x))"
   ]
  },
  {
   "cell_type": "code",
   "execution_count": 67,
   "id": "fa21e533",
   "metadata": {},
   "outputs": [],
   "source": [
    "layers = [1 for i in range(20)]\n",
    "\n",
    "kernels = []\n",
    "for i in layers[1:]:\n",
    "    kernels += [GPy.kern.RBF(i,ARD=False,lengthscale = None)]\n",
    "m = deepgp.DeepGP(layers,Y=x, X=x, \n",
    "                  kernels=kernels, # the kernels for each layer\n",
    "                  num_inducing=len(x), back_constraint=False,lengthscale = 2)"
   ]
  },
  {
   "cell_type": "code",
   "execution_count": 68,
   "id": "6d5f0d75",
   "metadata": {},
   "outputs": [],
   "source": [
    "\n",
    "for i in range(len(m.layers)):\n",
    "    output_var = m.layers[i].Y.var() if i==0 else m.layers[i].Y.mean.var()\n",
    "    m.layers[i].Gaussian_noise.variance = output_var*0\n",
    "#     if i== 4:\n",
    "#         m.layers[i].fix()\n",
    "    m.layers[i].Gaussian_noise.variance.fix()\n",
    "#     m.layers[i].kern.lengthscale.fix()"
   ]
  },
  {
   "cell_type": "code",
   "execution_count": 69,
   "id": "cef592cb",
   "metadata": {},
   "outputs": [
    {
     "data": {
      "application/vnd.jupyter.widget-view+json": {
       "model_id": "de72e4fc58364c08923351625be15a11",
       "version_major": 2,
       "version_minor": 0
      },
      "text/plain": [
       "HBox(children=(VBox(children=(IntProgress(value=0, max=5000), HTML(value=''))), Box(children=(HTML(value=''),)…"
      ]
     },
     "metadata": {},
     "output_type": "display_data"
    }
   ],
   "source": [
    "m.optimize(max_iters=5000, messages=True)"
   ]
  },
  {
   "cell_type": "code",
   "execution_count": 70,
   "id": "9c657b09",
   "metadata": {},
   "outputs": [
    {
     "data": {
      "text/plain": [
       "<matplotlib.collections.PathCollection at 0x15e905700>"
      ]
     },
     "execution_count": 70,
     "metadata": {},
     "output_type": "execute_result"
    },
    {
     "data": {
      "image/png": "[encoded data removed]",
      "text/plain": [
       "<Figure size 432x288 with 1 Axes>"
      ]
     },
     "metadata": {
      "needs_background": "light"
     },
     "output_type": "display_data"
    }
   ],
   "source": [
    "plt.plot(x,m.predict(x)[0])\n",
    "plt.scatter(x,x)"
   ]
  },
  {
   "cell_type": "code",
   "execution_count": 71,
   "id": "eb6cb7af",
   "metadata": {},
   "outputs": [
    {
     "name": "stdout",
     "output_type": "stream",
     "text": [
      "19848.364731832084\n",
      "5774.098030866124\n",
      "721.4830629810644\n",
      "83.46270545787071\n",
      "18.85176717632514\n",
      "3.880472091966159\n",
      "0.8964679847630252\n",
      "1.1545561171298748\n",
      "1.0754272527132134\n",
      "15.22337008361406\n",
      "5.2865019318768\n",
      "1.8473112371686407\n",
      "17.7401257038068\n",
      "29.853560637083234\n",
      "3.7299735035821913\n",
      "1.5567477282927278\n",
      "38.18329827083029\n",
      "31.034646109695537\n"
     ]
    }
   ],
   "source": [
    "for num_layers in range(len(m.layers)):\n",
    "    if num_layers>0:\n",
    "        K = Cov2(m.layers[num_layers].parameters[0], m.layers[num_layers].parameters[0], \\\n",
    "                    l=m.layers[num_layers].parameters[1][1], sigma_f=m.layers[num_layers].parameters[1][0])\n",
    "        print(np.linalg.eigvals(K).max())"
   ]
  },
  {
   "cell_type": "code",
   "execution_count": 72,
   "id": "69a811de",
   "metadata": {},
   "outputs": [
    {
     "name": "stdout",
     "output_type": "stream",
     "text": [
      "1.5210038041597347\n",
      "1.5066634694731444\n"
     ]
    }
   ],
   "source": [
    "def rmse(predictions, targets):\n",
    "    return np.sqrt(((predictions.flatten() - targets.flatten()) ** 2).mean())\n",
    "Y_pred = m.predict(x)[0]\n",
    "Y_pred_s = m.predict_withSamples(x, nSamples=10)[0]\n",
    "print(rmse(Y_pred,x))\n",
    "print(rmse(Y_pred_s,x))"
   ]
  },
  {
   "cell_type": "code",
   "execution_count": 73,
   "id": "cb309d50",
   "metadata": {},
   "outputs": [],
   "source": [
    "layers = [1 for i in range(20)]\n",
    "\n",
    "kernels = []\n",
    "for i in layers[1:]:\n",
    "    kernels += [GPy.kern.RBF(i,ARD=False,lengthscale = None)]\n",
    "m = deepgp.DeepGP(layers,Y=x, X=x, \n",
    "                  kernels=kernels, # the kernels for each layer\n",
    "                  num_inducing=len(x), back_constraint=False,lengthscale = 2)\n",
    "\n",
    "for i in range(len(m.layers)):\n",
    "    output_var = m.layers[i].Y.var() if i==0 else m.layers[i].Y.mean.var()\n",
    "    m.layers[i].Gaussian_noise.variance = output_var*0\n",
    "#     if i== 4:\n",
    "#         m.layers[i].fix()\n",
    "    m.layers[i].Gaussian_noise.variance.fix()\n",
    "#     m.layers[i].kern.lengthscale.fix()"
   ]
  },
  {
   "cell_type": "code",
   "execution_count": 84,
   "id": "6409b364",
   "metadata": {},
   "outputs": [
    {
     "data": {
      "application/vnd.jupyter.widget-view+json": {
       "model_id": "07bfa01c775249cd892f780fb2289cca",
       "version_major": 2,
       "version_minor": 0
      },
      "text/plain": [
       "HBox(children=(VBox(children=(IntProgress(value=0, max=200), HTML(value=''))), Box(children=(HTML(value=''),))…"
      ]
     },
     "metadata": {},
     "output_type": "display_data"
    }
   ],
   "source": [
    "m.optimize(max_iters=200, messages=True)"
   ]
  },
  {
   "cell_type": "code",
   "execution_count": 38,
   "id": "1867ecb2",
   "metadata": {
    "scrolled": true
   },
   "outputs": [
    {
     "data": {
      "text/plain": [
       "<matplotlib.collections.PathCollection at 0x15ee0df40>"
      ]
     },
     "execution_count": 38,
     "metadata": {},
     "output_type": "execute_result"
    },
    {
     "data": {
      "image/png": "[encoded data removed]",
      "text/plain": [
       "<Figure size 432x288 with 1 Axes>"
      ]
     },
     "metadata": {
      "needs_background": "light"
     },
     "output_type": "display_data"
    }
   ],
   "source": [
    "plt.plot(x,m.predict(x)[0])\n",
    "plt.scatter(x,x)"
   ]
  },
  {
   "cell_type": "code",
   "execution_count": 85,
   "id": "0051da80",
   "metadata": {},
   "outputs": [
    {
     "name": "stdout",
     "output_type": "stream",
     "text": [
      "(1.9872126252930695+0j)\n",
      "5.972175528753739\n",
      "5.494712047519954\n",
      "5.270523957094616\n",
      "5.63622371749447\n",
      "5.6443881488008625\n",
      "5.481644568821282\n",
      "5.553915713066255\n",
      "5.670313473046874\n",
      "5.699413688337866\n",
      "5.516023637620062\n",
      "5.4025317115414975\n",
      "5.649642227034941\n",
      "5.67511752752117\n",
      "5.660584305298689\n",
      "5.550731739009542\n",
      "6.174668756525666\n",
      "0.9998041401524822\n"
     ]
    }
   ],
   "source": [
    "for num_layers in range(len(m.layers)):\n",
    "    if num_layers>0:\n",
    "        K = Cov2(m.layers[num_layers].parameters[0], m.layers[num_layers].parameters[0], \\\n",
    "                    l=m.layers[num_layers].parameters[1][1], sigma_f=m.layers[num_layers].parameters[1][0])\n",
    "        print(np.linalg.eigvals(K).max())"
   ]
  },
  {
   "cell_type": "code",
   "execution_count": 76,
   "id": "108a988b",
   "metadata": {},
   "outputs": [
    {
     "data": {
      "text/html": [
       "<style type=\"text/css\">\n",
       ".tg  {padding:2px 3px;word-break:normal;border-collapse:collapse;border-spacing:0;border-color:#DCDCDC;margin:0px auto;width:100%;}\n",
       ".tg td{font-family:\"Courier New\", Courier, monospace !important;font-weight:bold;color:#444;background-color:#F7FDFA;border-style:solid;border-width:1px;overflow:hidden;word-break:normal;border-color:#DCDCDC;}\n",
       ".tg th{font-family:\"Courier New\", Courier, monospace !important;font-weight:normal;color:#fff;background-color:#26ADE4;border-style:solid;border-width:1px;overflow:hidden;word-break:normal;border-color:#DCDCDC;}\n",
       ".tg .tg-left{font-family:\"Courier New\", Courier, monospace !important;font-weight:normal;text-align:left;}\n",
       ".tg .tg-right{font-family:\"Courier New\", Courier, monospace !important;font-weight:normal;text-align:right;}\n",
       "</style>\n",
       "<table class=\"tg\">\n",
       "\n",
       "<tr>\n",
       "  <th><b>index</b></th>\n",
       "  <th><b>deepgp.layer_1.inducing_inputs</b></th>\n",
       "  <th><b>constraints</b></th><th><b>priors</b></th>\n",
       "</tr>\n",
       "<tr><td class=tg-left>  [0 0]  </td><td class=tg-right>                    0.26726145</td><td class=tg-left>           </td><td class=tg-left>      </td></tr>\n",
       "<tr><td class=tg-left>  [1 0]  </td><td class=tg-right>                   -0.53452217</td><td class=tg-left>           </td><td class=tg-left>      </td></tr>\n",
       "<tr><td class=tg-left>  [2 0]  </td><td class=tg-right>                   -1.06904493</td><td class=tg-left>           </td><td class=tg-left>      </td></tr>\n",
       "<tr><td class=tg-left>  [3 0]  </td><td class=tg-right>                   -1.33630746</td><td class=tg-left>           </td><td class=tg-left>      </td></tr>\n",
       "<tr><td class=tg-left>  [4 0]  </td><td class=tg-right>                    1.60358584</td><td class=tg-left>           </td><td class=tg-left>      </td></tr>\n",
       "<tr><td class=tg-left>  [5 0]  </td><td class=tg-right>                   -0.00000000</td><td class=tg-left>           </td><td class=tg-left>      </td></tr>\n",
       "<tr><td class=tg-left>  [6 0]  </td><td class=tg-right>                    0.53452222</td><td class=tg-left>           </td><td class=tg-left>      </td></tr>\n",
       "<tr><td class=tg-left>  [7 0]  </td><td class=tg-right>                    1.33630711</td><td class=tg-left>           </td><td class=tg-left>      </td></tr>\n",
       "<tr><td class=tg-left>  [8 0]  </td><td class=tg-right>                   -1.60358376</td><td class=tg-left>           </td><td class=tg-left>      </td></tr>\n",
       "<tr><td class=tg-left>  [9 0]  </td><td class=tg-right>                    0.80178426</td><td class=tg-left>           </td><td class=tg-left>      </td></tr>\n",
       "<tr><td class=tg-left>  [10  0]</td><td class=tg-right>                    1.06904515</td><td class=tg-left>           </td><td class=tg-left>      </td></tr>\n",
       "<tr><td class=tg-left>  [11  0]</td><td class=tg-right>                   -0.80178434</td><td class=tg-left>           </td><td class=tg-left>      </td></tr>\n",
       "<tr><td class=tg-left>  [12  0]</td><td class=tg-right>                   -0.26726144</td><td class=tg-left>           </td><td class=tg-left>      </td></tr>"
      ],
      "text/plain": [
       "\u001b[1mdeepgp.layer_1.inducing_inputs\u001b[0;0m:\n",
       "Param([[ 2.67261448e-01],\n",
       "       [-5.34522167e-01],\n",
       "       [-1.06904493e+00],\n",
       "       [-1.33630746e+00],\n",
       "       [ 1.60358584e+00],\n",
       "       [-7.76469255e-10],\n",
       "       [ 5.34522221e-01],\n",
       "       [ 1.33630711e+00],\n",
       "       [-1.60358376e+00],\n",
       "       [ 8.01784262e-01],\n",
       "       [ 1.06904515e+00],\n",
       "       [-8.01784338e-01],\n",
       "       [-2.67261438e-01]])"
      ]
     },
     "execution_count": 76,
     "metadata": {},
     "output_type": "execute_result"
    }
   ],
   "source": [
    "m.layers[1].parameters[0]"
   ]
  },
  {
   "cell_type": "code",
   "execution_count": 77,
   "id": "0bf96083",
   "metadata": {},
   "outputs": [
    {
     "data": {
      "text/html": [
       "<style type=\"text/css\">\n",
       ".tg  {padding:2px 3px;word-break:normal;border-collapse:collapse;border-spacing:0;border-color:#DCDCDC;margin:0px auto;width:100%;}\n",
       ".tg td{font-family:\"Courier New\", Courier, monospace !important;font-weight:bold;color:#444;background-color:#F7FDFA;border-style:solid;border-width:1px;overflow:hidden;word-break:normal;border-color:#DCDCDC;}\n",
       ".tg th{font-family:\"Courier New\", Courier, monospace !important;font-weight:normal;color:#fff;background-color:#26ADE4;border-style:solid;border-width:1px;overflow:hidden;word-break:normal;border-color:#DCDCDC;}\n",
       ".tg .tg-left{font-family:\"Courier New\", Courier, monospace !important;font-weight:normal;text-align:left;}\n",
       ".tg .tg-right{font-family:\"Courier New\", Courier, monospace !important;font-weight:normal;text-align:right;}\n",
       "</style>\n",
       "<table class=\"tg\">\n",
       "\n",
       "<tr>\n",
       "  <th><b>index</b></th>\n",
       "  <th><b>deepgp.layer_2.inducing_inputs</b></th>\n",
       "  <th><b>constraints</b></th><th><b>priors</b></th>\n",
       "</tr>\n",
       "<tr><td class=tg-left>  [0 0]  </td><td class=tg-right>                   -0.26726149</td><td class=tg-left>           </td><td class=tg-left>      </td></tr>\n",
       "<tr><td class=tg-left>  [1 0]  </td><td class=tg-right>                    1.06904527</td><td class=tg-left>           </td><td class=tg-left>      </td></tr>\n",
       "<tr><td class=tg-left>  [2 0]  </td><td class=tg-right>                    0.80178413</td><td class=tg-left>           </td><td class=tg-left>      </td></tr>\n",
       "<tr><td class=tg-left>  [3 0]  </td><td class=tg-right>                   -1.60358481</td><td class=tg-left>           </td><td class=tg-left>      </td></tr>\n",
       "<tr><td class=tg-left>  [4 0]  </td><td class=tg-right>                    0.26726144</td><td class=tg-left>           </td><td class=tg-left>      </td></tr>\n",
       "<tr><td class=tg-left>  [5 0]  </td><td class=tg-right>                   -1.33630717</td><td class=tg-left>           </td><td class=tg-left>      </td></tr>\n",
       "<tr><td class=tg-left>  [6 0]  </td><td class=tg-right>                   -1.06904515</td><td class=tg-left>           </td><td class=tg-left>      </td></tr>\n",
       "<tr><td class=tg-left>  [7 0]  </td><td class=tg-right>                    0.00000004</td><td class=tg-left>           </td><td class=tg-left>      </td></tr>\n",
       "<tr><td class=tg-left>  [8 0]  </td><td class=tg-right>                    0.53452225</td><td class=tg-left>           </td><td class=tg-left>      </td></tr>\n",
       "<tr><td class=tg-left>  [9 0]  </td><td class=tg-right>                    1.33630688</td><td class=tg-left>           </td><td class=tg-left>      </td></tr>\n",
       "<tr><td class=tg-left>  [10  0]</td><td class=tg-right>                    1.60358569</td><td class=tg-left>           </td><td class=tg-left>      </td></tr>\n",
       "<tr><td class=tg-left>  [11  0]</td><td class=tg-right>                   -0.53452224</td><td class=tg-left>           </td><td class=tg-left>      </td></tr>\n",
       "<tr><td class=tg-left>  [12  0]</td><td class=tg-right>                   -0.80178418</td><td class=tg-left>           </td><td class=tg-left>      </td></tr>"
      ],
      "text/plain": [
       "\u001b[1mdeepgp.layer_2.inducing_inputs\u001b[0;0m:\n",
       "Param([[-2.67261491e-01],\n",
       "       [ 1.06904527e+00],\n",
       "       [ 8.01784128e-01],\n",
       "       [-1.60358481e+00],\n",
       "       [ 2.67261436e-01],\n",
       "       [-1.33630717e+00],\n",
       "       [-1.06904515e+00],\n",
       "       [ 4.42912435e-08],\n",
       "       [ 5.34522253e-01],\n",
       "       [ 1.33630688e+00],\n",
       "       [ 1.60358569e+00],\n",
       "       [-5.34522241e-01],\n",
       "       [-8.01784178e-01]])"
      ]
     },
     "execution_count": 77,
     "metadata": {},
     "output_type": "execute_result"
    }
   ],
   "source": [
    "m.layers[2].parameters[0]"
   ]
  },
  {
   "cell_type": "code",
   "execution_count": null,
   "id": "098963f1",
   "metadata": {},
   "outputs": [],
   "source": []
  },
  {
   "cell_type": "code",
   "execution_count": null,
   "id": "5b7ca58d",
   "metadata": {},
   "outputs": [],
   "source": []
  }
 ],
 "metadata": {
  "kernelspec": {
   "display_name": "Python 3 (ipykernel)",
   "language": "python",
   "name": "python3"
  },
  "language_info": {
   "codemirror_mode": {
    "name": "ipython",
    "version": 3
   },
   "file_extension": ".py",
   "mimetype": "text/x-python",
   "name": "python",
   "nbconvert_exporter": "python",
   "pygments_lexer": "ipython3",
   "version": "3.9.16"
  }
 },
 "nbformat": 4,
 "nbformat_minor": 5
}

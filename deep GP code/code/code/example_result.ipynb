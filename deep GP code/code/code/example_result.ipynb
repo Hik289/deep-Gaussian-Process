{
 "cells": [
  {
   "cell_type": "code",
   "execution_count": 76,
   "id": "57d9b353",
   "metadata": {},
   "outputs": [],
   "source": [
    "import pods\n",
    "import numpy as np\n",
    "import pandas as pd\n",
    "import teaching_plots as plot\n",
    "import mlai"
   ]
  },
  {
   "cell_type": "code",
   "execution_count": 80,
   "id": "377f06bf",
   "metadata": {},
   "outputs": [
    {
     "data": {
      "text/plain": [
       "array([0.        , 0.03846154, 0.07692308, 0.11538462, 0.15384615,\n",
       "       0.19230769, 0.23076923, 0.26923077, 0.30769231, 0.34615385,\n",
       "       0.38461538, 0.42307692, 0.46153846, 0.5       , 0.53846154,\n",
       "       0.57692308, 0.61538462, 0.65384615, 0.69230769, 0.73076923,\n",
       "       0.76923077, 0.80769231, 0.84615385, 0.88461538, 0.92307692,\n",
       "       0.96153846, 1.        ])"
      ]
     },
     "execution_count": 80,
     "metadata": {},
     "output_type": "execute_result"
    }
   ],
   "source": [
    "pd.read_csv('./data/x_2.csv')['x'].values"
   ]
  },
  {
   "cell_type": "code",
   "execution_count": 101,
   "id": "915488a4",
   "metadata": {},
   "outputs": [],
   "source": [
    "data = pods.datasets.olympic_marathon_men()\n",
    "x = data['X']\n",
    "y = data['Y']\n",
    "offset = y.mean()\n",
    "scale = np.sqrt(y.var())\n",
    "yhat = (y-offset)/scale"
   ]
  },
  {
   "cell_type": "code",
   "execution_count": 81,
   "id": "28246360",
   "metadata": {},
   "outputs": [],
   "source": [
    "data = pods.datasets.olympic_marathon_men()\n",
    "\n",
    "x = pd.read_csv('./data/x_2.csv')['x'].values.reshape(-1,1)\n",
    "y = pd.read_csv('./data/y_2.csv')['x'].values.reshape(-1,1)\n",
    "\n",
    "offset = y.mean()\n",
    "scale = np.sqrt(y.var())\n",
    "yhat = (y-offset)/scale"
   ]
  },
  {
   "cell_type": "code",
   "execution_count": 95,
   "id": "984e6032",
   "metadata": {},
   "outputs": [],
   "source": [
    "data = pods.datasets.olympic_marathon_men()\n",
    "\n",
    "x = pd.read_csv('./data/x_3.csv')['x'].values.reshape(-1,1)\n",
    "y = pd.read_csv('./data/y_3.csv')['x'].values.reshape(-1,1)\n",
    "\n",
    "offset = y.mean()\n",
    "scale = np.sqrt(y.var())\n",
    "yhat = (y-offset)/scale"
   ]
  },
  {
   "cell_type": "code",
   "execution_count": 4,
   "id": "4793c144",
   "metadata": {},
   "outputs": [],
   "source": [
    "import matplotlib.pyplot as plt\n",
    "import GPy\n",
    "import DGP\n"
   ]
  },
  {
   "cell_type": "code",
   "execution_count": 82,
   "id": "63571e7b",
   "metadata": {},
   "outputs": [
    {
     "data": {
      "text/plain": [
       "(array([[0.        ],\n",
       "        [0.03846154],\n",
       "        [0.07692308],\n",
       "        [0.11538462],\n",
       "        [0.15384615],\n",
       "        [0.19230769],\n",
       "        [0.23076923],\n",
       "        [0.26923077],\n",
       "        [0.30769231],\n",
       "        [0.34615385],\n",
       "        [0.38461538],\n",
       "        [0.42307692],\n",
       "        [0.46153846],\n",
       "        [0.5       ],\n",
       "        [0.53846154],\n",
       "        [0.57692308],\n",
       "        [0.61538462],\n",
       "        [0.65384615],\n",
       "        [0.69230769],\n",
       "        [0.73076923],\n",
       "        [0.76923077],\n",
       "        [0.80769231],\n",
       "        [0.84615385],\n",
       "        [0.88461538],\n",
       "        [0.92307692],\n",
       "        [0.96153846],\n",
       "        [1.        ]]),\n",
       " array([[ 0.12584719],\n",
       "        [ 0.43703836],\n",
       "        [ 0.63685699],\n",
       "        [ 1.32715586],\n",
       "        [ 1.83427284],\n",
       "        [ 1.42434489],\n",
       "        [ 0.69779001],\n",
       "        [ 0.446963  ],\n",
       "        [ 0.20211493],\n",
       "        [-0.71017226],\n",
       "        [-1.68270675],\n",
       "        [-1.83948875],\n",
       "        [-1.59446598],\n",
       "        [-1.73734442],\n",
       "        [-1.84634738],\n",
       "        [-1.13248844],\n",
       "        [-0.01888931],\n",
       "        [ 0.04690001],\n",
       "        [ 0.11268932],\n",
       "        [ 0.17847864],\n",
       "        [ 0.24426795],\n",
       "        [ 0.31005727],\n",
       "        [ 0.37584658],\n",
       "        [ 0.44163589],\n",
       "        [ 0.50742521],\n",
       "        [ 0.57321452],\n",
       "        [ 0.63900384]]))"
      ]
     },
     "execution_count": 82,
     "metadata": {},
     "output_type": "execute_result"
    }
   ],
   "source": [
    "x,yhat"
   ]
  },
  {
   "cell_type": "code",
   "execution_count": 63,
   "id": "e1c3bed1",
   "metadata": {},
   "outputs": [
    {
     "data": {
      "text/plain": [
       "13"
      ]
     },
     "execution_count": 63,
     "metadata": {},
     "output_type": "execute_result"
    }
   ],
   "source": [
    "xs.shape[0]"
   ]
  },
  {
   "cell_type": "code",
   "execution_count": 9,
   "id": "8ad12ecc",
   "metadata": {},
   "outputs": [
    {
     "data": {
      "text/plain": [
       "array([[1896.],\n",
       "       [1900.],\n",
       "       [1904.],\n",
       "       [1908.],\n",
       "       [1912.],\n",
       "       [1920.],\n",
       "       [1924.],\n",
       "       [1928.],\n",
       "       [1932.],\n",
       "       [1936.],\n",
       "       [1948.],\n",
       "       [1952.],\n",
       "       [1956.],\n",
       "       [1960.],\n",
       "       [1964.],\n",
       "       [1968.],\n",
       "       [1972.],\n",
       "       [1976.],\n",
       "       [1980.],\n",
       "       [1984.],\n",
       "       [1988.],\n",
       "       [1992.],\n",
       "       [1996.],\n",
       "       [2000.],\n",
       "       [2004.],\n",
       "       [2008.],\n",
       "       [2012.]])"
      ]
     },
     "execution_count": 9,
     "metadata": {},
     "output_type": "execute_result"
    }
   ],
   "source": [
    "x"
   ]
  },
  {
   "cell_type": "code",
   "execution_count": 102,
   "id": "be7b1fd6",
   "metadata": {},
   "outputs": [],
   "source": [
    "layers = [1,1,1]\n",
    "\n",
    "kernels = []\n",
    "for i in layers[1:]:\n",
    "    kernels += [GPy.kern.RBF(i,ARD=False,variance = 1)]\n",
    "m_a = DGP.DGP(layers,Y=yhat, X=x, inits = None,\n",
    "                  kernels=kernels, # the kernels for each layer\n",
    "                  num_inducing=len(x), back_constraint=False,lengthscale = 2)"
   ]
  },
  {
   "cell_type": "code",
   "execution_count": 103,
   "id": "96cec791",
   "metadata": {},
   "outputs": [],
   "source": [
    "\n",
    "for i in range(len(m_a.layers)):\n",
    "    output_var = m_a.layers[i].Y.var() if i==0 else m_a.layers[i].Y.mean.var()\n",
    "    m_a.layers[i].Gaussian_noise.variance = output_var*0\n",
    "#     if i== 2:\n",
    "#         m_a.layers[i].fix()\n",
    "    m_a.layers[i].Gaussian_noise.variance.fix()\n",
    "#    m_a.layers[i].kern.variance.fix()"
   ]
  },
  {
   "cell_type": "code",
   "execution_count": 104,
   "id": "ef94b53e",
   "metadata": {},
   "outputs": [
    {
     "data": {
      "application/vnd.jupyter.widget-view+json": {
       "model_id": "5ad6071053f546b19d3cb8982a2d3d06",
       "version_major": 2,
       "version_minor": 0
      },
      "text/plain": [
       "HBox(children=(VBox(children=(IntProgress(value=0, max=2000), HTML(value=''))), Box(children=(HTML(value=''),)…"
      ]
     },
     "metadata": {},
     "output_type": "display_data"
    }
   ],
   "source": [
    "m_a.optimize(max_iters=2000, messages=True)"
   ]
  },
  {
   "cell_type": "code",
   "execution_count": 241,
   "id": "66e47ee0",
   "metadata": {},
   "outputs": [
    {
     "data": {
      "text/html": [
       "<style type=\"text/css\">\n",
       ".tg  {font-family:\"Courier New\", Courier, monospace !important;padding:2px 3px;word-break:normal;border-collapse:collapse;border-spacing:0;border-color:#DCDCDC;margin:0px auto;width:100%;}\n",
       ".tg td{font-family:\"Courier New\", Courier, monospace !important;font-weight:bold;color:#444;background-color:#F7FDFA;border-style:solid;border-width:1px;overflow:hidden;word-break:normal;border-color:#DCDCDC;}\n",
       ".tg th{font-family:\"Courier New\", Courier, monospace !important;font-weight:normal;color:#fff;background-color:#26ADE4;border-style:solid;border-width:1px;overflow:hidden;word-break:normal;border-color:#DCDCDC;}\n",
       ".tg .tg-left{font-family:\"Courier New\", Courier, monospace !important;font-weight:normal;text-align:left;}\n",
       ".tg .tg-center{font-family:\"Courier New\", Courier, monospace !important;font-weight:normal;text-align:center;}\n",
       ".tg .tg-right{font-family:\"Courier New\", Courier, monospace !important;font-weight:normal;text-align:right;}\n",
       "</style>\n",
       "<table class=\"tg\"><tr><th><b>  Gaussian_noise.</b></th><th><b>value</b></th><th><b>constraints</b></th><th><b>priors</b></th></tr>\n",
       "<tr><td class=tg-left>  variance       </td><td class=tg-right>  0.0</td><td class=tg-center> +ve fixed </td><td class=tg-center>      </td></tr>\n",
       "</table>"
      ],
      "text/plain": [
       "<GPy.likelihoods.gaussian.Gaussian at 0x158218e50>"
      ]
     },
     "execution_count": 241,
     "metadata": {},
     "output_type": "execute_result"
    }
   ],
   "source": [
    "m_a.layers[0].Gaussian_noise"
   ]
  },
  {
   "cell_type": "code",
   "execution_count": 121,
   "id": "1eda4d14",
   "metadata": {},
   "outputs": [],
   "source": [
    "?m_a.add_layer"
   ]
  },
  {
   "cell_type": "code",
   "execution_count": 29,
   "id": "a4a1224d",
   "metadata": {},
   "outputs": [
    {
     "data": {
      "text/plain": [
       "(array([[1896.],\n",
       "        [1900.],\n",
       "        [1904.],\n",
       "        [1908.],\n",
       "        [1912.],\n",
       "        [1920.],\n",
       "        [1924.],\n",
       "        [1928.],\n",
       "        [1932.],\n",
       "        [1936.],\n",
       "        [1948.],\n",
       "        [1952.],\n",
       "        [1956.],\n",
       "        [1960.],\n",
       "        [1964.],\n",
       "        [1968.],\n",
       "        [1972.],\n",
       "        [1976.],\n",
       "        [1980.],\n",
       "        [1984.],\n",
       "        [1988.],\n",
       "        [1992.],\n",
       "        [1996.],\n",
       "        [2000.],\n",
       "        [2004.],\n",
       "        [2008.],\n",
       "        [2012.]]),\n",
       " array([[ 1.81301671],\n",
       "        [ 1.80160272],\n",
       "        [ 3.21777734],\n",
       "        [ 1.22183985],\n",
       "        [ 0.75181877],\n",
       "        [ 0.1276393 ],\n",
       "        [ 0.60452323],\n",
       "        [ 0.23109026],\n",
       "        [ 0.17126417],\n",
       "        [ 0.07022455],\n",
       "        [ 0.31573309],\n",
       "        [-0.20748668],\n",
       "        [-0.12121894],\n",
       "        [-0.55240994],\n",
       "        [-0.68904978],\n",
       "        [-0.32359361],\n",
       "        [-0.68328875],\n",
       "        [-0.78964624],\n",
       "        [-0.73942187],\n",
       "        [-0.81475843],\n",
       "        [-0.76231827],\n",
       "        [-0.63601875],\n",
       "        [-0.67073265],\n",
       "        [-0.77782874],\n",
       "        [-0.74533062],\n",
       "        [-0.93958076],\n",
       "        [-0.87384592]]))"
      ]
     },
     "execution_count": 29,
     "metadata": {},
     "output_type": "execute_result"
    }
   ],
   "source": [
    "x,yhat"
   ]
  },
  {
   "cell_type": "code",
   "execution_count": 106,
   "id": "34510e6f",
   "metadata": {},
   "outputs": [
    {
     "data": {
      "text/plain": [
       "Text(0.5, 1.0, '3-layer Gaussian Process regression')"
      ]
     },
     "execution_count": 106,
     "metadata": {},
     "output_type": "execute_result"
    },
    {
     "data": {
      "image/png": "[encoded data removed]",
      "text/plain": [
       "<Figure size 432x288 with 1 Axes>"
      ]
     },
     "metadata": {
      "needs_background": "light"
     },
     "output_type": "display_data"
    }
   ],
   "source": [
    "plt.plot(np.linspace(1896,2012,100).reshape(-1,1),m_a.predict(np.linspace(1896,2012,100).reshape(-1,1))[0])\n",
    "plt.scatter(x,yhat,c = 'red')\n",
    "plt.xlabel('year')\n",
    "plt.ylabel('speed')\n",
    "plt.title('3-layer Gaussian Process regression')"
   ]
  },
  {
   "cell_type": "code",
   "execution_count": 148,
   "id": "446272d3",
   "metadata": {},
   "outputs": [],
   "source": [
    "\n",
    "for i in range(len(m_a.layers)):\n",
    "    output_var = m_a.layers[i].Y.var() if i==0 else m_a.layers[i].Y.mean.var()\n",
    "    m_a.layers[i].Gaussian_noise.variance = output_var*0\n",
    "#     if i== 2:\n",
    "#         m_a.layers[i].fix()\n",
    "    m_a.layers[i].Gaussian_noise.variance.fix()\n",
    "#    m_a.layers[i].kern.variance.fix()"
   ]
  },
  {
   "cell_type": "code",
   "execution_count": 149,
   "id": "db5d90a2",
   "metadata": {},
   "outputs": [
    {
     "data": {
      "application/vnd.jupyter.widget-view+json": {
       "model_id": "18e36cdceb174761a83eab69485b8928",
       "version_major": 2,
       "version_minor": 0
      },
      "text/plain": [
       "HBox(children=(VBox(children=(IntProgress(value=0, max=2000), HTML(value=''))), Box(children=(HTML(value=''),)…"
      ]
     },
     "metadata": {},
     "output_type": "display_data"
    }
   ],
   "source": [
    "m_a.optimize(max_iters=2000, messages=True)"
   ]
  },
  {
   "cell_type": "code",
   "execution_count": 24,
   "id": "2d359544",
   "metadata": {
    "scrolled": true
   },
   "outputs": [
    {
     "data": {
      "text/plain": [
       "<matplotlib.collections.PathCollection at 0x14eed6550>"
      ]
     },
     "execution_count": 24,
     "metadata": {},
     "output_type": "execute_result"
    },
    {
     "data": {
      "image/png": "[encoded data removed]",
      "text/plain": [
       "<Figure size 432x288 with 1 Axes>"
      ]
     },
     "metadata": {
      "needs_background": "light"
     },
     "output_type": "display_data"
    }
   ],
   "source": [
    "plt.plot(np.array(range(0,260,10)).reshape(-1,1),m_a.predict(np.array(range(0,260,10)).reshape(-1,1))[0])\n",
    "plt.scatter(x,yhat)"
   ]
  },
  {
   "cell_type": "code",
   "execution_count": 54,
   "id": "7b672ca2",
   "metadata": {},
   "outputs": [
    {
     "data": {
      "application/vnd.jupyter.widget-view+json": {
       "model_id": "e93bb59b88124b15ab6f25a4357f9e08",
       "version_major": 2,
       "version_minor": 0
      },
      "text/plain": [
       "HBox(children=(VBox(children=(IntProgress(value=0, max=1000), HTML(value=''))), Box(children=(HTML(value=''),)…"
      ]
     },
     "metadata": {},
     "output_type": "display_data"
    }
   ],
   "source": [
    "m_full = GPy.models.GPRegression(np.hstack([x,x+10]),yhat,noise_var=0.000001)\n",
    "_ = m_full.optimize(messages=True) # Optimize parameters of covariance function"
   ]
  },
  {
   "cell_type": "code",
   "execution_count": 56,
   "id": "583fc7ed",
   "metadata": {},
   "outputs": [
    {
     "data": {
      "text/plain": [
       "<matplotlib.collections.PathCollection at 0x17654bb20>"
      ]
     },
     "execution_count": 56,
     "metadata": {},
     "output_type": "execute_result"
    },
    {
     "data": {
      "image/png": "[encoded data removed]",
      "text/plain": [
       "<Figure size 432x288 with 1 Axes>"
      ]
     },
     "metadata": {
      "needs_background": "light"
     },
     "output_type": "display_data"
    }
   ],
   "source": [
    "plt.plot(np.array(range(0,260,10)).reshape(-1,1),\\\n",
    "            m_full.predict(np.hstack([np.array(range(0,260,10)).reshape(-1,1),np.array(range(10,270,10)).reshape(-1,1)]))[0])\n",
    "plt.scatter(x,yhat)"
   ]
  },
  {
   "cell_type": "code",
   "execution_count": 52,
   "id": "6f163c45",
   "metadata": {},
   "outputs": [
    {
     "data": {
      "text/plain": [
       "array([[-1.03226805e+00],\n",
       "       [-6.84473535e-44],\n",
       "       [-8.07676997e-01],\n",
       "       [-1.24278802e-43],\n",
       "       [-2.53308279e+00],\n",
       "       [-1.25768922e-43],\n",
       "       [-8.47733168e-01],\n",
       "       [ 6.10441652e-45],\n",
       "       [ 1.01182703e+00],\n",
       "       [ 4.36778686e-44],\n",
       "       [ 1.62285238e-01],\n",
       "       [ 2.84333053e-44],\n",
       "       [ 6.02035315e-01],\n",
       "       [ 2.86247047e-44],\n",
       "       [ 1.67430279e-01],\n",
       "       [ 9.78874612e-45],\n",
       "       [ 9.57026831e-02],\n",
       "       [ 3.13324497e-44],\n",
       "       [ 7.46550268e-01],\n",
       "       [ 6.05270388e-44],\n",
       "       [ 8.80487436e-01],\n",
       "       [ 5.12656434e-44],\n",
       "       [ 4.97593113e-01],\n",
       "       [ 5.78264512e-44],\n",
       "       [ 1.05684963e+00],\n",
       "       [ 3.93156093e-44]])"
      ]
     },
     "execution_count": 52,
     "metadata": {},
     "output_type": "execute_result"
    }
   ],
   "source": [
    "m_full.predict(np.hstack([np.array(range(0,260,10)).reshape(-1,1),np.array(range(0,260,10)).reshape(-1,1)]))[0]"
   ]
  },
  {
   "cell_type": "code",
   "execution_count": 49,
   "id": "b3f608ff",
   "metadata": {},
   "outputs": [
    {
     "data": {
      "text/plain": [
       "(26, 1)"
      ]
     },
     "execution_count": 49,
     "metadata": {},
     "output_type": "execute_result"
    }
   ],
   "source": [
    "np.array(range(0,260,10)).reshape(-1,1).shape"
   ]
  },
  {
   "cell_type": "code",
   "execution_count": 67,
   "id": "8d9a4fc0",
   "metadata": {},
   "outputs": [],
   "source": [
    "layers = [1 for i in range(5)]\n",
    "\n",
    "kernels = []\n",
    "for i in layers[1:]:\n",
    "    kernels += [GPy.kern.RBF(i,ARD=False,lengthscale = 5)]\n",
    "m_a = DGP.DGP(layers,Y=yhat, X=x, inits = None,\n",
    "                  kernels=kernels, # the kernels for each layer\n",
    "                  num_inducing=len(x), back_constraint=False,lengthscale = 2)"
   ]
  },
  {
   "cell_type": "code",
   "execution_count": 68,
   "id": "b191a398",
   "metadata": {},
   "outputs": [],
   "source": [
    "\n",
    "for i in range(len(m_a.layers)):\n",
    "    output_var = m_a.layers[i].Y.var() if i==0 else m_a.layers[i].Y.mean.var()\n",
    "    m_a.layers[i].Gaussian_noise.variance = output_var*0\n",
    "#     if i== 4:\n",
    "#         m.layers[i].fix()\n",
    "    m_a.layers[i].Gaussian_noise.variance.fix()\n",
    "#    m_a.layers[i].kern.lengthscale.fix()"
   ]
  },
  {
   "cell_type": "code",
   "execution_count": null,
   "id": "bb12d6dd",
   "metadata": {},
   "outputs": [],
   "source": []
  },
  {
   "cell_type": "code",
   "execution_count": 80,
   "id": "6d5afa52",
   "metadata": {},
   "outputs": [
    {
     "data": {
      "application/vnd.jupyter.widget-view+json": {
       "model_id": "1e0110c041e6434883904d76788dbab1",
       "version_major": 2,
       "version_minor": 0
      },
      "text/plain": [
       "HBox(children=(VBox(children=(IntProgress(value=0, max=10000), HTML(value=''))), Box(children=(HTML(value=''),…"
      ]
     },
     "metadata": {},
     "output_type": "display_data"
    }
   ],
   "source": [
    "m_a.optimize(max_iters=10000, messages=True)"
   ]
  },
  {
   "cell_type": "code",
   "execution_count": 81,
   "id": "b7172ccf",
   "metadata": {},
   "outputs": [
    {
     "data": {
      "text/plain": [
       "<matplotlib.collections.PathCollection at 0x12f2e8730>"
      ]
     },
     "execution_count": 81,
     "metadata": {},
     "output_type": "execute_result"
    },
    {
     "data": {
      "image/png": "[encoded data removed]",
      "text/plain": [
       "<Figure size 432x288 with 1 Axes>"
      ]
     },
     "metadata": {
      "needs_background": "light"
     },
     "output_type": "display_data"
    }
   ],
   "source": [
    "plt.plot(np.array(range(0,260,1)).reshape(-1,1),m_a.predict(np.array(range(0,260,1)).reshape(-1,1))[0])\n",
    "plt.scatter(x,yhat)"
   ]
  },
  {
   "cell_type": "code",
   "execution_count": null,
   "id": "d6d822f5",
   "metadata": {},
   "outputs": [],
   "source": []
  },
  {
   "cell_type": "code",
   "execution_count": null,
   "id": "9dc8a566",
   "metadata": {},
   "outputs": [],
   "source": []
  },
  {
   "cell_type": "code",
   "execution_count": 387,
   "id": "b245488a",
   "metadata": {},
   "outputs": [
    {
     "name": "stdout",
     "output_type": "stream",
     "text": [
      "\n",
      "Name : layer_3\n",
      "Objective : 6532.852260430049\n",
      "Number of Parameters : 29\n",
      "Number of Optimization Parameters : 28\n",
      "Updates : True\n",
      "Parameters:\n",
      "  \u001b[1mlayer_3.               \u001b[0;0m  |    value  |  constraints  |  priors\n",
      "  \u001b[1minducing_inputs        \u001b[0;0m  |  (13, 1)  |               |        \n",
      "  \u001b[1mrbf.variance           \u001b[0;0m  |      1.0  |      +ve      |        \n",
      "  \u001b[1mrbf.lengthscale        \u001b[0;0m  |     20.0  |      +ve      |        \n",
      "  \u001b[1mGaussian_noise.variance\u001b[0;0m  |      0.0  |   +ve fixed   |        \n",
      "  \u001b[1mKuu_var                \u001b[0;0m  |    (13,)  |      +ve      |        \n",
      "mean [[-0.67696538]\n",
      " [-0.1832465 ]\n",
      " [ 0.02914462]\n",
      " [-1.93447878]\n",
      " [ 0.1327034 ]\n",
      " [-1.64430492]\n",
      " [ 1.45119008]\n",
      " [-0.12361144]\n",
      " [-0.08226884]\n",
      " [ 1.15329114]\n",
      " [ 1.37536651]\n",
      " [-0.28095735]\n",
      " [ 0.78413654]] var [[0.00099903]\n",
      " [0.00099723]\n",
      " [0.00099635]\n",
      " [0.000996  ]\n",
      " [0.00099587]\n",
      " [0.00099582]\n",
      " [0.00099581]\n",
      " [0.00099582]\n",
      " [0.00099587]\n",
      " [0.000996  ]\n",
      " [0.00099635]\n",
      " [0.00099723]\n",
      " [0.00099903]]\n",
      "result   \u001b[1mlatent_space.\u001b[0;0m  |    value  |  constraints  |  priors\n",
      "  \u001b[1mmean         \u001b[0;0m  |  (13, 1)  |               |        \n",
      "  \u001b[1mvariance     \u001b[0;0m  |  (13, 1)  |      +ve      |        \n",
      "\n",
      "Name : layer_2\n",
      "Objective : 5907061.344261017\n",
      "Number of Parameters : 55\n",
      "Number of Optimization Parameters : 54\n",
      "Updates : True\n",
      "Parameters:\n",
      "  \u001b[1mlayer_2.               \u001b[0;0m  |    value  |  constraints  |  priors\n",
      "  \u001b[1minducing_inputs        \u001b[0;0m  |  (13, 1)  |               |        \n",
      "  \u001b[1mrbf.variance           \u001b[0;0m  |      1.0  |      +ve      |        \n",
      "  \u001b[1mrbf.lengthscale        \u001b[0;0m  |     20.0  |      +ve      |        \n",
      "  \u001b[1mGaussian_noise.variance\u001b[0;0m  |      0.0  |   +ve fixed   |        \n",
      "  \u001b[1mKuu_var                \u001b[0;0m  |    (13,)  |      +ve      |        \n",
      "  \u001b[1mlatent_space.mean      \u001b[0;0m  |  (13, 1)  |               |        \n",
      "  \u001b[1mlatent_space.variance  \u001b[0;0m  |  (13, 1)  |      +ve      |        \n",
      "mean [[ 0.15513016]\n",
      " [ 0.23578766]\n",
      " [ 0.23537609]\n",
      " [-0.56308801]\n",
      " [ 0.22751462]\n",
      " [-0.33245876]\n",
      " [-0.30978203]\n",
      " [ 0.23780556]\n",
      " [ 0.23822664]\n",
      " [-0.11782271]\n",
      " [-0.25704361]\n",
      " [ 0.22888169]\n",
      " [ 0.06309161]] var [[1.91185819e-04]\n",
      " [8.53506718e-05]\n",
      " [8.30369704e-05]\n",
      " [1.10781431e-03]\n",
      " [9.12817280e-05]\n",
      " [8.10985600e-04]\n",
      " [7.47870059e-04]\n",
      " [8.20131009e-05]\n",
      " [8.09995303e-05]\n",
      " [5.08115642e-04]\n",
      " [6.81872856e-04]\n",
      " [9.50981443e-05]\n",
      " [2.86677693e-04]]\n",
      "result   \u001b[1mlatent_space.\u001b[0;0m  |    value  |  constraints  |  priors\n",
      "  \u001b[1mmean         \u001b[0;0m  |  (13, 1)  |               |        \n",
      "  \u001b[1mvariance     \u001b[0;0m  |  (13, 1)  |      +ve      |        \n",
      "\n",
      "Name : layer_1\n",
      "Objective : 5667285.041260953\n",
      "Number of Parameters : 55\n",
      "Number of Optimization Parameters : 54\n",
      "Updates : True\n",
      "Parameters:\n",
      "  \u001b[1mlayer_1.               \u001b[0;0m  |    value  |  constraints  |  priors\n",
      "  \u001b[1minducing_inputs        \u001b[0;0m  |  (13, 1)  |               |        \n",
      "  \u001b[1mrbf.variance           \u001b[0;0m  |      1.0  |      +ve      |        \n",
      "  \u001b[1mrbf.lengthscale        \u001b[0;0m  |     20.0  |      +ve      |        \n",
      "  \u001b[1mGaussian_noise.variance\u001b[0;0m  |      0.0  |   +ve fixed   |        \n",
      "  \u001b[1mKuu_var                \u001b[0;0m  |    (13,)  |      +ve      |        \n",
      "  \u001b[1mlatent_space.mean      \u001b[0;0m  |  (13, 1)  |               |        \n",
      "  \u001b[1mlatent_space.variance  \u001b[0;0m  |  (13, 1)  |      +ve      |        \n",
      "mean [[-0.10822356]\n",
      " [-0.13470184]\n",
      " [-0.13456871]\n",
      " [ 0.15893266]\n",
      " [-0.13201919]\n",
      " [ 0.06702439]\n",
      " [ 0.05829695]\n",
      " [-0.13535513]\n",
      " [-0.13549142]\n",
      " [-0.01332267]\n",
      " [ 0.03822044]\n",
      " [-0.13246274]\n",
      " [-0.07713685]] var [[1.02683178e-04]\n",
      " [9.25495253e-05]\n",
      " [9.22948281e-05]\n",
      " [2.90154199e-04]\n",
      " [9.29673745e-05]\n",
      " [2.09134248e-04]\n",
      " [1.97263804e-04]\n",
      " [9.22521016e-05]\n",
      " [9.21563887e-05]\n",
      " [1.48068248e-04]\n",
      " [1.82421492e-04]\n",
      " [9.34037492e-05]\n",
      " [1.13961865e-04]]\n",
      "result   \u001b[1mlatent_space.\u001b[0;0m  |    value  |  constraints  |  priors\n",
      "  \u001b[1mmean         \u001b[0;0m  |  (13, 1)  |               |        \n",
      "  \u001b[1mvariance     \u001b[0;0m  |  (13, 1)  |      +ve      |        \n"
     ]
    }
   ],
   "source": [
    "from GPy.core.parameterization.variational import NormalPosterior\n",
    "result = x.copy()\n",
    "for l in m_a.layers[:0:-1]:\n",
    "    print(l)\n",
    "    mean, var = l.predict(result)\n",
    "    print('mean',mean,'var',var)\n",
    "    var = np.clip(var,1e-8, np.inf)\n",
    "#     if var.shape[1]==1:\n",
    "#         var = np.tile(var,mean.shape[1])\n",
    "#         print('ooo',var)\n",
    "    result = NormalPosterior(mean, var)\n",
    "    print('result',result)"
   ]
  },
  {
   "cell_type": "code",
   "execution_count": 388,
   "id": "5e85bb8b",
   "metadata": {},
   "outputs": [
    {
     "data": {
      "text/plain": [
       "(array([[-0.03495719],\n",
       "        [-0.04245523],\n",
       "        [-0.04241755],\n",
       "        [ 0.04102966],\n",
       "        [-0.04169585],\n",
       "        [ 0.01482084],\n",
       "        [ 0.0123357 ],\n",
       "        [-0.04264015],\n",
       "        [-0.04267873],\n",
       "        [-0.00803365],\n",
       "        [ 0.00662139],\n",
       "        [-0.04182141],\n",
       "        [-0.02614638]]),\n",
       " array([[8.92190102e-05],\n",
       "        [8.88189934e-05],\n",
       "        [8.87962372e-05],\n",
       "        [1.05755389e-04],\n",
       "        [8.88061425e-05],\n",
       "        [9.75651765e-05],\n",
       "        [9.65125036e-05],\n",
       "        [8.88065887e-05],\n",
       "        [8.88013073e-05],\n",
       "        [9.22015620e-05],\n",
       "        [9.51443960e-05],\n",
       "        [8.88487385e-05],\n",
       "        [8.97658999e-05]]))"
      ]
     },
     "execution_count": 388,
     "metadata": {},
     "output_type": "execute_result"
    }
   ],
   "source": [
    "m_a.layers[0].predict(result)"
   ]
  },
  {
   "cell_type": "code",
   "execution_count": 389,
   "id": "a5bfa068",
   "metadata": {},
   "outputs": [
    {
     "data": {
      "text/plain": [
       "<matplotlib.collections.PathCollection at 0x29009e940>"
      ]
     },
     "execution_count": 389,
     "metadata": {},
     "output_type": "execute_result"
    },
    {
     "data": {
      "image/png": "[encoded data removed]",
      "text/plain": [
       "<Figure size 432x288 with 1 Axes>"
      ]
     },
     "metadata": {
      "needs_background": "light"
     },
     "output_type": "display_data"
    }
   ],
   "source": [
    "plt.plot(np.array(range(0,260,1)).reshape(-1,1),m_a.predict(np.array(range(0,260,1)).reshape(-1,1))[0])\n",
    "plt.scatter(x,yhat)"
   ]
  },
  {
   "cell_type": "code",
   "execution_count": 372,
   "id": "bcb32cd1",
   "metadata": {},
   "outputs": [
    {
     "data": {
      "text/plain": [
       "<matplotlib.collections.PathCollection at 0x177e1fc10>"
      ]
     },
     "execution_count": 372,
     "metadata": {},
     "output_type": "execute_result"
    },
    {
     "data": {
      "image/png": "[encoded data removed]",
      "text/plain": [
       "<Figure size 432x288 with 1 Axes>"
      ]
     },
     "metadata": {
      "needs_background": "light"
     },
     "output_type": "display_data"
    }
   ],
   "source": [
    "plt.plot(x,m_a.layers[0].predict(result)[0])\n",
    "plt.scatter(x,yhat)"
   ]
  },
  {
   "cell_type": "code",
   "execution_count": 390,
   "id": "f6fa7123",
   "metadata": {},
   "outputs": [
    {
     "data": {
      "application/vnd.jupyter.widget-view+json": {
       "model_id": "107041181dd0484fa990feb345c5eb57",
       "version_major": 2,
       "version_minor": 0
      },
      "text/plain": [
       "HBox(children=(VBox(children=(IntProgress(value=0, max=1000), HTML(value=''))), Box(children=(HTML(value=''),)…"
      ]
     },
     "metadata": {},
     "output_type": "display_data"
    }
   ],
   "source": [
    "m_a.optimize(max_iters=1000, messages=True)"
   ]
  },
  {
   "cell_type": "code",
   "execution_count": 481,
   "id": "0a6ac726",
   "metadata": {},
   "outputs": [
    {
     "data": {
      "text/plain": [
       "<matplotlib.collections.PathCollection at 0x294889af0>"
      ]
     },
     "execution_count": 481,
     "metadata": {},
     "output_type": "execute_result"
    },
    {
     "data": {
      "image/png": "[encoded data removed]",
      "text/plain": [
       "<Figure size 432x288 with 1 Axes>"
      ]
     },
     "metadata": {
      "needs_background": "light"
     },
     "output_type": "display_data"
    }
   ],
   "source": [
    "plt.plot(np.array(range(0,260,1)).reshape(-1,1),m_a.predict(np.array(range(0,260,1)).reshape(-1,1))[0])\n",
    "plt.scatter(x,yhat)"
   ]
  },
  {
   "cell_type": "code",
   "execution_count": 83,
   "id": "361f0112",
   "metadata": {},
   "outputs": [
    {
     "ename": "NameError",
     "evalue": "name 'result' is not defined",
     "output_type": "error",
     "traceback": [
      "\u001b[0;31m---------------------------------------------------------------------------\u001b[0m",
      "\u001b[0;31mNameError\u001b[0m                                 Traceback (most recent call last)",
      "Input \u001b[0;32mIn [83]\u001b[0m, in \u001b[0;36m<cell line: 1>\u001b[0;34m()\u001b[0m\n\u001b[0;32m----> 1\u001b[0m plt\u001b[38;5;241m.\u001b[39mplot(x,m_a\u001b[38;5;241m.\u001b[39mlayers[\u001b[38;5;241m0\u001b[39m]\u001b[38;5;241m.\u001b[39mpredict(\u001b[43mresult\u001b[49m)[\u001b[38;5;241m0\u001b[39m])\n\u001b[1;32m      2\u001b[0m plt\u001b[38;5;241m.\u001b[39mscatter(x,yhat)\n",
      "\u001b[0;31mNameError\u001b[0m: name 'result' is not defined"
     ]
    }
   ],
   "source": [
    "plt.plot(x,m_a.layers[0].predict(result)[0])\n",
    "plt.scatter(x,yhat)"
   ]
  },
  {
   "cell_type": "code",
   "execution_count": 394,
   "id": "366ec48d",
   "metadata": {},
   "outputs": [
    {
     "data": {
      "text/html": [
       "<style type=\"text/css\">\n",
       ".pd{\n",
       "    font-family: \"Courier New\", Courier, monospace !important;\n",
       "    width: 100%;\n",
       "    padding: 3px;\n",
       "}\n",
       "</style>\n",
       "\n",
       "<p class=pd>\n",
       "<b>Model</b>: obslayer<br>\n",
       "<b>Objective</b>: 164.56071722567248<br>\n",
       "<b>Number of Parameters</b>: 55<br>\n",
       "<b>Number of Optimization Parameters</b>: 54<br>\n",
       "<b>Updates</b>: True<br>\n",
       "</p>\n",
       "<style type=\"text/css\">\n",
       ".tg  {font-family:\"Courier New\", Courier, monospace !important;padding:2px 3px;word-break:normal;border-collapse:collapse;border-spacing:0;border-color:#DCDCDC;margin:0px auto;width:100%;}\n",
       ".tg td{font-family:\"Courier New\", Courier, monospace !important;font-weight:bold;color:#444;background-color:#F7FDFA;border-style:solid;border-width:1px;overflow:hidden;word-break:normal;border-color:#DCDCDC;}\n",
       ".tg th{font-family:\"Courier New\", Courier, monospace !important;font-weight:normal;color:#fff;background-color:#26ADE4;border-style:solid;border-width:1px;overflow:hidden;word-break:normal;border-color:#DCDCDC;}\n",
       ".tg .tg-left{font-family:\"Courier New\", Courier, monospace !important;font-weight:normal;text-align:left;}\n",
       ".tg .tg-center{font-family:\"Courier New\", Courier, monospace !important;font-weight:normal;text-align:center;}\n",
       ".tg .tg-right{font-family:\"Courier New\", Courier, monospace !important;font-weight:normal;text-align:right;}\n",
       "</style>\n",
       "<table class=\"tg\"><tr><th><b>  obslayer.              </b></th><th><b>             value</b></th><th><b>constraints</b></th><th><b>priors</b></th></tr>\n",
       "<tr><td class=tg-left>  inducing inputs        </td><td class=tg-right>           (13, 1)</td><td class=tg-center>           </td><td class=tg-center>      </td></tr>\n",
       "<tr><td class=tg-left>  rbf.variance           </td><td class=tg-right> 8.733040664153139</td><td class=tg-center>    +ve    </td><td class=tg-center>      </td></tr>\n",
       "<tr><td class=tg-left>  rbf.lengthscale        </td><td class=tg-right>16.200027673655757</td><td class=tg-center>    +ve    </td><td class=tg-center>      </td></tr>\n",
       "<tr><td class=tg-left>  Gaussian_noise.variance</td><td class=tg-right>               0.0</td><td class=tg-center> +ve fixed </td><td class=tg-center>      </td></tr>\n",
       "<tr><td class=tg-left>  Kuu_var                </td><td class=tg-right>             (13,)</td><td class=tg-center>    +ve    </td><td class=tg-center>      </td></tr>\n",
       "<tr><td class=tg-left>  latent space.mean      </td><td class=tg-right>           (13, 1)</td><td class=tg-center>           </td><td class=tg-center>      </td></tr>\n",
       "<tr><td class=tg-left>  latent space.variance  </td><td class=tg-right>           (13, 1)</td><td class=tg-center>    +ve    </td><td class=tg-center>      </td></tr>\n",
       "</table>"
      ],
      "text/plain": [
       "<deepgp.layers.layers.ObservedLayer at 0x290034c10>"
      ]
     },
     "execution_count": 394,
     "metadata": {},
     "output_type": "execute_result"
    }
   ],
   "source": [
    "m_a.layers[0]"
   ]
  },
  {
   "cell_type": "code",
   "execution_count": 85,
   "id": "3b5e33a3",
   "metadata": {},
   "outputs": [
    {
     "data": {
      "text/plain": [
       "<matplotlib.collections.PathCollection at 0x12ecf3700>"
      ]
     },
     "execution_count": 85,
     "metadata": {},
     "output_type": "execute_result"
    },
    {
     "data": {
      "image/png": "[encoded data removed]",
      "text/plain": [
       "<Figure size 432x288 with 1 Axes>"
      ]
     },
     "metadata": {
      "needs_background": "light"
     },
     "output_type": "display_data"
    }
   ],
   "source": [
    "plt.plot(np.array(range(0,260,1)).reshape(-1,1),m_a.predict(np.array(range(0,260,1)).reshape(-1,1))[0])\n",
    "plt.scatter(x,yhat)"
   ]
  },
  {
   "cell_type": "code",
   "execution_count": 412,
   "id": "1228317a",
   "metadata": {},
   "outputs": [
    {
     "data": {
      "text/html": [
       "<style type=\"text/css\">\n",
       ".tg  {padding:2px 3px;word-break:normal;border-collapse:collapse;border-spacing:0;border-color:#DCDCDC;margin:0px auto;width:100%;}\n",
       ".tg td{font-family:\"Courier New\", Courier, monospace !important;font-weight:bold;color:#444;background-color:#F7FDFA;border-style:solid;border-width:1px;overflow:hidden;word-break:normal;border-color:#DCDCDC;}\n",
       ".tg th{font-family:\"Courier New\", Courier, monospace !important;font-weight:normal;color:#fff;background-color:#26ADE4;border-style:solid;border-width:1px;overflow:hidden;word-break:normal;border-color:#DCDCDC;}\n",
       ".tg .tg-left{font-family:\"Courier New\", Courier, monospace !important;font-weight:normal;text-align:left;}\n",
       ".tg .tg-right{font-family:\"Courier New\", Courier, monospace !important;font-weight:normal;text-align:right;}\n",
       "</style>\n",
       "<table class=\"tg\">\n",
       "\n",
       "<tr>\n",
       "  <th><b>index</b></th>\n",
       "  <th><b>latent_space.mean</b></th>\n",
       "  <th><b>constraints</b></th><th><b>priors</b></th>\n",
       "</tr>\n",
       "<tr><td class=tg-left>  [0 0]</td><td class=tg-right>       1.00000000</td><td class=tg-left>           </td><td class=tg-left>      </td></tr>\n",
       "<tr><td class=tg-left>  [1 0]</td><td class=tg-right>       1.00000000</td><td class=tg-left>           </td><td class=tg-left>      </td></tr>\n",
       "<tr><td class=tg-left>  [2 0]</td><td class=tg-right>       1.00000000</td><td class=tg-left>           </td><td class=tg-left>      </td></tr>"
      ],
      "text/plain": [
       "\u001b[1mlatent_space.mean\u001b[0;0m:\n",
       "Param([[1.],\n",
       "       [1.],\n",
       "       [1.]])"
      ]
     },
     "execution_count": 412,
     "metadata": {},
     "output_type": "execute_result"
    }
   ],
   "source": [
    "NormalPosterior(np.array([[1],[1],[1]]),np.array([[0],[0],[0]]))."
   ]
  },
  {
   "cell_type": "code",
   "execution_count": 413,
   "id": "501eb3bf",
   "metadata": {},
   "outputs": [
    {
     "name": "stdout",
     "output_type": "stream",
     "text": [
      "(array([[-1.39440387],\n",
      "       [-1.39440387],\n",
      "       [-1.39440387]]), array([[0.03559099],\n",
      "       [0.03559099],\n",
      "       [0.03559099]]))\n",
      "(array([[1.2599334],\n",
      "       [1.2599334],\n",
      "       [1.2599334]]), array([[1.31759717e-05],\n",
      "       [1.31759717e-05],\n",
      "       [1.31759717e-05]]))\n",
      "(array([[0.08799995],\n",
      "       [0.08799995],\n",
      "       [0.08799995]]), array([[3.83004315e-06],\n",
      "       [3.83004315e-06],\n",
      "       [3.83004315e-06]]))\n"
     ]
    }
   ],
   "source": [
    "\n",
    "for l in m_a.layers[:0:-1]:\n",
    "    print(l.predict(NormalPosterior(np.array([[1],[1],[1]]),np.array([[0],[0],[0]]))))"
   ]
  },
  {
   "cell_type": "code",
   "execution_count": 414,
   "id": "d54d8593",
   "metadata": {},
   "outputs": [
    {
     "data": {
      "text/plain": [
       "(array([[-1.0077207],\n",
       "        [-1.0077207],\n",
       "        [-1.0077207]]),\n",
       " array([[0.00362432],\n",
       "        [0.00362432],\n",
       "        [0.00362432]]))"
      ]
     },
     "execution_count": 414,
     "metadata": {},
     "output_type": "execute_result"
    }
   ],
   "source": [
    "m_a.predict(NormalPosterior(np.array([[1],[1],[1]]),np.array([[0],[0],[0]])))"
   ]
  },
  {
   "cell_type": "code",
   "execution_count": 90,
   "id": "2e5ad296",
   "metadata": {},
   "outputs": [
    {
     "name": "stdout",
     "output_type": "stream",
     "text": [
      "[[-1.3688815 ]\n",
      " [-1.3345878 ]\n",
      " [-1.45671475]] [[7.74785436]\n",
      " [7.66518775]\n",
      " [7.40027448]]\n",
      "[[-0.10979237]\n",
      " [-0.10830013]\n",
      " [-0.11362949]] [[0.01814199]\n",
      " [0.01774414]\n",
      " [0.01642411]]\n",
      "[[0.85254148]\n",
      " [0.8482527 ]\n",
      " [0.88779757]] [[0.54593995]\n",
      " [0.53967927]\n",
      " [0.48880548]]\n"
     ]
    }
   ],
   "source": [
    "res = NormalPosterior(np.array([[50],[51],[52]]),np.array([[0],[0],[0]]))\n",
    "for l in m_a.layers[:0:-1]:\n",
    "    mean,var = l.predict(res)\n",
    "    print(mean,var)\n",
    "    res = NormalPosterior(mean,var)"
   ]
  },
  {
   "cell_type": "code",
   "execution_count": 427,
   "id": "cfa90837",
   "metadata": {},
   "outputs": [
    {
     "data": {
      "text/html": [
       "<style type=\"text/css\">\n",
       ".tg  {padding:2px 3px;word-break:normal;border-collapse:collapse;border-spacing:0;border-color:#DCDCDC;margin:0px auto;width:100%;}\n",
       ".tg td{font-family:\"Courier New\", Courier, monospace !important;font-weight:bold;color:#444;background-color:#F7FDFA;border-style:solid;border-width:1px;overflow:hidden;word-break:normal;border-color:#DCDCDC;}\n",
       ".tg th{font-family:\"Courier New\", Courier, monospace !important;font-weight:normal;color:#fff;background-color:#26ADE4;border-style:solid;border-width:1px;overflow:hidden;word-break:normal;border-color:#DCDCDC;}\n",
       ".tg .tg-left{font-family:\"Courier New\", Courier, monospace !important;font-weight:normal;text-align:left;}\n",
       ".tg .tg-right{font-family:\"Courier New\", Courier, monospace !important;font-weight:normal;text-align:right;}\n",
       "</style>\n",
       "<table class=\"tg\">\n",
       "\n",
       "<tr>\n",
       "  <th><b>index</b></th>\n",
       "  <th><b>latent_space.variance</b></th>\n",
       "  <th><b>constraints</b></th><th><b>priors</b></th>\n",
       "</tr>\n",
       "<tr><td class=tg-left>  [0 0]</td><td class=tg-right>           0.00068943</td><td class=tg-left>    +ve    </td><td class=tg-left>      </td></tr>\n",
       "<tr><td class=tg-left>  [1 0]</td><td class=tg-right>           0.00068943</td><td class=tg-left>    +ve    </td><td class=tg-left>      </td></tr>\n",
       "<tr><td class=tg-left>  [2 0]</td><td class=tg-right>           0.00068943</td><td class=tg-left>    +ve    </td><td class=tg-left>      </td></tr>"
      ],
      "text/plain": [
       "\u001b[1mlatent_space.variance\u001b[0;0m:\n",
       "Param([[0.00068943],\n",
       "       [0.00068943],\n",
       "       [0.00068943]])"
      ]
     },
     "execution_count": 427,
     "metadata": {},
     "output_type": "execute_result"
    }
   ],
   "source": [
    "res.variance"
   ]
  },
  {
   "cell_type": "code",
   "execution_count": 420,
   "id": "7fbca392",
   "metadata": {},
   "outputs": [
    {
     "data": {
      "text/html": [
       "<style type=\"text/css\">\n",
       ".tg  {padding:2px 3px;word-break:normal;border-collapse:collapse;border-spacing:0;border-color:#DCDCDC;margin:0px auto;width:100%;}\n",
       ".tg td{font-family:\"Courier New\", Courier, monospace !important;font-weight:bold;color:#444;background-color:#F7FDFA;border-style:solid;border-width:1px;overflow:hidden;word-break:normal;border-color:#DCDCDC;}\n",
       ".tg th{font-family:\"Courier New\", Courier, monospace !important;font-weight:normal;color:#fff;background-color:#26ADE4;border-style:solid;border-width:1px;overflow:hidden;word-break:normal;border-color:#DCDCDC;}\n",
       ".tg .tg-left{font-family:\"Courier New\", Courier, monospace !important;font-weight:normal;text-align:left;}\n",
       ".tg .tg-right{font-family:\"Courier New\", Courier, monospace !important;font-weight:normal;text-align:right;}\n",
       "</style>\n",
       "<table class=\"tg\">\n",
       "\n",
       "<tr>\n",
       "  <th><b>index</b></th>\n",
       "  <th><b>latent_space.variance</b></th>\n",
       "  <th><b>constraints</b></th><th><b>priors</b></th>\n",
       "</tr>\n",
       "<tr><td class=tg-left>  [0 0]</td><td class=tg-right>           0.00068943</td><td class=tg-left>    +ve    </td><td class=tg-left>      </td></tr>\n",
       "<tr><td class=tg-left>  [1 0]</td><td class=tg-right>           0.00068943</td><td class=tg-left>    +ve    </td><td class=tg-left>      </td></tr>\n",
       "<tr><td class=tg-left>  [2 0]</td><td class=tg-right>           0.00068943</td><td class=tg-left>    +ve    </td><td class=tg-left>      </td></tr>"
      ],
      "text/plain": [
       "\u001b[1mlatent_space.variance\u001b[0;0m:\n",
       "Param([[0.00068943],\n",
       "       [0.00068943],\n",
       "       [0.00068943]])"
      ]
     },
     "execution_count": 420,
     "metadata": {},
     "output_type": "execute_result"
    }
   ],
   "source": [
    "res.variance"
   ]
  },
  {
   "cell_type": "code",
   "execution_count": 82,
   "id": "dd69fb7f",
   "metadata": {},
   "outputs": [
    {
     "name": "stdout",
     "output_type": "stream",
     "text": [
      "(array([[3.04104058],\n",
      "       [4.42650835],\n",
      "       [5.9336668 ],\n",
      "       [7.507607  ]]), array([[7.4002741 ],\n",
      "       [6.91011831],\n",
      "       [6.14845283],\n",
      "       [5.10033428]]))\n",
      "(array([[1.92227812],\n",
      "       [2.17414917],\n",
      "       [2.40645274],\n",
      "       [2.6115906 ]]), array([[9.91735139e-06],\n",
      "       [1.22960480e-05],\n",
      "       [1.91859807e-04],\n",
      "       [9.35238705e-04]]))\n",
      "(array([[2.62211649e-51],\n",
      "       [1.61395069e-62],\n",
      "       [7.09095453e-75],\n",
      "       [2.22380043e-88]]), array([[5.27802129],\n",
      "       [5.27802129],\n",
      "       [5.27802129],\n",
      "       [5.27802129]]))\n"
     ]
    }
   ],
   "source": [
    "for l in m_a.layers[:0:-1]:\n",
    "    print(l.predict(np.array([[12],[13],[14],[15]])))"
   ]
  },
  {
   "cell_type": "code",
   "execution_count": 89,
   "id": "9e739184",
   "metadata": {},
   "outputs": [
    {
     "name": "stdout",
     "output_type": "stream",
     "text": [
      "(array([[-1.45671475],\n",
      "       [-1.71529479],\n",
      "       [-2.08083269],\n",
      "       [-2.51473253]]), array([[7.40027448],\n",
      "       [6.9101195 ],\n",
      "       [6.14845476],\n",
      "       [5.10033685]]))\n",
      "(array([[0.00779876],\n",
      "       [0.00528042],\n",
      "       [0.00349965],\n",
      "       [0.00226156]]), array([[3.14147739],\n",
      "       [3.14232407],\n",
      "       [3.14285163],\n",
      "       [3.14317473]]))\n",
      "(array([[0.],\n",
      "       [0.],\n",
      "       [0.],\n",
      "       [0.]]), array([[5.27802129],\n",
      "       [5.27802129],\n",
      "       [5.27802129],\n",
      "       [5.27802129]]))\n"
     ]
    }
   ],
   "source": [
    "for l in m_a.layers[:0:-1]:\n",
    "    print(l.predict(NormalPosterior(np.array([[52],[53],[54],[55]]),np.array([[0],[0],[0],[0]]))))"
   ]
  },
  {
   "cell_type": "code",
   "execution_count": 502,
   "id": "26936b4c",
   "metadata": {},
   "outputs": [],
   "source": [
    "import GPy.likelihoods.likelihood "
   ]
  },
  {
   "cell_type": "code",
   "execution_count": 517,
   "id": "d7a10eda",
   "metadata": {},
   "outputs": [
    {
     "data": {
      "text/plain": [
       "(<GPy.core.parameterization.variational.NormalPosterior at 0x299212340>,\n",
       " array([6.26853487]))"
      ]
     },
     "execution_count": 517,
     "metadata": {},
     "output_type": "execute_result"
    }
   ],
   "source": [
    "l.likelihood.predictive_values(NormalPosterior(np.array([[12],[13],[14],[15]]),np.array([[1],[2],[3],[4]])),\\\n",
    "                            var = l.rbf.variance)"
   ]
  },
  {
   "cell_type": "code",
   "execution_count": 519,
   "id": "c788672a",
   "metadata": {},
   "outputs": [
    {
     "data": {
      "text/plain": [
       "(array([[-8.70900259],\n",
       "        [-9.07834282],\n",
       "        [-9.38353617],\n",
       "        [-9.62505514]]),\n",
       " array([[0.23195364],\n",
       "        [0.35143346],\n",
       "        [0.4078995 ],\n",
       "        [0.42831327]]))"
      ]
     },
     "execution_count": 519,
     "metadata": {},
     "output_type": "execute_result"
    }
   ],
   "source": [
    "l.predict(NormalPosterior(np.array([[12],[13],[14],[15]]),np.array([[1],[2],[3],[4]])),\\\n",
    "                            )"
   ]
  },
  {
   "cell_type": "code",
   "execution_count": null,
   "id": "3b416ef9",
   "metadata": {},
   "outputs": [],
   "source": []
  },
  {
   "cell_type": "code",
   "execution_count": 262,
   "id": "fc9efdd0",
   "metadata": {},
   "outputs": [
    {
     "data": {
      "text/plain": [
       "<matplotlib.collections.PathCollection at 0x16a0e9a60>"
      ]
     },
     "execution_count": 262,
     "metadata": {},
     "output_type": "execute_result"
    },
    {
     "data": {
      "image/png": "[encoded data removed]",
      "text/plain": [
       "<Figure size 432x288 with 1 Axes>"
      ]
     },
     "metadata": {
      "needs_background": "light"
     },
     "output_type": "display_data"
    }
   ],
   "source": [
    "plt.plot(np.array(range(0,260,20)).reshape(-1,1),m_a.predict(np.array(range(0,260,20)).reshape(-1,1))[0])\n",
    "plt.scatter(x,yhat)"
   ]
  },
  {
   "cell_type": "code",
   "execution_count": 520,
   "id": "280f1060",
   "metadata": {},
   "outputs": [
    {
     "data": {
      "text/html": [
       "<style type=\"text/css\">\n",
       ".tg  {font-family:\"Courier New\", Courier, monospace !important;padding:2px 3px;word-break:normal;border-collapse:collapse;border-spacing:0;border-color:#DCDCDC;margin:0px auto;width:100%;}\n",
       ".tg td{font-family:\"Courier New\", Courier, monospace !important;font-weight:bold;color:#444;background-color:#F7FDFA;border-style:solid;border-width:1px;overflow:hidden;word-break:normal;border-color:#DCDCDC;}\n",
       ".tg th{font-family:\"Courier New\", Courier, monospace !important;font-weight:normal;color:#fff;background-color:#26ADE4;border-style:solid;border-width:1px;overflow:hidden;word-break:normal;border-color:#DCDCDC;}\n",
       ".tg .tg-left{font-family:\"Courier New\", Courier, monospace !important;font-weight:normal;text-align:left;}\n",
       ".tg .tg-center{font-family:\"Courier New\", Courier, monospace !important;font-weight:normal;text-align:center;}\n",
       ".tg .tg-right{font-family:\"Courier New\", Courier, monospace !important;font-weight:normal;text-align:right;}\n",
       "</style>\n",
       "<table class=\"tg\"><tr><th><b>  latent_space.</b></th><th><b> value</b></th><th><b>constraints</b></th><th><b>priors</b></th></tr>\n",
       "<tr><td class=tg-left>  mean         </td><td class=tg-right>(4, 1)</td><td class=tg-center>           </td><td class=tg-center>      </td></tr>\n",
       "<tr><td class=tg-left>  variance     </td><td class=tg-right>(4, 1)</td><td class=tg-center>    +ve    </td><td class=tg-center>      </td></tr>\n",
       "</table>"
      ],
      "text/plain": [
       "<GPy.core.parameterization.variational.NormalPosterior at 0x299610250>"
      ]
     },
     "execution_count": 520,
     "metadata": {},
     "output_type": "execute_result"
    }
   ],
   "source": [
    "NormalPosterior(np.array([[12],[13],[14],[15]]),np.array([[1],[2],[3],[4]]))"
   ]
  },
  {
   "cell_type": "code",
   "execution_count": 522,
   "id": "e8bb4b00",
   "metadata": {},
   "outputs": [],
   "source": [
    "from GPy.core.gp import GP"
   ]
  },
  {
   "cell_type": "code",
   "execution_count": 526,
   "id": "c67e67ff",
   "metadata": {},
   "outputs": [
    {
     "ename": "TypeError",
     "evalue": "predict() missing 1 required positional argument: 'self'",
     "output_type": "error",
     "traceback": [
      "\u001b[0;31m---------------------------------------------------------------------------\u001b[0m",
      "\u001b[0;31mTypeError\u001b[0m                                 Traceback (most recent call last)",
      "Input \u001b[0;32mIn [526]\u001b[0m, in \u001b[0;36m<cell line: 1>\u001b[0;34m()\u001b[0m\n\u001b[0;32m----> 1\u001b[0m \u001b[43mGP\u001b[49m\u001b[38;5;241;43m.\u001b[39;49m\u001b[43mpredict\u001b[49m\u001b[43m(\u001b[49m\u001b[43mXnew\u001b[49m\u001b[43m \u001b[49m\u001b[38;5;241;43m=\u001b[39;49m\u001b[43m \u001b[49m\u001b[43mnp\u001b[49m\u001b[38;5;241;43m.\u001b[39;49m\u001b[43marray\u001b[49m\u001b[43m(\u001b[49m\u001b[43m[\u001b[49m\u001b[43m[\u001b[49m\u001b[38;5;241;43m1\u001b[39;49m\u001b[43m]\u001b[49m\u001b[43m]\u001b[49m\u001b[43m)\u001b[49m\u001b[43m)\u001b[49m\n",
      "\u001b[0;31mTypeError\u001b[0m: predict() missing 1 required positional argument: 'self'"
     ]
    }
   ],
   "source": [
    "GP.predict(Xnew = np.array([[1]]))"
   ]
  },
  {
   "cell_type": "code",
   "execution_count": 537,
   "id": "cac4d75c",
   "metadata": {},
   "outputs": [
    {
     "data": {
      "text/plain": [
       "<function GPy.core.gp.GP.predict(self, Xnew, full_cov=False, Y_metadata=None, kern=None, likelihood=None, include_likelihood=True)>"
      ]
     },
     "execution_count": 537,
     "metadata": {},
     "output_type": "execute_result"
    }
   ],
   "source": [
    "((type(l).__base__).__base__).predict"
   ]
  },
  {
   "cell_type": "code",
   "execution_count": 88,
   "id": "b168a0d9",
   "metadata": {},
   "outputs": [],
   "source": [
    "from GPy.core.parameterization.variational import NormalPosterior"
   ]
  },
  {
   "cell_type": "code",
   "execution_count": null,
   "id": "c4206839",
   "metadata": {},
   "outputs": [],
   "source": []
  },
  {
   "cell_type": "code",
   "execution_count": null,
   "id": "ea190aea",
   "metadata": {},
   "outputs": [],
   "source": []
  },
  {
   "cell_type": "code",
   "execution_count": 92,
   "id": "6d48c9ce",
   "metadata": {},
   "outputs": [],
   "source": [
    "def Cov(x1, x2, l=1.0, sigma_f=1.0):\n",
    "    m, n = x1.shape[0], x2.shape[0]\n",
    "    dist_matrix = np.zeros((m, n), dtype=float)\n",
    "    for i in range(m):\n",
    "        for j in range(n):\n",
    "            dist_matrix[i][j] = np.sum((x1[i] - x2[j])**2)\n",
    "    return sigma_f**2 * np.exp(-0.5 / l**2 * dist_matrix)\n",
    "\n",
    "def Cov2(x1, x2, l=1.0, sigma_f=1.0):\n",
    "    dist_matrix = np.sum(x1**2, 1).reshape(-1, 1) + np.sum(x2**2, 1) - 2 * np.dot(x1, x2.T)\n",
    "    return sigma_f**2 * np.exp(-0.5 / l**2 * dist_matrix)"
   ]
  },
  {
   "cell_type": "code",
   "execution_count": 93,
   "id": "7980c006",
   "metadata": {},
   "outputs": [
    {
     "name": "stdout",
     "output_type": "stream",
     "text": [
      "layer_1\n",
      "124.01476432192219\n",
      "layer_2\n",
      "(110.63382447019168+0j)\n",
      "layer_3\n",
      "64.56453401304228\n"
     ]
    }
   ],
   "source": [
    "for num_layers in range(1,len(m_a.layers)):\n",
    "    print(m_a.layers[num_layers].name)\n",
    "    K = Cov2(m_a.layers[num_layers].parameters[0], m_a.layers[num_layers].parameters[0], \\\n",
    "                    l=m_a.layers[num_layers].parameters[1][1], sigma_f=m_a.layers[num_layers].parameters[1][0])\n",
    "    print(np.linalg.eigvals(K).max())"
   ]
  },
  {
   "cell_type": "code",
   "execution_count": 55,
   "id": "3839a3fe",
   "metadata": {},
   "outputs": [],
   "source": [
    "def rmse(predictions, targets):\n",
    "    return np.sqrt(((predictions.flatten() - targets.flatten()) ** 2).mean())"
   ]
  },
  {
   "cell_type": "code",
   "execution_count": 56,
   "id": "e34a3012",
   "metadata": {},
   "outputs": [],
   "source": [
    "Y_pred = m.predict(x)[0]\n",
    "Y_pred_s = m.predict_withSamples(x, nSamples=10)[0]"
   ]
  },
  {
   "cell_type": "code",
   "execution_count": 101,
   "id": "1d3c9694",
   "metadata": {},
   "outputs": [
    {
     "name": "stdout",
     "output_type": "stream",
     "text": [
      "1.5210038041597347\n",
      "1.5066634694731444\n"
     ]
    }
   ],
   "source": [
    "print(rmse(Y_pred,x))\n",
    "print(rmse(Y_pred_s,x))"
   ]
  },
  {
   "cell_type": "code",
   "execution_count": 559,
   "id": "277ab59a",
   "metadata": {},
   "outputs": [],
   "source": [
    "layers = [1 for i in range(2)]\n",
    "\n",
    "kernels = []\n",
    "for i in layers[1:]:\n",
    "    kernels += [GPy.kern.RBF(i,ARD=False,lengthscale = 20)]\n",
    "m = DGP.DGP(layers,Y=y, X=x, \n",
    "                  inits=inits, \n",
    "                  kernels=kernels, # the kernels for each layer\n",
    "                  num_inducing=len(x), back_constraint=False,lengthscale = 2)"
   ]
  },
  {
   "cell_type": "code",
   "execution_count": 560,
   "id": "d3c15bd4",
   "metadata": {},
   "outputs": [],
   "source": [
    "\n",
    "for i in range(len(m.layers)):\n",
    "    output_var = m.layers[i].Y.var() if i==0 else m.layers[i].Y.mean.var()\n",
    "    m.layers[i].Gaussian_noise.variance = output_var*0\n",
    "#     if i== 4:\n",
    "#         m.layers[i].fix()\n",
    "    m.layers[i].Gaussian_noise.variance.fix()\n",
    "#     m.layers[i].kern.lengthscale.fix()"
   ]
  },
  {
   "cell_type": "code",
   "execution_count": 63,
   "id": "16c32788",
   "metadata": {},
   "outputs": [
    {
     "data": {
      "application/vnd.jupyter.widget-view+json": {
       "model_id": "361dc02a804c47f885a383a11005cfd4",
       "version_major": 2,
       "version_minor": 0
      },
      "text/plain": [
       "HBox(children=(VBox(children=(IntProgress(value=0, max=5000), HTML(value=''))), Box(children=(HTML(value=''),)…"
      ]
     },
     "metadata": {},
     "output_type": "display_data"
    }
   ],
   "source": [
    "m.optimize(max_iters=5000, messages=True)"
   ]
  },
  {
   "cell_type": "code",
   "execution_count": 64,
   "id": "90894677",
   "metadata": {},
   "outputs": [
    {
     "data": {
      "text/plain": [
       "<matplotlib.collections.PathCollection at 0x15e4b0d30>"
      ]
     },
     "execution_count": 64,
     "metadata": {},
     "output_type": "execute_result"
    },
    {
     "data": {
      "image/png": "[encoded data removed]",
      "text/plain": [
       "<Figure size 432x288 with 1 Axes>"
      ]
     },
     "metadata": {
      "needs_background": "light"
     },
     "output_type": "display_data"
    }
   ],
   "source": [
    "plt.plot(x,m.predict(x)[0])\n",
    "plt.scatter(x,x)"
   ]
  },
  {
   "cell_type": "code",
   "execution_count": 65,
   "id": "666025f1",
   "metadata": {},
   "outputs": [
    {
     "name": "stdout",
     "output_type": "stream",
     "text": [
      "(18704.673710161886+0j)\n",
      "2173.4393876394265\n",
      "133.8458179082703\n",
      "2.856314904405197\n",
      "0.2606850543230408\n",
      "1.101473098888958\n",
      "1.043900835728077\n",
      "0.27898767670288227\n",
      "1.196876527879377\n",
      "1.9991715967038282\n",
      "0.361238007985358\n",
      "0.7212377616468076\n",
      "3.656621420242277\n",
      "2.1686698626307703\n",
      "0.7345073186727769\n",
      "0.30647033617176006\n",
      "0.06345865840373491\n",
      "8.14845778251173\n"
     ]
    }
   ],
   "source": [
    "for num_layers in range(len(m.layers)):\n",
    "    if num_layers>0:\n",
    "        K = Cov2(m.layers[num_layers].parameters[0], m.layers[num_layers].parameters[0], \\\n",
    "                    l=m.layers[num_layers].parameters[1][1], sigma_f=m.layers[num_layers].parameters[1][0])\n",
    "        print(np.linalg.eigvals(K).max())"
   ]
  },
  {
   "cell_type": "code",
   "execution_count": 66,
   "id": "6f25d815",
   "metadata": {},
   "outputs": [
    {
     "name": "stdout",
     "output_type": "stream",
     "text": [
      "27.011288187513216\n",
      "23.909595764294497\n"
     ]
    }
   ],
   "source": [
    "def rmse(predictions, targets):\n",
    "    return np.sqrt(((predictions.flatten() - targets.flatten()) ** 2).mean())\n",
    "Y_pred = m.predict(x)[0]\n",
    "Y_pred_s = m.predict_withSamples(x, nSamples=10)[0]\n",
    "print(rmse(Y_pred,x))\n",
    "print(rmse(Y_pred_s,x))"
   ]
  },
  {
   "cell_type": "code",
   "execution_count": 572,
   "id": "fa21e533",
   "metadata": {},
   "outputs": [],
   "source": [
    "layers = [1 for i in range(3)]\n",
    "\n",
    "kernels = []\n",
    "for i in layers[1:]:\n",
    "    kernels += [GPy.kern.RBF(i,ARD=False,lengthscale = None)]\n",
    "m_a = DGP.DGP(layers,Y=x, X=x, \n",
    "                  kernels=kernels, # the kernels for each layer\n",
    "                  num_inducing=len(x), back_constraint=False,lengthscale = 2)"
   ]
  },
  {
   "cell_type": "code",
   "execution_count": 574,
   "id": "6d5f0d75",
   "metadata": {},
   "outputs": [],
   "source": [
    "\n",
    "for i in range(len(m_a.layers)):\n",
    "    output_var = m_a.layers[i].Y.var() if i==0 else m_a.layers[i].Y.mean.var()\n",
    "    m_a.layers[i].Gaussian_noise.variance = output_var*0\n",
    "#     if i== 4:\n",
    "#         m.layers[i].fix()\n",
    "    m_a.layers[i].Gaussian_noise.variance.fix()\n",
    "#     m.layers[i].kern.lengthscale.fix()"
   ]
  },
  {
   "cell_type": "code",
   "execution_count": 162,
   "id": "cef592cb",
   "metadata": {},
   "outputs": [
    {
     "data": {
      "application/vnd.jupyter.widget-view+json": {
       "model_id": "de9d7d26f1d7436aa0b81fa30e4ef410",
       "version_major": 2,
       "version_minor": 0
      },
      "text/plain": [
       "HBox(children=(VBox(children=(IntProgress(value=0, max=5000), HTML(value=''))), Box(children=(HTML(value=''),)…"
      ]
     },
     "metadata": {},
     "output_type": "display_data"
    }
   ],
   "source": [
    "m.optimize(max_iters=5000, messages=True)"
   ]
  },
  {
   "cell_type": "code",
   "execution_count": 70,
   "id": "9c657b09",
   "metadata": {},
   "outputs": [
    {
     "data": {
      "text/plain": [
       "<matplotlib.collections.PathCollection at 0x15e905700>"
      ]
     },
     "execution_count": 70,
     "metadata": {},
     "output_type": "execute_result"
    },
    {
     "data": {
      "image/png": "[encoded data removed]",
      "text/plain": [
       "<Figure size 432x288 with 1 Axes>"
      ]
     },
     "metadata": {
      "needs_background": "light"
     },
     "output_type": "display_data"
    }
   ],
   "source": [
    "plt.plot(x,m.predict(x)[0])\n",
    "plt.scatter(x,x)"
   ]
  },
  {
   "cell_type": "code",
   "execution_count": 71,
   "id": "eb6cb7af",
   "metadata": {},
   "outputs": [
    {
     "name": "stdout",
     "output_type": "stream",
     "text": [
      "19848.364731832084\n",
      "5774.098030866124\n",
      "721.4830629810644\n",
      "83.46270545787071\n",
      "18.85176717632514\n",
      "3.880472091966159\n",
      "0.8964679847630252\n",
      "1.1545561171298748\n",
      "1.0754272527132134\n",
      "15.22337008361406\n",
      "5.2865019318768\n",
      "1.8473112371686407\n",
      "17.7401257038068\n",
      "29.853560637083234\n",
      "3.7299735035821913\n",
      "1.5567477282927278\n",
      "38.18329827083029\n",
      "31.034646109695537\n"
     ]
    }
   ],
   "source": [
    "for num_layers in range(len(m.layers)):\n",
    "    if num_layers>0:\n",
    "        K = Cov2(m.layers[num_layers].parameters[0], m.layers[num_layers].parameters[0], \\\n",
    "                    l=m.layers[num_layers].parameters[1][1], sigma_f=m.layers[num_layers].parameters[1][0])\n",
    "        print(np.linalg.eigvals(K).max())"
   ]
  },
  {
   "cell_type": "code",
   "execution_count": 72,
   "id": "69a811de",
   "metadata": {},
   "outputs": [
    {
     "name": "stdout",
     "output_type": "stream",
     "text": [
      "1.5210038041597347\n",
      "1.5066634694731444\n"
     ]
    }
   ],
   "source": [
    "def rmse(predictions, targets):\n",
    "    return np.sqrt(((predictions.flatten() - targets.flatten()) ** 2).mean())\n",
    "Y_pred = m.predict(x)[0]\n",
    "Y_pred_s = m.predict_withSamples(x, nSamples=10)[0]\n",
    "print(rmse(Y_pred,x))\n",
    "print(rmse(Y_pred_s,x))"
   ]
  },
  {
   "cell_type": "code",
   "execution_count": 73,
   "id": "cb309d50",
   "metadata": {},
   "outputs": [],
   "source": [
    "layers = [1 for i in range(20)]\n",
    "\n",
    "kernels = []\n",
    "for i in layers[1:]:\n",
    "    kernels += [GPy.kern.RBF(i,ARD=False,lengthscale = None)]\n",
    "m = DGP.DGP(layers,Y=x, X=x, \n",
    "                  kernels=kernels, # the kernels for each layer\n",
    "                  num_inducing=len(x), back_constraint=False,lengthscale = 2)\n",
    "\n",
    "for i in range(len(m.layers)):\n",
    "    output_var = m.layers[i].Y.var() if i==0 else m.layers[i].Y.mean.var()\n",
    "    m.layers[i].Gaussian_noise.variance = output_var*0\n",
    "#     if i== 4:\n",
    "#         m.layers[i].fix()\n",
    "    m.layers[i].Gaussian_noise.variance.fix()\n",
    "#     m.layers[i].kern.lengthscale.fix()"
   ]
  },
  {
   "cell_type": "code",
   "execution_count": 84,
   "id": "6409b364",
   "metadata": {},
   "outputs": [
    {
     "data": {
      "application/vnd.jupyter.widget-view+json": {
       "model_id": "07bfa01c775249cd892f780fb2289cca",
       "version_major": 2,
       "version_minor": 0
      },
      "text/plain": [
       "HBox(children=(VBox(children=(IntProgress(value=0, max=200), HTML(value=''))), Box(children=(HTML(value=''),))…"
      ]
     },
     "metadata": {},
     "output_type": "display_data"
    }
   ],
   "source": [
    "m.optimize(max_iters=200, messages=True)"
   ]
  },
  {
   "cell_type": "code",
   "execution_count": 38,
   "id": "1867ecb2",
   "metadata": {
    "scrolled": true
   },
   "outputs": [
    {
     "data": {
      "text/plain": [
       "<matplotlib.collections.PathCollection at 0x15ee0df40>"
      ]
     },
     "execution_count": 38,
     "metadata": {},
     "output_type": "execute_result"
    },
    {
     "data": {
      "image/png": "[encoded data removed]",
      "text/plain": [
       "<Figure size 432x288 with 1 Axes>"
      ]
     },
     "metadata": {
      "needs_background": "light"
     },
     "output_type": "display_data"
    }
   ],
   "source": [
    "plt.plot(x,m.predict(x)[0])\n",
    "plt.scatter(x,x)"
   ]
  },
  {
   "cell_type": "code",
   "execution_count": 161,
   "id": "0051da80",
   "metadata": {},
   "outputs": [
    {
     "name": "stdout",
     "output_type": "stream",
     "text": [
      "47.775833165443956\n",
      "392.17903277292396\n",
      "322.6423792204986\n"
     ]
    }
   ],
   "source": [
    "for num_layers in range(len(m.layers)):\n",
    "    if num_layers>=0:\n",
    "        K = Cov2(m.layers[num_layers].parameters[0], m.layers[num_layers].parameters[0], \\\n",
    "                    l=m.layers[num_layers].parameters[1][1], sigma_f=m.layers[num_layers].parameters[1][0])\n",
    "        print(np.linalg.eigvals(K).max())"
   ]
  },
  {
   "cell_type": "code",
   "execution_count": 428,
   "id": "098963f1",
   "metadata": {},
   "outputs": [],
   "source": [
    "layers = [y.shape[1], 1, 1, 1,x.shape[1]]\n",
    "inits = ['PCA']*(len(layers)-1)\n",
    "kernels = []\n",
    "for i in layers[1:]:\n",
    "    kernels += [GPy.kern.RBF(i)]\n",
    "    \n",
    "m = DGP.DGP(layers,Y=yhat, X=x, \n",
    "                  inits=inits, \n",
    "                  kernels=kernels, # the kernels for each layer\n",
    "                  num_inducing=20, back_constraint=False)"
   ]
  },
  {
   "cell_type": "code",
   "execution_count": 576,
   "id": "8fd95beb",
   "metadata": {},
   "outputs": [
    {
     "name": "stderr",
     "output_type": "stream",
     "text": [
      " /Users/manifect/opt/miniconda3/lib/python3.9/site-packages/paramz/transformations.py:111: RuntimeWarning:divide by zero encountered in log\n"
     ]
    },
    {
     "data": {
      "application/vnd.jupyter.widget-view+json": {
       "model_id": "688e43ec2993456e8660a7d8709ebbd0",
       "version_major": 2,
       "version_minor": 0
      },
      "text/plain": [
       "HBox(children=(VBox(children=(IntProgress(value=0, max=1000), HTML(value=''))), Box(children=(HTML(value=''),)…"
      ]
     },
     "metadata": {},
     "output_type": "display_data"
    }
   ],
   "source": [
    "m_a.optimize(messages = True)"
   ]
  },
  {
   "cell_type": "code",
   "execution_count": 556,
   "id": "02ec681a",
   "metadata": {},
   "outputs": [
    {
     "data": {
      "text/plain": [
       "array([[  0],\n",
       "       [ 20],\n",
       "       [ 40],\n",
       "       [ 60],\n",
       "       [ 80],\n",
       "       [100],\n",
       "       [120],\n",
       "       [140],\n",
       "       [160],\n",
       "       [180],\n",
       "       [200],\n",
       "       [220],\n",
       "       [240]])"
      ]
     },
     "execution_count": 556,
     "metadata": {},
     "output_type": "execute_result"
    }
   ],
   "source": [
    "np.array(range(0,260,20)).reshape(-1,1).copy()"
   ]
  },
  {
   "cell_type": "code",
   "execution_count": 437,
   "id": "e86fce2c",
   "metadata": {},
   "outputs": [
    {
     "data": {
      "text/plain": [
       "array([-14.94252874, -13.36963097, -11.79673321, -10.22383545,\n",
       "        -8.65093769,  -7.07803993,  -5.50514217,  -3.9322444 ,\n",
       "        -2.35934664,  -0.78644888,   0.78644888,   2.35934664,\n",
       "         3.9322444 ,   5.50514217,   7.07803993,   8.65093769,\n",
       "        10.22383545,  11.79673321,  13.36963097,  14.94252874])"
      ]
     },
     "execution_count": 437,
     "metadata": {},
     "output_type": "execute_result"
    }
   ],
   "source": [
    "(np.linspace(0,260,20)-np.mean(np.linspace(0,260,20)))/8.7"
   ]
  },
  {
   "cell_type": "code",
   "execution_count": 441,
   "id": "7209bfea",
   "metadata": {},
   "outputs": [
    {
     "data": {
      "text/plain": [
       "(array([[0.58745795],\n",
       "        [0.58745795],\n",
       "        [0.58745795]]),\n",
       " array([[0.27061276],\n",
       "        [0.27061276],\n",
       "        [0.27061276]]))"
      ]
     },
     "execution_count": 441,
     "metadata": {},
     "output_type": "execute_result"
    }
   ],
   "source": [
    "l.predict(NormalPosterior(np.array([[0],[0],[0]]),np.array([[1],[1],[1]])))"
   ]
  },
  {
   "cell_type": "code",
   "execution_count": 442,
   "id": "74b04756",
   "metadata": {},
   "outputs": [
    {
     "data": {
      "text/plain": [
       "(array([[0.69698863],\n",
       "        [0.69698863],\n",
       "        [0.69698863]]),\n",
       " array([[9.44931938e-06],\n",
       "        [9.44931938e-06],\n",
       "        [9.44931938e-06]]))"
      ]
     },
     "execution_count": 442,
     "metadata": {},
     "output_type": "execute_result"
    }
   ],
   "source": [
    "l.predict(np.array([[0],[0],[0]]))"
   ]
  },
  {
   "cell_type": "code",
   "execution_count": null,
   "id": "0200a673",
   "metadata": {},
   "outputs": [],
   "source": []
  },
  {
   "cell_type": "code",
   "execution_count": null,
   "id": "d1601ab2",
   "metadata": {},
   "outputs": [],
   "source": []
  },
  {
   "cell_type": "code",
   "execution_count": null,
   "id": "edf08be6",
   "metadata": {},
   "outputs": [],
   "source": []
  },
  {
   "cell_type": "code",
   "execution_count": null,
   "id": "28445cd5",
   "metadata": {},
   "outputs": [],
   "source": []
  },
  {
   "cell_type": "code",
   "execution_count": null,
   "id": "fa47e0de",
   "metadata": {},
   "outputs": [],
   "source": []
  },
  {
   "cell_type": "code",
   "execution_count": null,
   "id": "c7330f59",
   "metadata": {},
   "outputs": [],
   "source": []
  },
  {
   "cell_type": "code",
   "execution_count": null,
   "id": "89eee762",
   "metadata": {},
   "outputs": [],
   "source": []
  },
  {
   "cell_type": "code",
   "execution_count": null,
   "id": "64687eee",
   "metadata": {},
   "outputs": [],
   "source": []
  },
  {
   "cell_type": "code",
   "execution_count": null,
   "id": "f39ea135",
   "metadata": {},
   "outputs": [],
   "source": []
  }
 ],
 "metadata": {
  "kernelspec": {
   "display_name": "Python 3 (ipykernel)",
   "language": "python",
   "name": "python3"
  },
  "language_info": {
   "codemirror_mode": {
    "name": "ipython",
    "version": 3
   },
   "file_extension": ".py",
   "mimetype": "text/x-python",
   "name": "python",
   "nbconvert_exporter": "python",
   "pygments_lexer": "ipython3",
   "version": "3.9.16"
  }
 },
 "nbformat": 4,
 "nbformat_minor": 5
}

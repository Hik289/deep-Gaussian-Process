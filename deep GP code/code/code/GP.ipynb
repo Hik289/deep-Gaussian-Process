{
 "cells": [
  {
   "cell_type": "code",
   "execution_count": 2,
   "id": "2f49a1cf",
   "metadata": {},
   "outputs": [],
   "source": [
    "import GPy\n",
    "import numpy as np"
   ]
  },
  {
   "cell_type": "code",
   "execution_count": 3,
   "id": "c508120f",
   "metadata": {},
   "outputs": [
    {
     "name": "stderr",
     "output_type": "stream",
     "text": [
      " /Users/manifect/opt/miniconda3/lib/python3.9/site-packages/plotly/graph_objs/_deprecations.py:378: DeprecationWarning:plotly.graph_objs.Line is deprecated.\n",
      "Please replace it with one of the following more specific types\n",
      "  - plotly.graph_objs.scatter.Line\n",
      "  - plotly.graph_objs.layout.shape.Line\n",
      "  - etc.\n",
      "\n"
     ]
    }
   ],
   "source": [
    "GPy.plotting.change_plotting_library('plotly')"
   ]
  },
  {
   "cell_type": "code",
   "execution_count": 4,
   "id": "5e0e958f",
   "metadata": {},
   "outputs": [],
   "source": [
    "X = np.random.uniform(-3.,3.,(20,1))\n",
    "Y = np.sin(X) + np.random.randn(20,1)*0.05"
   ]
  },
  {
   "cell_type": "code",
   "execution_count": 5,
   "id": "e64d091a",
   "metadata": {},
   "outputs": [],
   "source": [
    "kernel = GPy.kern.RBF(input_dim=1, variance=1., lengthscale=1.)"
   ]
  },
  {
   "cell_type": "code",
   "execution_count": 7,
   "id": "a14927eb",
   "metadata": {},
   "outputs": [],
   "source": [
    "m = GPy.models.GPRegression(X,Y,kernel)"
   ]
  },
  {
   "cell_type": "code",
   "execution_count": 10,
   "id": "ae5cd9f0",
   "metadata": {},
   "outputs": [
    {
     "data": {
      "text/html": [
       "<style type=\"text/css\">\n",
       ".pd{\n",
       "    font-family: \"Courier New\", Courier, monospace !important;\n",
       "    width: 100%;\n",
       "    padding: 3px;\n",
       "}\n",
       "</style>\n",
       "\n",
       "<p class=pd>\n",
       "<b>Model</b>: GP regression<br>\n",
       "<b>Objective</b>: 22.49757124558067<br>\n",
       "<b>Number of Parameters</b>: 3<br>\n",
       "<b>Number of Optimization Parameters</b>: 3<br>\n",
       "<b>Updates</b>: True<br>\n",
       "</p>\n",
       "<style type=\"text/css\">\n",
       ".tg  {font-family:\"Courier New\", Courier, monospace !important;padding:2px 3px;word-break:normal;border-collapse:collapse;border-spacing:0;border-color:#DCDCDC;margin:0px auto;width:100%;}\n",
       ".tg td{font-family:\"Courier New\", Courier, monospace !important;font-weight:bold;color:#444;background-color:#F7FDFA;border-style:solid;border-width:1px;overflow:hidden;word-break:normal;border-color:#DCDCDC;}\n",
       ".tg th{font-family:\"Courier New\", Courier, monospace !important;font-weight:normal;color:#fff;background-color:#26ADE4;border-style:solid;border-width:1px;overflow:hidden;word-break:normal;border-color:#DCDCDC;}\n",
       ".tg .tg-left{font-family:\"Courier New\", Courier, monospace !important;font-weight:normal;text-align:left;}\n",
       ".tg .tg-center{font-family:\"Courier New\", Courier, monospace !important;font-weight:normal;text-align:center;}\n",
       ".tg .tg-right{font-family:\"Courier New\", Courier, monospace !important;font-weight:normal;text-align:right;}\n",
       "</style>\n",
       "<table class=\"tg\"><tr><th><b>  GP_regression.         </b></th><th><b>value</b></th><th><b>constraints</b></th><th><b>priors</b></th></tr>\n",
       "<tr><td class=tg-left>  rbf.variance           </td><td class=tg-right>  1.0</td><td class=tg-center>    +ve    </td><td class=tg-center>      </td></tr>\n",
       "<tr><td class=tg-left>  rbf.lengthscale        </td><td class=tg-right>  1.0</td><td class=tg-center>    +ve    </td><td class=tg-center>      </td></tr>\n",
       "<tr><td class=tg-left>  Gaussian_noise.variance</td><td class=tg-right>  1.0</td><td class=tg-center>    +ve    </td><td class=tg-center>      </td></tr>\n",
       "</table>"
      ],
      "text/plain": [
       "<GPy.models.gp_regression.GPRegression at 0x13a306310>"
      ]
     },
     "metadata": {},
     "output_type": "display_data"
    }
   ],
   "source": [
    "fig = m.plot()\n",
    "from IPython.display import display\n",
    "display(m)"
   ]
  },
  {
   "cell_type": "code",
   "execution_count": 12,
   "id": "14e8facb",
   "metadata": {},
   "outputs": [
    {
     "data": {
      "application/vnd.jupyter.widget-view+json": {
       "model_id": "042a9c6b15144ea1a23ddf276acd4297",
       "version_major": 2,
       "version_minor": 0
      },
      "text/plain": [
       "HBox(children=(VBox(children=(IntProgress(value=0, max=1000), HTML(value=''))), Box(children=(HTML(value=''),)…"
      ]
     },
     "metadata": {},
     "output_type": "display_data"
    },
    {
     "data": {
      "text/plain": [
       "<paramz.optimization.optimization.opt_lbfgsb at 0x13b19a2e0>"
      ]
     },
     "execution_count": 12,
     "metadata": {},
     "output_type": "execute_result"
    }
   ],
   "source": [
    "m.optimize(messages=True)"
   ]
  },
  {
   "cell_type": "code",
   "execution_count": 13,
   "id": "b937aaf4",
   "metadata": {},
   "outputs": [
    {
     "name": "stdout",
     "output_type": "stream",
     "text": [
      "Optimization restart 1/10, f = -19.523749589945716\n",
      "Optimization restart 2/10, f = -19.523749589919948\n",
      "Optimization restart 3/10, f = -19.523749589861673\n",
      "Optimization restart 4/10, f = -19.523749589945893\n",
      "Optimization restart 5/10, f = -19.52374958994184\n",
      "Optimization restart 6/10, f = -19.52374958994494\n",
      "Optimization restart 7/10, f = -19.523749589938994\n",
      "Optimization restart 8/10, f = -19.523749589930237\n",
      "Optimization restart 9/10, f = -19.52374958988836\n",
      "Optimization restart 10/10, f = -19.523749589902216\n"
     ]
    },
    {
     "data": {
      "text/plain": [
       "[<paramz.optimization.optimization.opt_lbfgsb at 0x13b19a2e0>,\n",
       " <paramz.optimization.optimization.opt_lbfgsb at 0x13b29fd00>,\n",
       " <paramz.optimization.optimization.opt_lbfgsb at 0x13a306370>,\n",
       " <paramz.optimization.optimization.opt_lbfgsb at 0x13b180d30>,\n",
       " <paramz.optimization.optimization.opt_lbfgsb at 0x13a631280>,\n",
       " <paramz.optimization.optimization.opt_lbfgsb at 0x13a61ba90>,\n",
       " <paramz.optimization.optimization.opt_lbfgsb at 0x13b180e20>,\n",
       " <paramz.optimization.optimization.opt_lbfgsb at 0x13a65fb20>,\n",
       " <paramz.optimization.optimization.opt_lbfgsb at 0x13b19ad90>,\n",
       " <paramz.optimization.optimization.opt_lbfgsb at 0x13b29f0d0>,\n",
       " <paramz.optimization.optimization.opt_lbfgsb at 0x13b28e790>]"
      ]
     },
     "execution_count": 13,
     "metadata": {},
     "output_type": "execute_result"
    }
   ],
   "source": [
    "m.optimize_restarts(num_restarts = 10)"
   ]
  },
  {
   "cell_type": "code",
   "execution_count": 16,
   "id": "38085ae4",
   "metadata": {},
   "outputs": [
    {
     "data": {
      "application/vnd.jupyter.widget-view+json": {
       "model_id": "90257157c35d404b8a1dc1dc61828963",
       "version_major": 2,
       "version_minor": 0
      },
      "text/plain": [
       "HBox(children=(VBox(children=(IntProgress(value=0, max=1000), HTML(value=''))), Box(children=(HTML(value=''),)…"
      ]
     },
     "metadata": {},
     "output_type": "display_data"
    },
    {
     "data": {
      "text/html": [
       "<style type=\"text/css\">\n",
       ".pd{\n",
       "    font-family: \"Courier New\", Courier, monospace !important;\n",
       "    width: 100%;\n",
       "    padding: 3px;\n",
       "}\n",
       "</style>\n",
       "\n",
       "<p class=pd>\n",
       "<b>Model</b>: GP regression<br>\n",
       "<b>Objective</b>: -18.533866088588766<br>\n",
       "<b>Number of Parameters</b>: 5<br>\n",
       "<b>Number of Optimization Parameters</b>: 5<br>\n",
       "<b>Updates</b>: True<br>\n",
       "</p>\n",
       "<style type=\"text/css\">\n",
       ".tg  {font-family:\"Courier New\", Courier, monospace !important;padding:2px 3px;word-break:normal;border-collapse:collapse;border-spacing:0;border-color:#DCDCDC;margin:0px auto;width:100%;}\n",
       ".tg td{font-family:\"Courier New\", Courier, monospace !important;font-weight:bold;color:#444;background-color:#F7FDFA;border-style:solid;border-width:1px;overflow:hidden;word-break:normal;border-color:#DCDCDC;}\n",
       ".tg th{font-family:\"Courier New\", Courier, monospace !important;font-weight:normal;color:#fff;background-color:#26ADE4;border-style:solid;border-width:1px;overflow:hidden;word-break:normal;border-color:#DCDCDC;}\n",
       ".tg .tg-left{font-family:\"Courier New\", Courier, monospace !important;font-weight:normal;text-align:left;}\n",
       ".tg .tg-center{font-family:\"Courier New\", Courier, monospace !important;font-weight:normal;text-align:center;}\n",
       ".tg .tg-right{font-family:\"Courier New\", Courier, monospace !important;font-weight:normal;text-align:right;}\n",
       "</style>\n",
       "<table class=\"tg\"><tr><th><b>  GP_regression.         </b></th><th><b>                value</b></th><th><b>constraints</b></th><th><b>priors</b></th></tr>\n",
       "<tr><td class=tg-left>  sum.Mat52.variance     </td><td class=tg-right>   0.4183485028272699</td><td class=tg-center>    +ve    </td><td class=tg-center>      </td></tr>\n",
       "<tr><td class=tg-left>  sum.Mat52.lengthscale  </td><td class=tg-right>                 (2,)</td><td class=tg-center>    +ve    </td><td class=tg-center>      </td></tr>\n",
       "<tr><td class=tg-left>  sum.white.variance     </td><td class=tg-right>0.0012245299433870471</td><td class=tg-center>    +ve    </td><td class=tg-center>      </td></tr>\n",
       "<tr><td class=tg-left>  Gaussian_noise.variance</td><td class=tg-right>0.0012245299433870471</td><td class=tg-center>    +ve    </td><td class=tg-center>      </td></tr>\n",
       "</table>"
      ],
      "text/plain": [
       "<GPy.models.gp_regression.GPRegression at 0x13b321d30>"
      ]
     },
     "metadata": {},
     "output_type": "display_data"
    }
   ],
   "source": [
    "# sample inputs and outputs\n",
    "X = np.random.uniform(-3.,3.,(50,2))\n",
    "Y = np.sin(X[:,0:1]) * np.sin(X[:,1:2])+np.random.randn(50,1)*0.05\n",
    "\n",
    "# define kernel\n",
    "ker = GPy.kern.Matern52(2,ARD=True) + GPy.kern.White(2)\n",
    "\n",
    "# create simple GP model\n",
    "m = GPy.models.GPRegression(X,Y,ker)\n",
    "\n",
    "# optimize and plot\n",
    "m.optimize(messages=True,max_f_eval = 1000)\n",
    "fig = m.plot()\n",
    "\n",
    "display(m)"
   ]
  },
  {
   "cell_type": "code",
   "execution_count": 17,
   "id": "6069a91d",
   "metadata": {},
   "outputs": [],
   "source": [
    "#import necessary modules, set up the plotting\n",
    "import numpy as np\n",
    "%matplotlib inline\n",
    "%config InlineBackend.figure_format = 'svg'\n",
    "import matplotlib;matplotlib.rcParams['figure.figsize'] = (8,6)\n",
    "from matplotlib import pyplot as plt\n",
    "import GPy"
   ]
  },
  {
   "cell_type": "code",
   "execution_count": 18,
   "id": "5bca4e69",
   "metadata": {},
   "outputs": [],
   "source": [
    "m = GPy.examples.regression.sparse_GP_regression_1D(plot=False, optimize=False)"
   ]
  },
  {
   "cell_type": "code",
   "execution_count": 22,
   "id": "5fda08be",
   "metadata": {},
   "outputs": [
    {
     "data": {
      "application/vnd.jupyter.widget-view+json": {
       "model_id": "b529e6a7840742d3a23c7145baa15df7",
       "version_major": 2,
       "version_minor": 0
      },
      "text/plain": [
       "HBox(children=(VBox(children=(IntProgress(value=0, max=1000), HTML(value=''))), Box(children=(HTML(value=''),)…"
      ]
     },
     "metadata": {},
     "output_type": "display_data"
    },
    {
     "data": {
      "text/plain": [
       "array([-3.54225173e-04,  3.67078393e-04,  2.31894830e-04,  5.19828676e-04,\n",
       "        3.94300665e-04,  8.70808435e-06,  1.73573170e-04,  1.48001518e-02])"
      ]
     },
     "execution_count": 22,
     "metadata": {},
     "output_type": "execute_result"
    }
   ],
   "source": [
    "m.optimize(messages = True)\n",
    "m.gradient"
   ]
  },
  {
   "cell_type": "code",
   "execution_count": 23,
   "id": "f852529f",
   "metadata": {},
   "outputs": [],
   "source": [
    "ker1 = GPy.kern.RBF(1)  # Equivalent to ker1 = GPy.kern.rbf(input_dim=1, variance=1., lengthscale=1.)\n",
    "ker2 = GPy.kern.RBF(input_dim=1, variance = .75, lengthscale=2.)\n",
    "ker3 = GPy.kern.RBF(1, .5, .5)"
   ]
  },
  {
   "cell_type": "code",
   "execution_count": 26,
   "id": "257b454c",
   "metadata": {},
   "outputs": [
    {
     "data": {
      "text/plain": [
       "(Figure({\n",
       "     'data': [{'colorscale': [[0.0, 'rgb(0,0,0)'], [0.3333333333333333,\n",
       "                              'rgb(230,0,0)'], [0.6666666666666666,\n",
       "                              'rgb(255,210,0)'], [1.0, 'rgb(255,255,255)']],\n",
       "               'type': 'contour',\n",
       "               'x': array([-3.45      , -3.24705882, -3.04411765, -2.84117647, -2.63823529,\n",
       "                           -2.43529412, -2.23235294, -2.02941176, -1.82647059, -1.62352941,\n",
       "                           -1.42058824, -1.21764706, -1.01470588, -0.81176471, -0.60882353,\n",
       "                           -0.40588235, -0.20294118,  0.        ,  0.20294118,  0.40588235,\n",
       "                            0.60882353,  0.81176471,  1.01470588,  1.21764706,  1.42058824,\n",
       "                            1.62352941,  1.82647059,  2.02941176,  2.23235294,  2.43529412,\n",
       "                            2.63823529,  2.84117647,  3.04411765,  3.24705882,  3.45      ]),\n",
       "               'xaxis': 'x',\n",
       "               'y': array([-3.45      , -3.24705882, -3.04411765, -2.84117647, -2.63823529,\n",
       "                           -2.43529412, -2.23235294, -2.02941176, -1.82647059, -1.62352941,\n",
       "                           -1.42058824, -1.21764706, -1.01470588, -0.81176471, -0.60882353,\n",
       "                           -0.40588235, -0.20294118,  0.        ,  0.20294118,  0.40588235,\n",
       "                            0.60882353,  0.81176471,  1.01470588,  1.21764706,  1.42058824,\n",
       "                            1.62352941,  1.82647059,  2.02941176,  2.23235294,  2.43529412,\n",
       "                            2.63823529,  2.84117647,  3.04411765,  3.24705882,  3.45      ]),\n",
       "               'yaxis': 'y',\n",
       "               'z': array([[-1.14824575, -1.26654208, -1.39064736, ..., -2.73529682, -2.60611093,\n",
       "                            -2.47168971],\n",
       "                           [-1.08070188, -1.19203961, -1.30884458, ..., -2.57439701, -2.45281029,\n",
       "                            -2.3262962 ],\n",
       "                           [-1.01315801, -1.11753713, -1.22704179, ..., -2.41349719, -2.29950964,\n",
       "                            -2.18090268],\n",
       "                           ...,\n",
       "                           [ 1.01315801,  1.11753713,  1.22704179, ...,  2.41349719,  2.29950964,\n",
       "                             2.18090268],\n",
       "                           [ 1.08070188,  1.19203961,  1.30884458, ...,  2.57439701,  2.45281029,\n",
       "                             2.3262962 ],\n",
       "                           [ 1.14824575,  1.26654208,  1.39064736, ...,  2.73529682,  2.60611093,\n",
       "                             2.47168971]])}],\n",
       "     'layout': {'font': {'family': 'Raleway, sans-serif'},\n",
       "                'showlegend': False,\n",
       "                'template': '...',\n",
       "                'xaxis': {'anchor': 'y', 'domain': [0.0, 1.0]},\n",
       "                'yaxis': {'anchor': 'x', 'domain': [0.0, 1.0]}}\n",
       " }),\n",
       " 1,\n",
       " 1)"
      ]
     },
     "execution_count": 26,
     "metadata": {},
     "output_type": "execute_result"
    }
   ],
   "source": [
    "k1 = GPy.kern.Linear(input_dim=1, active_dims=[0]) # works on the first column of X, index=0\n",
    "k2 = GPy.kern.ExpQuad(input_dim=1, lengthscale=3, active_dims=[1]) # works on the second column of X, index=1\n",
    "k = k1 * k2\n",
    "k.plot(x=np.ones((1,2)))"
   ]
  },
  {
   "cell_type": "code",
   "execution_count": 28,
   "id": "d1a2e4ca",
   "metadata": {},
   "outputs": [],
   "source": [
    "k1 = GPy.kern.PeriodicExponential(input_dim=1, active_dims=[0], period=6, lower=-10, upper=10)# + GPy.kern.Bias(1, variance=0, active_dims=[0])\n",
    "k2 = GPy.kern.PeriodicExponential(input_dim=1, active_dims=[1], period=8, lower=-10, upper=10)# + GPy.kern.Bias(1, variance=0, active_dims=[0])\n",
    "\n",
    "#k2 = GPy.kern.ExpQuad(1, active_dims=[1])\n",
    "k = k1 * k2\n"
   ]
  },
  {
   "cell_type": "code",
   "execution_count": 29,
   "id": "f240ce97",
   "metadata": {},
   "outputs": [],
   "source": [
    "N = 50\n",
    "noise_var = 0.05\n",
    "\n",
    "X = np.linspace(0,10,50)[:,None]\n",
    "k = GPy.kern.RBF(1)\n",
    "y = np.random.multivariate_normal(np.zeros(N),k.K(X)+np.eye(N)*np.sqrt(noise_var)).reshape(-1,1)"
   ]
  },
  {
   "cell_type": "code",
   "execution_count": null,
   "id": "2e53063c",
   "metadata": {},
   "outputs": [],
   "source": []
  },
  {
   "cell_type": "code",
   "execution_count": null,
   "id": "132d4c1d",
   "metadata": {},
   "outputs": [],
   "source": []
  },
  {
   "cell_type": "code",
   "execution_count": null,
   "id": "3400f56f",
   "metadata": {},
   "outputs": [],
   "source": []
  },
  {
   "cell_type": "code",
   "execution_count": null,
   "id": "1c3e6ad8",
   "metadata": {},
   "outputs": [],
   "source": []
  },
  {
   "cell_type": "code",
   "execution_count": null,
   "id": "4d013f7b",
   "metadata": {},
   "outputs": [],
   "source": []
  }
 ],
 "metadata": {
  "kernelspec": {
   "display_name": "Python 3 (ipykernel)",
   "language": "python",
   "name": "python3"
  },
  "language_info": {
   "codemirror_mode": {
    "name": "ipython",
    "version": 3
   },
   "file_extension": ".py",
   "mimetype": "text/x-python",
   "name": "python",
   "nbconvert_exporter": "python",
   "pygments_lexer": "ipython3",
   "version": "3.9.16"
  }
 },
 "nbformat": 4,
 "nbformat_minor": 5
}

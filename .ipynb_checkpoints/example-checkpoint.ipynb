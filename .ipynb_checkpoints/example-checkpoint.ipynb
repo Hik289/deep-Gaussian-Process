{
 "cells": [
  {
   "cell_type": "code",
   "execution_count": 79,
   "id": "57d9b353",
   "metadata": {},
   "outputs": [],
   "source": [
    "import pods\n",
    "import numpy as np\n",
    "import pandas as pd\n",
    "plt.rcParams['font.sans-serif'] = ['SimHei']\n",
    "plt.style.use('seaborn-darkgrid')"
   ]
  },
  {
   "cell_type": "markdown",
   "id": "d27e660e",
   "metadata": {},
   "source": [
    "# marathon data"
   ]
  },
  {
   "cell_type": "code",
   "execution_count": 80,
   "id": "915488a4",
   "metadata": {},
   "outputs": [],
   "source": [
    "data = pods.datasets.olympic_marathon_men()\n",
    "x = data['X']\n",
    "y = data['Y']\n",
    "offset = y.mean()\n",
    "scale = np.sqrt(y.var())\n",
    "yhat = (y-offset)/scale"
   ]
  },
  {
   "cell_type": "code",
   "execution_count": 6,
   "id": "4793c144",
   "metadata": {},
   "outputs": [],
   "source": [
    "import matplotlib.pyplot as plt\n",
    "import GPy\n",
    "import deepgp\n"
   ]
  },
  {
   "cell_type": "code",
   "execution_count": 7,
   "id": "63571e7b",
   "metadata": {},
   "outputs": [
    {
     "data": {
      "text/plain": [
       "(array([[1896.],\n",
       "        [1900.],\n",
       "        [1904.],\n",
       "        [1908.],\n",
       "        [1912.],\n",
       "        [1920.],\n",
       "        [1924.],\n",
       "        [1928.],\n",
       "        [1932.],\n",
       "        [1936.],\n",
       "        [1948.],\n",
       "        [1952.],\n",
       "        [1956.],\n",
       "        [1960.],\n",
       "        [1964.],\n",
       "        [1968.],\n",
       "        [1972.],\n",
       "        [1976.],\n",
       "        [1980.],\n",
       "        [1984.],\n",
       "        [1988.],\n",
       "        [1992.],\n",
       "        [1996.],\n",
       "        [2000.],\n",
       "        [2004.],\n",
       "        [2008.],\n",
       "        [2012.]]),\n",
       " array([[ 1.81301671],\n",
       "        [ 1.80160272],\n",
       "        [ 3.21777734],\n",
       "        [ 1.22183985],\n",
       "        [ 0.75181877],\n",
       "        [ 0.1276393 ],\n",
       "        [ 0.60452323],\n",
       "        [ 0.23109026],\n",
       "        [ 0.17126417],\n",
       "        [ 0.07022455],\n",
       "        [ 0.31573309],\n",
       "        [-0.20748668],\n",
       "        [-0.12121894],\n",
       "        [-0.55240994],\n",
       "        [-0.68904978],\n",
       "        [-0.32359361],\n",
       "        [-0.68328875],\n",
       "        [-0.78964624],\n",
       "        [-0.73942187],\n",
       "        [-0.81475843],\n",
       "        [-0.76231827],\n",
       "        [-0.63601875],\n",
       "        [-0.67073265],\n",
       "        [-0.77782874],\n",
       "        [-0.74533062],\n",
       "        [-0.93958076],\n",
       "        [-0.87384592]]))"
      ]
     },
     "execution_count": 7,
     "metadata": {},
     "output_type": "execute_result"
    }
   ],
   "source": [
    "x,yhat"
   ]
  },
  {
   "cell_type": "markdown",
   "id": "5c3afb2e",
   "metadata": {},
   "source": [
    "## two layers submodel"
   ]
  },
  {
   "cell_type": "code",
   "execution_count": 81,
   "id": "be7b1fd6",
   "metadata": {},
   "outputs": [],
   "source": [
    "layers = [1,1,1]\n",
    "\n",
    "kernels = []\n",
    "for i in layers[1:]:\n",
    "    kernels += [GPy.kern.RBF(i,ARD=False,variance = 1)]\n",
    "m_a = deepgp.DeepGP(layers,Y=yhat, X=x, inits = None,\n",
    "                  kernels=kernels, # the kernels for each layer\n",
    "                  num_inducing=len(x), back_constraint=False,lengthscale = 2)"
   ]
  },
  {
   "cell_type": "code",
   "execution_count": 82,
   "id": "96cec791",
   "metadata": {},
   "outputs": [],
   "source": [
    "\n",
    "for i in range(len(m_a.layers)):\n",
    "    output_var = m_a.layers[i].Y.var() if i==0 else m_a.layers[i].Y.mean.var()\n",
    "    m_a.layers[i].Gaussian_noise.variance = output_var*0\n",
    "#     if i== 2:\n",
    "#         m_a.layers[i].fix()\n",
    "    m_a.layers[i].Gaussian_noise.variance.fix()\n",
    "#    m_a.layers[i].kern.variance.fix()"
   ]
  },
  {
   "cell_type": "code",
   "execution_count": 83,
   "id": "ef94b53e",
   "metadata": {},
   "outputs": [
    {
     "name": "stderr",
     "output_type": "stream",
     "text": [
      " /Users/manifect/opt/miniconda3/lib/python3.9/site-packages/paramz/transformations.py:111: RuntimeWarning:divide by zero encountered in log\n"
     ]
    },
    {
     "data": {
      "application/vnd.jupyter.widget-view+json": {
       "model_id": "445deb15bd794915a1b0afdd8d1b62c2",
       "version_major": 2,
       "version_minor": 0
      },
      "text/plain": [
       "HBox(children=(VBox(children=(IntProgress(value=0, max=2000), HTML(value=''))), Box(children=(HTML(value=''),)…"
      ]
     },
     "metadata": {},
     "output_type": "display_data"
    }
   ],
   "source": [
    "m_a.optimize(max_iters=2000, messages=True)"
   ]
  },
  {
   "cell_type": "code",
   "execution_count": 84,
   "id": "34510e6f",
   "metadata": {},
   "outputs": [
    {
     "data": {
      "text/plain": [
       "Text(0.5, 1.0, 'submodel 2-layer-GP for marathon data')"
      ]
     },
     "execution_count": 84,
     "metadata": {},
     "output_type": "execute_result"
    },
    {
     "data": {
      "image/png": "[encoded data removed]",
      "text/plain": [
       "<Figure size 432x288 with 1 Axes>"
      ]
     },
     "metadata": {},
     "output_type": "display_data"
    }
   ],
   "source": [
    "plt.plot(np.linspace(1896,2012,100).reshape(-1,1),m_a.predict(np.linspace(1896,2012,100).reshape(-1,1))[0])\n",
    "plt.scatter(x,yhat,c = 'red')\n",
    "plt.xlabel('year')\n",
    "plt.ylabel('speed')\n",
    "plt.title('submodel 2-layer-GP for marathon data')"
   ]
  },
  {
   "cell_type": "markdown",
   "id": "4145681e",
   "metadata": {},
   "source": [
    "## three layers submodel"
   ]
  },
  {
   "cell_type": "code",
   "execution_count": 85,
   "id": "446272d3",
   "metadata": {},
   "outputs": [],
   "source": [
    "layers = [1,1,1,1]\n",
    "\n",
    "kernels = []\n",
    "for i in layers[1:]:\n",
    "    kernels += [GPy.kern.RBF(i,ARD=False,variance = 1)]\n",
    "m_a = deepgp.DeepGP(layers,Y=yhat, X=x, inits = None,\n",
    "                  kernels=kernels, # the kernels for each layer\n",
    "                  num_inducing=len(x), back_constraint=False,lengthscale = 2)"
   ]
  },
  {
   "cell_type": "code",
   "execution_count": 86,
   "id": "db5d90a2",
   "metadata": {},
   "outputs": [],
   "source": [
    "\n",
    "for i in range(len(m_a.layers)):\n",
    "    output_var = m_a.layers[i].Y.var() if i==0 else m_a.layers[i].Y.mean.var()\n",
    "    m_a.layers[i].Gaussian_noise.variance = output_var*0\n",
    "#     if i== 2:\n",
    "#         m_a.layers[i].fix()\n",
    "    m_a.layers[i].Gaussian_noise.variance.fix()\n",
    "#    m_a.layers[i].kern.variance.fix()"
   ]
  },
  {
   "cell_type": "code",
   "execution_count": 87,
   "id": "2d359544",
   "metadata": {},
   "outputs": [
    {
     "data": {
      "application/vnd.jupyter.widget-view+json": {
       "model_id": "34a5194eb7e64571919e6745de31ef8a",
       "version_major": 2,
       "version_minor": 0
      },
      "text/plain": [
       "HBox(children=(VBox(children=(IntProgress(value=0, max=2000), HTML(value=''))), Box(children=(HTML(value=''),)…"
      ]
     },
     "metadata": {},
     "output_type": "display_data"
    }
   ],
   "source": [
    "m_a.optimize(max_iters=2000, messages=True)"
   ]
  },
  {
   "cell_type": "code",
   "execution_count": 88,
   "id": "4590399a",
   "metadata": {},
   "outputs": [
    {
     "data": {
      "text/plain": [
       "Text(0.5, 1.0, 'submodel 3-layer-GP for marathon data')"
      ]
     },
     "execution_count": 88,
     "metadata": {},
     "output_type": "execute_result"
    },
    {
     "data": {
      "image/png": "[encoded data removed]",
      "text/plain": [
       "<Figure size 432x288 with 1 Axes>"
      ]
     },
     "metadata": {},
     "output_type": "display_data"
    }
   ],
   "source": [
    "plt.plot(np.linspace(1896,2012,100).reshape(-1,1),m_a.predict(np.linspace(1896,2012,100).reshape(-1,1))[0])\n",
    "plt.scatter(x,yhat,c = 'red')\n",
    "plt.xlabel('year')\n",
    "plt.ylabel('speed')\n",
    "plt.title('submodel 3-layer-GP for marathon data')"
   ]
  },
  {
   "cell_type": "markdown",
   "id": "001e8864",
   "metadata": {},
   "source": [
    "## traditional marathon"
   ]
  },
  {
   "cell_type": "code",
   "execution_count": 89,
   "id": "7b672ca2",
   "metadata": {},
   "outputs": [
    {
     "data": {
      "application/vnd.jupyter.widget-view+json": {
       "model_id": "6a2f845638e94a7ea8565edd55fd33d8",
       "version_major": 2,
       "version_minor": 0
      },
      "text/plain": [
       "HBox(children=(VBox(children=(IntProgress(value=0, max=1000), HTML(value=''))), Box(children=(HTML(value=''),)…"
      ]
     },
     "metadata": {},
     "output_type": "display_data"
    }
   ],
   "source": [
    "m_full = GPy.models.GPRegression(x,yhat,noise_var=0.1)\n",
    "_ = m_full.optimize(messages=True) # Optimize parameters of covariance function"
   ]
  },
  {
   "cell_type": "code",
   "execution_count": 90,
   "id": "583fc7ed",
   "metadata": {},
   "outputs": [
    {
     "data": {
      "text/plain": [
       "Text(0.5, 1.0, 'traditional GPR for marathon data')"
      ]
     },
     "execution_count": 90,
     "metadata": {},
     "output_type": "execute_result"
    },
    {
     "data": {
      "image/png": "[encoded data removed]",
      "text/plain": [
       "<Figure size 432x288 with 1 Axes>"
      ]
     },
     "metadata": {},
     "output_type": "display_data"
    }
   ],
   "source": [
    "plt.plot(np.linspace(1896,2012,100).reshape(-1,1),m_full.predict(np.linspace(1896,2012,100).reshape(-1,1))[0])\n",
    "plt.scatter(x,yhat,c = 'red')\n",
    "plt.xlabel('year')\n",
    "plt.ylabel('speed')\n",
    "plt.title('traditional GPR for marathon data')"
   ]
  },
  {
   "cell_type": "markdown",
   "id": "9b8ff0a8",
   "metadata": {},
   "source": [
    "# polynomial and line data"
   ]
  },
  {
   "cell_type": "code",
   "execution_count": 93,
   "id": "6f163c45",
   "metadata": {},
   "outputs": [],
   "source": [
    "data = pods.datasets.olympic_marathon_men()\n",
    "\n",
    "x = pd.read_csv('/Users/manifect/Desktop/ST5188/code/data/x_2.csv')['x'].values.reshape(-1,1)\n",
    "y = pd.read_csv('/Users/manifect/Desktop/ST5188/code/data/y_2.csv')['x'].values.reshape(-1,1)\n",
    "\n",
    "offset = y.mean()\n",
    "scale = np.sqrt(y.var())\n",
    "yhat = (y-offset)/scale"
   ]
  },
  {
   "cell_type": "markdown",
   "id": "ebef3159",
   "metadata": {},
   "source": [
    "## three layers submodel"
   ]
  },
  {
   "cell_type": "code",
   "execution_count": 94,
   "id": "b3f608ff",
   "metadata": {},
   "outputs": [],
   "source": [
    "layers = [1,1,1,1]\n",
    "\n",
    "kernels = []\n",
    "for i in layers[1:]:\n",
    "    kernels += [GPy.kern.RBF(i,ARD=False,variance = 1)]\n",
    "m_a = deepgp.DeepGP(layers,Y=yhat, X=x, inits = None,\n",
    "                  kernels=kernels, # the kernels for each layer\n",
    "                  num_inducing=len(x), back_constraint=False,lengthscale = 2)"
   ]
  },
  {
   "cell_type": "code",
   "execution_count": 95,
   "id": "8d9a4fc0",
   "metadata": {},
   "outputs": [],
   "source": [
    "\n",
    "for i in range(len(m_a.layers)):\n",
    "    output_var = m_a.layers[i].Y.var() if i==0 else m_a.layers[i].Y.mean.var()\n",
    "    m_a.layers[i].Gaussian_noise.variance = output_var*0\n",
    "#     if i== 2:\n",
    "#         m_a.layers[i].fix()\n",
    "    m_a.layers[i].Gaussian_noise.variance.fix()\n",
    "#    m_a.layers[i].kern.variance.fix()"
   ]
  },
  {
   "cell_type": "code",
   "execution_count": 96,
   "id": "b191a398",
   "metadata": {},
   "outputs": [
    {
     "name": "stderr",
     "output_type": "stream",
     "text": [
      " /Users/manifect/opt/miniconda3/lib/python3.9/site-packages/paramz/transformations.py:111: RuntimeWarning:divide by zero encountered in log\n"
     ]
    },
    {
     "data": {
      "application/vnd.jupyter.widget-view+json": {
       "model_id": "bf45b834a88c474abc47a367d8e69223",
       "version_major": 2,
       "version_minor": 0
      },
      "text/plain": [
       "HBox(children=(VBox(children=(IntProgress(value=0, max=2000), HTML(value=''))), Box(children=(HTML(value=''),)…"
      ]
     },
     "metadata": {},
     "output_type": "display_data"
    }
   ],
   "source": [
    "m_a.optimize(max_iters=2000, messages=True)"
   ]
  },
  {
   "cell_type": "code",
   "execution_count": 98,
   "id": "bb12d6dd",
   "metadata": {},
   "outputs": [
    {
     "data": {
      "text/plain": [
       "Text(0.5, 1.0, 'submodel 3-layer-GP for polynomial and line data')"
      ]
     },
     "execution_count": 98,
     "metadata": {},
     "output_type": "execute_result"
    },
    {
     "data": {
      "image/png": "[encoded data removed]",
      "text/plain": [
       "<Figure size 432x288 with 1 Axes>"
      ]
     },
     "metadata": {},
     "output_type": "display_data"
    }
   ],
   "source": [
    "plt.plot(np.linspace(0,1,100).reshape(-1,1),m_a.predict(np.linspace(0,1,100).reshape(-1,1))[0])\n",
    "plt.scatter(x,yhat,c = 'red')\n",
    "plt.xlabel('year')\n",
    "plt.ylabel('speed')\n",
    "plt.title('submodel 3-layer-GP for polynomial and line data')"
   ]
  },
  {
   "cell_type": "markdown",
   "id": "9c9e81c3",
   "metadata": {},
   "source": [
    "## two layers submodel"
   ]
  },
  {
   "cell_type": "code",
   "execution_count": 112,
   "id": "6d5afa52",
   "metadata": {},
   "outputs": [],
   "source": [
    "layers = [1,1,1]\n",
    "\n",
    "kernels = []\n",
    "for i in layers[1:]:\n",
    "    kernels += [GPy.kern.RBF(i,ARD=False,variance = 1)]\n",
    "m_a = deepgp.DeepGP(layers,Y=yhat, X=x, inits = None,\n",
    "                  kernels=kernels, # the kernels for each layer\n",
    "                  num_inducing=len(x), back_constraint=False,lengthscale = 2)"
   ]
  },
  {
   "cell_type": "code",
   "execution_count": 113,
   "id": "b7172ccf",
   "metadata": {},
   "outputs": [],
   "source": [
    "\n",
    "for i in range(len(m_a.layers)):\n",
    "    output_var = m_a.layers[i].Y.var() if i==0 else m_a.layers[i].Y.mean.var()\n",
    "    m_a.layers[i].Gaussian_noise.variance = output_var*0\n",
    "#     if i== 2:\n",
    "#         m_a.layers[i].fix()\n",
    "    m_a.layers[i].Gaussian_noise.variance.fix()\n",
    "#    m_a.layers[i].kern.variance.fix()"
   ]
  },
  {
   "cell_type": "code",
   "execution_count": 114,
   "id": "d6d822f5",
   "metadata": {},
   "outputs": [
    {
     "data": {
      "application/vnd.jupyter.widget-view+json": {
       "model_id": "b7a5586da6714ad8a18e97b355e8197f",
       "version_major": 2,
       "version_minor": 0
      },
      "text/plain": [
       "HBox(children=(VBox(children=(IntProgress(value=0, max=2000), HTML(value=''))), Box(children=(HTML(value=''),)…"
      ]
     },
     "metadata": {},
     "output_type": "display_data"
    }
   ],
   "source": [
    "m_a.optimize(max_iters=2000, messages=True)"
   ]
  },
  {
   "cell_type": "code",
   "execution_count": 116,
   "id": "9dc8a566",
   "metadata": {},
   "outputs": [
    {
     "data": {
      "text/plain": [
       "Text(0.5, 1.0, 'submodel 2-layer-GP for polynomial and line data')"
      ]
     },
     "execution_count": 116,
     "metadata": {},
     "output_type": "execute_result"
    },
    {
     "data": {
      "image/png": "[encoded data removed]",
      "text/plain": [
       "<Figure size 432x288 with 1 Axes>"
      ]
     },
     "metadata": {},
     "output_type": "display_data"
    }
   ],
   "source": [
    "plt.plot(np.linspace(0,1,100).reshape(-1,1),m_a.predict(np.linspace(0,1,100).reshape(-1,1))[0])\n",
    "plt.scatter(x,yhat,c = 'red')\n",
    "plt.xlabel('year')\n",
    "plt.ylabel('speed')\n",
    "plt.title('submodel 2-layer-GP for polynomial and line data')"
   ]
  },
  {
   "cell_type": "markdown",
   "id": "41135b05",
   "metadata": {},
   "source": [
    "# sgn(x) dataset"
   ]
  },
  {
   "cell_type": "code",
   "execution_count": 117,
   "id": "b245488a",
   "metadata": {},
   "outputs": [],
   "source": [
    "data = pods.datasets.olympic_marathon_men()\n",
    "\n",
    "x = pd.read_csv('/Users/manifect/Desktop/ST5188/code/data/x_3.csv')['x'].values.reshape(-1,1)\n",
    "y = pd.read_csv('/Users/manifect/Desktop/ST5188/code/data/y_3.csv')['x'].values.reshape(-1,1)\n",
    "\n",
    "offset = y.mean()\n",
    "scale = np.sqrt(y.var())\n",
    "yhat = (y-offset)/scale"
   ]
  },
  {
   "cell_type": "markdown",
   "id": "f0a10720",
   "metadata": {},
   "source": [
    "## three layers submodel"
   ]
  },
  {
   "cell_type": "code",
   "execution_count": 118,
   "id": "5e85bb8b",
   "metadata": {},
   "outputs": [],
   "source": [
    "layers = [1,1,1,1]\n",
    "\n",
    "kernels = []\n",
    "for i in layers[1:]:\n",
    "    kernels += [GPy.kern.RBF(i,ARD=False,variance = 1)]\n",
    "m_a = deepgp.DeepGP(layers,Y=yhat, X=x, inits = None,\n",
    "                  kernels=kernels, # the kernels for each layer\n",
    "                  num_inducing=len(x), back_constraint=False,lengthscale = 2)"
   ]
  },
  {
   "cell_type": "code",
   "execution_count": 119,
   "id": "a5bfa068",
   "metadata": {},
   "outputs": [],
   "source": [
    "\n",
    "for i in range(len(m_a.layers)):\n",
    "    output_var = m_a.layers[i].Y.var() if i==0 else m_a.layers[i].Y.mean.var()\n",
    "    m_a.layers[i].Gaussian_noise.variance = output_var*0\n",
    "#     if i== 2:\n",
    "#         m_a.layers[i].fix()\n",
    "    m_a.layers[i].Gaussian_noise.variance.fix()\n",
    "#    m_a.layers[i].kern.variance.fix()"
   ]
  },
  {
   "cell_type": "code",
   "execution_count": 120,
   "id": "bcb32cd1",
   "metadata": {},
   "outputs": [
    {
     "name": "stderr",
     "output_type": "stream",
     "text": [
      " /Users/manifect/opt/miniconda3/lib/python3.9/site-packages/paramz/transformations.py:111: RuntimeWarning:divide by zero encountered in log\n"
     ]
    },
    {
     "data": {
      "application/vnd.jupyter.widget-view+json": {
       "model_id": "3bbe0808c57b4af0a7c54371a77ba8f0",
       "version_major": 2,
       "version_minor": 0
      },
      "text/plain": [
       "HBox(children=(VBox(children=(IntProgress(value=0, max=2000), HTML(value=''))), Box(children=(HTML(value=''),)…"
      ]
     },
     "metadata": {},
     "output_type": "display_data"
    }
   ],
   "source": [
    "m_a.optimize(max_iters=2000, messages=True)"
   ]
  },
  {
   "cell_type": "code",
   "execution_count": 122,
   "id": "0a6ac726",
   "metadata": {},
   "outputs": [
    {
     "data": {
      "text/plain": [
       "Text(0.5, 1.0, 'submodel 3-layer-GP for sgn(x)')"
      ]
     },
     "execution_count": 122,
     "metadata": {},
     "output_type": "execute_result"
    },
    {
     "data": {
      "image/png": "[encoded data removed]",
      "text/plain": [
       "<Figure size 432x288 with 1 Axes>"
      ]
     },
     "metadata": {},
     "output_type": "display_data"
    }
   ],
   "source": [
    "plt.plot(np.linspace(0,1,100).reshape(-1,1),m_a.predict(np.linspace(0,1,100).reshape(-1,1))[0])\n",
    "plt.scatter(x,yhat,c = 'red')\n",
    "plt.xlabel('year')\n",
    "plt.ylabel('speed')\n",
    "plt.title('submodel 3-layer-GP for sgn(x)')"
   ]
  },
  {
   "cell_type": "markdown",
   "id": "b5522f32",
   "metadata": {},
   "source": [
    "## two layers submodel"
   ]
  },
  {
   "cell_type": "code",
   "execution_count": 128,
   "id": "a8f13223",
   "metadata": {},
   "outputs": [],
   "source": [
    "layers = [1,1,1]\n",
    "\n",
    "kernels = []\n",
    "for i in layers[1:]:\n",
    "    kernels += [GPy.kern.RBF(i,ARD=False,variance = 1)]\n",
    "m_a = deepgp.DeepGP(layers,Y=yhat, X=x, inits = None,\n",
    "                  kernels=kernels, # the kernels for each layer\n",
    "                  num_inducing=len(x), back_constraint=False,lengthscale = 2)"
   ]
  },
  {
   "cell_type": "code",
   "execution_count": 129,
   "id": "361f0112",
   "metadata": {},
   "outputs": [],
   "source": [
    "\n",
    "for i in range(len(m_a.layers)):\n",
    "    output_var = m_a.layers[i].Y.var() if i==0 else m_a.layers[i].Y.mean.var()\n",
    "    m_a.layers[i].Gaussian_noise.variance = output_var*0\n",
    "#     if i== 2:\n",
    "#         m_a.layers[i].fix()\n",
    "    m_a.layers[i].Gaussian_noise.variance.fix()\n",
    "#    m_a.layers[i].kern.variance.fix()"
   ]
  },
  {
   "cell_type": "code",
   "execution_count": 130,
   "id": "366ec48d",
   "metadata": {},
   "outputs": [
    {
     "data": {
      "application/vnd.jupyter.widget-view+json": {
       "model_id": "f9c21e2b285d4cba92dc149326618a94",
       "version_major": 2,
       "version_minor": 0
      },
      "text/plain": [
       "HBox(children=(VBox(children=(IntProgress(value=0, max=2000), HTML(value=''))), Box(children=(HTML(value=''),)…"
      ]
     },
     "metadata": {},
     "output_type": "display_data"
    }
   ],
   "source": [
    "m_a.optimize(max_iters=2000, messages=True)"
   ]
  },
  {
   "cell_type": "code",
   "execution_count": 131,
   "id": "3b5e33a3",
   "metadata": {},
   "outputs": [
    {
     "data": {
      "text/plain": [
       "Text(0.5, 1.0, 'submodel 2-layer-GP for sgn(x)')"
      ]
     },
     "execution_count": 131,
     "metadata": {},
     "output_type": "execute_result"
    },
    {
     "data": {
      "image/png": "[encoded data removed]",
      "text/plain": [
       "<Figure size 432x288 with 1 Axes>"
      ]
     },
     "metadata": {},
     "output_type": "display_data"
    }
   ],
   "source": [
    "plt.plot(np.linspace(0,1,100).reshape(-1,1),m_a.predict(np.linspace(0,1,100).reshape(-1,1))[0])\n",
    "plt.scatter(x,yhat,c = 'red')\n",
    "plt.xlabel('year')\n",
    "plt.ylabel('speed')\n",
    "plt.title('submodel 2-layer-GP for sgn(x)')"
   ]
  },
  {
   "cell_type": "markdown",
   "id": "2b3a8c81",
   "metadata": {},
   "source": [
    "# other functions"
   ]
  },
  {
   "cell_type": "code",
   "execution_count": 92,
   "id": "6d48c9ce",
   "metadata": {},
   "outputs": [],
   "source": [
    "def Cov(x1, x2, l=1.0, sigma_f=1.0):\n",
    "    m, n = x1.shape[0], x2.shape[0]\n",
    "    dist_matrix = np.zeros((m, n), dtype=float)\n",
    "    for i in range(m):\n",
    "        for j in range(n):\n",
    "            dist_matrix[i][j] = np.sum((x1[i] - x2[j])**2)\n",
    "    return sigma_f**2 * np.exp(-0.5 / l**2 * dist_matrix)\n",
    "\n",
    "def Cov2(x1, x2, l=1.0, sigma_f=1.0):\n",
    "    dist_matrix = np.sum(x1**2, 1).reshape(-1, 1) + np.sum(x2**2, 1) - 2 * np.dot(x1, x2.T)\n",
    "    return sigma_f**2 * np.exp(-0.5 / l**2 * dist_matrix)"
   ]
  },
  {
   "cell_type": "code",
   "execution_count": 93,
   "id": "7980c006",
   "metadata": {},
   "outputs": [
    {
     "name": "stdout",
     "output_type": "stream",
     "text": [
      "layer_1\n",
      "124.01476432192219\n",
      "layer_2\n",
      "(110.63382447019168+0j)\n",
      "layer_3\n",
      "64.56453401304228\n"
     ]
    }
   ],
   "source": [
    "for num_layers in range(1,len(m_a.layers)):\n",
    "    print(m_a.layers[num_layers].name)\n",
    "    K = Cov2(m_a.layers[num_layers].parameters[0], m_a.layers[num_layers].parameters[0], \\\n",
    "                    l=m_a.layers[num_layers].parameters[1][1], sigma_f=m_a.layers[num_layers].parameters[1][0])\n",
    "    print(np.linalg.eigvals(K).max())"
   ]
  },
  {
   "cell_type": "code",
   "execution_count": 55,
   "id": "3839a3fe",
   "metadata": {},
   "outputs": [],
   "source": [
    "def rmse(predictions, targets):\n",
    "    return np.sqrt(((predictions.flatten() - targets.flatten()) ** 2).mean())"
   ]
  }
 ],
 "metadata": {
  "kernelspec": {
   "display_name": "Python 3 (ipykernel)",
   "language": "python",
   "name": "python3"
  },
  "language_info": {
   "codemirror_mode": {
    "name": "ipython",
    "version": 3
   },
   "file_extension": ".py",
   "mimetype": "text/x-python",
   "name": "python",
   "nbconvert_exporter": "python",
   "pygments_lexer": "ipython3",
   "version": "3.9.16"
  }
 },
 "nbformat": 4,
 "nbformat_minor": 5
}

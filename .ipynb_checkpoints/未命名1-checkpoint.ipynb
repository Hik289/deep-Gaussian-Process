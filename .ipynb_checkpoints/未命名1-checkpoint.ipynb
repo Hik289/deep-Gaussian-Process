{
 "cells": [
  {
   "cell_type": "code",
   "execution_count": 1,
   "id": "57d9b353",
   "metadata": {},
   "outputs": [],
   "source": [
    "import pods\n",
    "import numpy as np"
   ]
  },
  {
   "cell_type": "code",
   "execution_count": 2,
   "id": "28246360",
   "metadata": {},
   "outputs": [],
   "source": [
    "data = pods.datasets.della_gatta_TRP63_gene_expression(data_set='della_gatta',gene_number=937)\n",
    "\n",
    "x = data['X']\n",
    "y = data['Y']\n",
    "\n",
    "offset = y.mean()\n",
    "scale = np.sqrt(y.var())"
   ]
  },
  {
   "cell_type": "code",
   "execution_count": 3,
   "id": "4793c144",
   "metadata": {},
   "outputs": [],
   "source": [
    "import matplotlib.pyplot as plt\n",
    "import GPy\n",
    "import deepgp\n"
   ]
  },
  {
   "cell_type": "code",
   "execution_count": 4,
   "id": "be7b1fd6",
   "metadata": {},
   "outputs": [],
   "source": [
    "layers = [1 for i in range(20)]\n",
    "inits = ['PCA']*(len(layers)-1)\n",
    "kernels = []\n",
    "for i in layers[1:]:\n",
    "    kernels += [GPy.kern.RBF(i,ARD=False,lengthscale = None)]\n",
    "m = deepgp.DeepGP(layers,Y=x, X=x, \n",
    "                  inits=inits, \n",
    "                  kernels=kernels, # the kernels for each layer\n",
    "                  num_inducing=5, back_constraint=False,lengthscale = 2)"
   ]
  },
  {
   "cell_type": "code",
   "execution_count": 11,
   "id": "96cec791",
   "metadata": {},
   "outputs": [],
   "source": [
    "\n",
    "for i in range(len(m.layers)):\n",
    "    output_var = m.layers[i].Y.var() if i==0 else m.layers[i].Y.mean.var()\n",
    "    m.layers[i].Gaussian_noise.variance = output_var*0\n",
    "#     if i== 4:\n",
    "#         m.layers[i].fix()\n",
    "    m.layers[i].Gaussian_noise.variance.fix()\n",
    "    m.layers[i].kern.lengthscale.fix()"
   ]
  },
  {
   "cell_type": "code",
   "execution_count": 12,
   "id": "ef94b53e",
   "metadata": {},
   "outputs": [
    {
     "data": {
      "application/vnd.jupyter.widget-view+json": {
       "model_id": "2d0bc17857f14457a465de24a84bcf82",
       "version_major": 2,
       "version_minor": 0
      },
      "text/plain": [
       "HBox(children=(VBox(children=(IntProgress(value=0, max=5000), HTML(value=''))), Box(children=(HTML(value=''),)…"
      ]
     },
     "metadata": {},
     "output_type": "display_data"
    }
   ],
   "source": [
    "m.optimize(max_iters=5000, messages=True)"
   ]
  },
  {
   "cell_type": "code",
   "execution_count": 13,
   "id": "b5c0039a",
   "metadata": {},
   "outputs": [
    {
     "data": {
      "text/plain": [
       "<matplotlib.collections.PathCollection at 0x1759527f0>"
      ]
     },
     "execution_count": 13,
     "metadata": {},
     "output_type": "execute_result"
    },
    {
     "data": {
      "image/png": "[encoded data removed]",
      "text/plain": [
       "<Figure size 432x288 with 1 Axes>"
      ]
     },
     "metadata": {
      "needs_background": "light"
     },
     "output_type": "display_data"
    }
   ],
   "source": [
    "plt.plot(x,m.predict(x)[0])\n",
    "plt.scatter(x,x)"
   ]
  },
  {
   "cell_type": "code",
   "execution_count": 14,
   "id": "6d48c9ce",
   "metadata": {},
   "outputs": [],
   "source": [
    "def Cov(x1, x2, l=1.0, sigma_f=1.0):\n",
    "    m, n = x1.shape[0], x2.shape[0]\n",
    "    dist_matrix = np.zeros((m, n), dtype=float)\n",
    "    for i in range(m):\n",
    "        for j in range(n):\n",
    "            dist_matrix[i][j] = np.sum((x1[i] - x2[j])**2)\n",
    "    return sigma_f**2 * np.exp(-0.5 / l**2 * dist_matrix)\n",
    "\n",
    "def Cov2(x1, x2, l=1.0, sigma_f=1.0):\n",
    "    dist_matrix = np.sum(x1**2, 1).reshape(-1, 1) + np.sum(x2**2, 1) - 2 * np.dot(x1, x2.T)\n",
    "    return sigma_f**2 * np.exp(-0.5 / l**2 * dist_matrix)"
   ]
  },
  {
   "cell_type": "code",
   "execution_count": 21,
   "id": "7980c006",
   "metadata": {},
   "outputs": [
    {
     "name": "stdout",
     "output_type": "stream",
     "text": [
      "63.72228404240188\n",
      "0.00146631206326238\n",
      "0.05890979838656354\n",
      "0.32453671821766916\n",
      "0.9332490705850311\n",
      "1.1631706798224433\n",
      "0.6347855476572516\n",
      "0.768342726569443\n",
      "0.467738637517914\n",
      "0.09312724880269244\n",
      "0.6272957437073065\n",
      "0.4744083609281371\n",
      "0.28679718984252567\n",
      "0.6770256111317869\n",
      "0.05087975104973508\n",
      "0.10408517677867875\n",
      "0.7891958638266734\n",
      "0.14855856817123853\n",
      "9.535784207921224e-07\n"
     ]
    }
   ],
   "source": [
    "for num_layers in range(len(m.layers)):\n",
    "    K = Cov2(m.layers[num_layers].parameters[0], m.layers[num_layers].parameters[0], \\\n",
    "                    l=m.layers[num_layers].parameters[1][1], sigma_f=m.layers[num_layers].parameters[1][0])\n",
    "    print(np.linalg.eigvals(K).max())"
   ]
  },
  {
   "cell_type": "code",
   "execution_count": 17,
   "id": "3839a3fe",
   "metadata": {},
   "outputs": [],
   "source": [
    "def rmse(predictions, targets):\n",
    "    return np.sqrt(((predictions.flatten() - targets.flatten()) ** 2).mean())"
   ]
  },
  {
   "cell_type": "code",
   "execution_count": 15,
   "id": "e34a3012",
   "metadata": {},
   "outputs": [],
   "source": [
    "Y_pred = m.predict(x)[0]\n",
    "Y_pred_s = m.predict_withSamples(x, nSamples=10)[0]"
   ]
  },
  {
   "cell_type": "code",
   "execution_count": 20,
   "id": "1d3c9694",
   "metadata": {},
   "outputs": [
    {
     "name": "stdout",
     "output_type": "stream",
     "text": [
      "82.02034111366548\n",
      "55.49388211067329\n"
     ]
    }
   ],
   "source": [
    "print(rmse(Y_pred,x))\n",
    "print(rmse(Y_pred_s,x))"
   ]
  },
  {
   "cell_type": "code",
   "execution_count": 22,
   "id": "277ab59a",
   "metadata": {},
   "outputs": [],
   "source": [
    "layers = [1 for i in range(20)]\n",
    "inits = ['PCA']*(len(layers)-1)\n",
    "kernels = []\n",
    "for i in layers[1:]:\n",
    "    kernels += [GPy.kern.RBF(i,ARD=False,lengthscale = None)]\n",
    "m = deepgp.DeepGP(layers,Y=x, X=x, \n",
    "                  inits=inits, \n",
    "                  kernels=kernels, # the kernels for each layer\n",
    "                  num_inducing=5, back_constraint=False,lengthscale = 2)"
   ]
  },
  {
   "cell_type": "code",
   "execution_count": 23,
   "id": "d3c15bd4",
   "metadata": {},
   "outputs": [],
   "source": [
    "\n",
    "for i in range(len(m.layers)):\n",
    "    output_var = m.layers[i].Y.var() if i==0 else m.layers[i].Y.mean.var()\n",
    "    m.layers[i].Gaussian_noise.variance = output_var*0\n",
    "#     if i== 4:\n",
    "#         m.layers[i].fix()\n",
    "    m.layers[i].Gaussian_noise.variance.fix()\n",
    "#     m.layers[i].kern.lengthscale.fix()"
   ]
  },
  {
   "cell_type": "code",
   "execution_count": 24,
   "id": "16c32788",
   "metadata": {},
   "outputs": [
    {
     "data": {
      "application/vnd.jupyter.widget-view+json": {
       "model_id": "0b05c740a73e434e8b4aa137f3c78d0a",
       "version_major": 2,
       "version_minor": 0
      },
      "text/plain": [
       "HBox(children=(VBox(children=(IntProgress(value=0, max=5000), HTML(value=''))), Box(children=(HTML(value=''),)…"
      ]
     },
     "metadata": {},
     "output_type": "display_data"
    }
   ],
   "source": [
    "m.optimize(max_iters=5000, messages=True)"
   ]
  },
  {
   "cell_type": "code",
   "execution_count": 25,
   "id": "90894677",
   "metadata": {},
   "outputs": [
    {
     "data": {
      "text/plain": [
       "<matplotlib.collections.PathCollection at 0x175c10e80>"
      ]
     },
     "execution_count": 25,
     "metadata": {},
     "output_type": "execute_result"
    },
    {
     "data": {
      "image/png": "[encoded data removed]",
      "text/plain": [
       "<Figure size 432x288 with 1 Axes>"
      ]
     },
     "metadata": {
      "needs_background": "light"
     },
     "output_type": "display_data"
    }
   ],
   "source": [
    "plt.plot(x,m.predict(x)[0])\n",
    "plt.scatter(x,x)"
   ]
  },
  {
   "cell_type": "code",
   "execution_count": 26,
   "id": "666025f1",
   "metadata": {},
   "outputs": [
    {
     "name": "stdout",
     "output_type": "stream",
     "text": [
      "1077.6161588499217\n",
      "470.8162509410929\n",
      "73.98531862158225\n",
      "46.87351196847304\n",
      "11.242953854309768\n",
      "9.64358174510109\n",
      "9.254928139661027\n",
      "5.453297438059446\n",
      "6.203669895294487\n",
      "8.100570439053792\n",
      "4.383486391683418\n",
      "6.172352038086089\n",
      "2.947941016565572\n",
      "3.1408074225587805\n",
      "5.956327064484716\n",
      "3.771022043979298\n",
      "6.558128049866448\n",
      "8.741528377033397\n",
      "1.0605355981303774e-09\n"
     ]
    }
   ],
   "source": [
    "for num_layers in range(len(m.layers)):\n",
    "    K = Cov2(m.layers[num_layers].parameters[0], m.layers[num_layers].parameters[0], \\\n",
    "                    l=m.layers[num_layers].parameters[1][1], sigma_f=m.layers[num_layers].parameters[1][0])\n",
    "    print(np.linalg.eigvals(K).max())"
   ]
  },
  {
   "cell_type": "code",
   "execution_count": 27,
   "id": "6f25d815",
   "metadata": {},
   "outputs": [
    {
     "name": "stdout",
     "output_type": "stream",
     "text": [
      "59.87413132831729\n",
      "60.25355280977921\n"
     ]
    }
   ],
   "source": [
    "def rmse(predictions, targets):\n",
    "    return np.sqrt(((predictions.flatten() - targets.flatten()) ** 2).mean())\n",
    "Y_pred = m.predict(x)[0]\n",
    "Y_pred_s = m.predict_withSamples(x, nSamples=10)[0]\n",
    "print(rmse(Y_pred,x))\n",
    "print(rmse(Y_pred_s,x))"
   ]
  },
  {
   "cell_type": "code",
   "execution_count": null,
   "id": "fa21e533",
   "metadata": {},
   "outputs": [],
   "source": []
  }
 ],
 "metadata": {
  "kernelspec": {
   "display_name": "Python 3 (ipykernel)",
   "language": "python",
   "name": "python3"
  },
  "language_info": {
   "codemirror_mode": {
    "name": "ipython",
    "version": 3
   },
   "file_extension": ".py",
   "mimetype": "text/x-python",
   "name": "python",
   "nbconvert_exporter": "python",
   "pygments_lexer": "ipython3",
   "version": "3.9.16"
  }
 },
 "nbformat": 4,
 "nbformat_minor": 5
}

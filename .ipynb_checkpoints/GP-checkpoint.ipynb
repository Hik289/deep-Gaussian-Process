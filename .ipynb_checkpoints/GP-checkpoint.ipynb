{
 "cells": [
  {
   "cell_type": "code",
   "execution_count": 2,
   "id": "2f49a1cf",
   "metadata": {},
   "outputs": [],
   "source": [
    "import GPy\n",
    "import numpy as np"
   ]
  },
  {
   "cell_type": "code",
   "execution_count": 3,
   "id": "c508120f",
   "metadata": {},
   "outputs": [
    {
     "name": "stderr",
     "output_type": "stream",
     "text": [
      " /Users/manifect/opt/miniconda3/lib/python3.9/site-packages/plotly/graph_objs/_deprecations.py:378: DeprecationWarning:plotly.graph_objs.Line is deprecated.\n",
      "Please replace it with one of the following more specific types\n",
      "  - plotly.graph_objs.scatter.Line\n",
      "  - plotly.graph_objs.layout.shape.Line\n",
      "  - etc.\n",
      "\n"
     ]
    }
   ],
   "source": [
    "GPy.plotting.change_plotting_library('plotly')"
   ]
  },
  {
   "cell_type": "code",
   "execution_count": 4,
   "id": "5e0e958f",
   "metadata": {},
   "outputs": [],
   "source": [
    "X = np.random.uniform(-3.,3.,(20,1))\n",
    "Y = np.sin(X) + np.random.randn(20,1)*0.05"
   ]
  },
  {
   "cell_type": "code",
   "execution_count": 5,
   "id": "e64d091a",
   "metadata": {},
   "outputs": [],
   "source": [
    "kernel = GPy.kern.RBF(input_dim=1, variance=1., lengthscale=1.)"
   ]
  },
  {
   "cell_type": "code",
   "execution_count": 7,
   "id": "a14927eb",
   "metadata": {},
   "outputs": [],
   "source": [
    "m = GPy.models.GPRegression(X,Y,kernel)"
   ]
  },
  {
   "cell_type": "code",
   "execution_count": 10,
   "id": "ae5cd9f0",
   "metadata": {},
   "outputs": [
    {
     "data": {
      "text/html": [
       "<style type=\"text/css\">\n",
       ".pd{\n",
       "    font-family: \"Courier New\", Courier, monospace !important;\n",
       "    width: 100%;\n",
       "    padding: 3px;\n",
       "}\n",
       "</style>\n",
       "\n",
       "<p class=pd>\n",
       "<b>Model</b>: GP regression<br>\n",
       "<b>Objective</b>: 22.49757124558067<br>\n",
       "<b>Number of Parameters</b>: 3<br>\n",
       "<b>Number of Optimization Parameters</b>: 3<br>\n",
       "<b>Updates</b>: True<br>\n",
       "</p>\n",
       "<style type=\"text/css\">\n",
       ".tg  {font-family:\"Courier New\", Courier, monospace !important;padding:2px 3px;word-break:normal;border-collapse:collapse;border-spacing:0;border-color:#DCDCDC;margin:0px auto;width:100%;}\n",
       ".tg td{font-family:\"Courier New\", Courier, monospace !important;font-weight:bold;color:#444;background-color:#F7FDFA;border-style:solid;border-width:1px;overflow:hidden;word-break:normal;border-color:#DCDCDC;}\n",
       ".tg th{font-family:\"Courier New\", Courier, monospace !important;font-weight:normal;color:#fff;background-color:#26ADE4;border-style:solid;border-width:1px;overflow:hidden;word-break:normal;border-color:#DCDCDC;}\n",
       ".tg .tg-left{font-family:\"Courier New\", Courier, monospace !important;font-weight:normal;text-align:left;}\n",
       ".tg .tg-center{font-family:\"Courier New\", Courier, monospace !important;font-weight:normal;text-align:center;}\n",
       ".tg .tg-right{font-family:\"Courier New\", Courier, monospace !important;font-weight:normal;text-align:right;}\n",
       "</style>\n",
       "<table class=\"tg\"><tr><th><b>  GP_regression.         </b></th><th><b>value</b></th><th><b>constraints</b></th><th><b>priors</b></th></tr>\n",
       "<tr><td class=tg-left>  rbf.variance           </td><td class=tg-right>  1.0</td><td class=tg-center>    +ve    </td><td class=tg-center>      </td></tr>\n",
       "<tr><td class=tg-left>  rbf.lengthscale        </td><td class=tg-right>  1.0</td><td class=tg-center>    +ve    </td><td class=tg-center>      </td></tr>\n",
       "<tr><td class=tg-left>  Gaussian_noise.variance</td><td class=tg-right>  1.0</td><td class=tg-center>    +ve    </td><td class=tg-center>      </td></tr>\n",
       "</table>"
      ],
      "text/plain": [
       "<GPy.models.gp_regression.GPRegression at 0x13a306310>"
      ]
     },
     "metadata": {},
     "output_type": "display_data"
    }
   ],
   "source": [
    "fig = m.plot()\n",
    "from IPython.display import display\n",
    "display(m)"
   ]
  },
  {
   "cell_type": "code",
   "execution_count": 12,
   "id": "14e8facb",
   "metadata": {},
   "outputs": [
    {
     "data": {
      "application/vnd.jupyter.widget-view+json": {
       "model_id": "042a9c6b15144ea1a23ddf276acd4297",
       "version_major": 2,
       "version_minor": 0
      },
      "text/plain": [
       "HBox(children=(VBox(children=(IntProgress(value=0, max=1000), HTML(value=''))), Box(children=(HTML(value=''),)…"
      ]
     },
     "metadata": {},
     "output_type": "display_data"
    },
    {
     "data": {
      "text/plain": [
       "<paramz.optimization.optimization.opt_lbfgsb at 0x13b19a2e0>"
      ]
     },
     "execution_count": 12,
     "metadata": {},
     "output_type": "execute_result"
    }
   ],
   "source": [
    "m.optimize(messages=True)"
   ]
  },
  {
   "cell_type": "code",
   "execution_count": 13,
   "id": "b937aaf4",
   "metadata": {},
   "outputs": [
    {
     "name": "stdout",
     "output_type": "stream",
     "text": [
      "Optimization restart 1/10, f = -19.523749589945716\n",
      "Optimization restart 2/10, f = -19.523749589919948\n",
      "Optimization restart 3/10, f = -19.523749589861673\n",
      "Optimization restart 4/10, f = -19.523749589945893\n",
      "Optimization restart 5/10, f = -19.52374958994184\n",
      "Optimization restart 6/10, f = -19.52374958994494\n",
      "Optimization restart 7/10, f = -19.523749589938994\n",
      "Optimization restart 8/10, f = -19.523749589930237\n",
      "Optimization restart 9/10, f = -19.52374958988836\n",
      "Optimization restart 10/10, f = -19.523749589902216\n"
     ]
    },
    {
     "data": {
      "text/plain": [
       "[<paramz.optimization.optimization.opt_lbfgsb at 0x13b19a2e0>,\n",
       " <paramz.optimization.optimization.opt_lbfgsb at 0x13b29fd00>,\n",
       " <paramz.optimization.optimization.opt_lbfgsb at 0x13a306370>,\n",
       " <paramz.optimization.optimization.opt_lbfgsb at 0x13b180d30>,\n",
       " <paramz.optimization.optimization.opt_lbfgsb at 0x13a631280>,\n",
       " <paramz.optimization.optimization.opt_lbfgsb at 0x13a61ba90>,\n",
       " <paramz.optimization.optimization.opt_lbfgsb at 0x13b180e20>,\n",
       " <paramz.optimization.optimization.opt_lbfgsb at 0x13a65fb20>,\n",
       " <paramz.optimization.optimization.opt_lbfgsb at 0x13b19ad90>,\n",
       " <paramz.optimization.optimization.opt_lbfgsb at 0x13b29f0d0>,\n",
       " <paramz.optimization.optimization.opt_lbfgsb at 0x13b28e790>]"
      ]
     },
     "execution_count": 13,
     "metadata": {},
     "output_type": "execute_result"
    }
   ],
   "source": [
    "m.optimize_restarts(num_restarts = 10)"
   ]
  },
  {
   "cell_type": "code",
   "execution_count": 16,
   "id": "38085ae4",
   "metadata": {},
   "outputs": [
    {
     "data": {
      "application/vnd.jupyter.widget-view+json": {
       "model_id": "90257157c35d404b8a1dc1dc61828963",
       "version_major": 2,
       "version_minor": 0
      },
      "text/plain": [
       "HBox(children=(VBox(children=(IntProgress(value=0, max=1000), HTML(value=''))), Box(children=(HTML(value=''),)…"
      ]
     },
     "metadata": {},
     "output_type": "display_data"
    },
    {
     "data": {
      "text/html": [
       "<style type=\"text/css\">\n",
       ".pd{\n",
       "    font-family: \"Courier New\", Courier, monospace !important;\n",
       "    width: 100%;\n",
       "    padding: 3px;\n",
       "}\n",
       "</style>\n",
       "\n",
       "<p class=pd>\n",
       "<b>Model</b>: GP regression<br>\n",
       "<b>Objective</b>: -18.533866088588766<br>\n",
       "<b>Number of Parameters</b>: 5<br>\n",
       "<b>Number of Optimization Parameters</b>: 5<br>\n",
       "<b>Updates</b>: True<br>\n",
       "</p>\n",
       "<style type=\"text/css\">\n",
       ".tg  {font-family:\"Courier New\", Courier, monospace !important;padding:2px 3px;word-break:normal;border-collapse:collapse;border-spacing:0;border-color:#DCDCDC;margin:0px auto;width:100%;}\n",
       ".tg td{font-family:\"Courier New\", Courier, monospace !important;font-weight:bold;color:#444;background-color:#F7FDFA;border-style:solid;border-width:1px;overflow:hidden;word-break:normal;border-color:#DCDCDC;}\n",
       ".tg th{font-family:\"Courier New\", Courier, monospace !important;font-weight:normal;color:#fff;background-color:#26ADE4;border-style:solid;border-width:1px;overflow:hidden;word-break:normal;border-color:#DCDCDC;}\n",
       ".tg .tg-left{font-family:\"Courier New\", Courier, monospace !important;font-weight:normal;text-align:left;}\n",
       ".tg .tg-center{font-family:\"Courier New\", Courier, monospace !important;font-weight:normal;text-align:center;}\n",
       ".tg .tg-right{font-family:\"Courier New\", Courier, monospace !important;font-weight:normal;text-align:right;}\n",
       "</style>\n",
       "<table class=\"tg\"><tr><th><b>  GP_regression.         </b></th><th><b>                value</b></th><th><b>constraints</b></th><th><b>priors</b></th></tr>\n",
       "<tr><td class=tg-left>  sum.Mat52.variance     </td><td class=tg-right>   0.4183485028272699</td><td class=tg-center>    +ve    </td><td class=tg-center>      </td></tr>\n",
       "<tr><td class=tg-left>  sum.Mat52.lengthscale  </td><td class=tg-right>                 (2,)</td><td class=tg-center>    +ve    </td><td class=tg-center>      </td></tr>\n",
       "<tr><td class=tg-left>  sum.white.variance     </td><td class=tg-right>0.0012245299433870471</td><td class=tg-center>    +ve    </td><td class=tg-center>      </td></tr>\n",
       "<tr><td class=tg-left>  Gaussian_noise.variance</td><td class=tg-right>0.0012245299433870471</td><td class=tg-center>    +ve    </td><td class=tg-center>      </td></tr>\n",
       "</table>"
      ],
      "text/plain": [
       "<GPy.models.gp_regression.GPRegression at 0x13b321d30>"
      ]
     },
     "metadata": {},
     "output_type": "display_data"
    }
   ],
   "source": [
    "# sample inputs and outputs\n",
    "X = np.random.uniform(-3.,3.,(50,2))\n",
    "Y = np.sin(X[:,0:1]) * np.sin(X[:,1:2])+np.random.randn(50,1)*0.05\n",
    "\n",
    "# define kernel\n",
    "ker = GPy.kern.Matern52(2,ARD=True) + GPy.kern.White(2)\n",
    "\n",
    "# create simple GP model\n",
    "m = GPy.models.GPRegression(X,Y,ker)\n",
    "\n",
    "# optimize and plot\n",
    "m.optimize(messages=True,max_f_eval = 1000)\n",
    "fig = m.plot()\n",
    "\n",
    "display(m)"
   ]
  },
  {
   "cell_type": "code",
   "execution_count": 17,
   "id": "6069a91d",
   "metadata": {},
   "outputs": [],
   "source": [
    "#import necessary modules, set up the plotting\n",
    "import numpy as np\n",
    "%matplotlib inline\n",
    "%config InlineBackend.figure_format = 'svg'\n",
    "import matplotlib;matplotlib.rcParams['figure.figsize'] = (8,6)\n",
    "from matplotlib import pyplot as plt\n",
    "import GPy"
   ]
  },
  {
   "cell_type": "code",
   "execution_count": 18,
   "id": "5bca4e69",
   "metadata": {},
   "outputs": [],
   "source": [
    "m = GPy.examples.regression.sparse_GP_regression_1D(plot=False, optimize=False)"
   ]
  },
  {
   "cell_type": "code",
   "execution_count": 22,
   "id": "5fda08be",
   "metadata": {},
   "outputs": [
    {
     "data": {
      "application/vnd.jupyter.widget-view+json": {
       "model_id": "b529e6a7840742d3a23c7145baa15df7",
       "version_major": 2,
       "version_minor": 0
      },
      "text/plain": [
       "HBox(children=(VBox(children=(IntProgress(value=0, max=1000), HTML(value=''))), Box(children=(HTML(value=''),)…"
      ]
     },
     "metadata": {},
     "output_type": "display_data"
    },
    {
     "data": {
      "text/plain": [
       "array([-3.54225173e-04,  3.67078393e-04,  2.31894830e-04,  5.19828676e-04,\n",
       "        3.94300665e-04,  8.70808435e-06,  1.73573170e-04,  1.48001518e-02])"
      ]
     },
     "execution_count": 22,
     "metadata": {},
     "output_type": "execute_result"
    }
   ],
   "source": [
    "m.optimize(messages = True)\n",
    "m.gradient"
   ]
  },
  {
   "cell_type": "code",
   "execution_count": 23,
   "id": "f852529f",
   "metadata": {},
   "outputs": [],
   "source": [
    "ker1 = GPy.kern.RBF(1)  # Equivalent to ker1 = GPy.kern.rbf(input_dim=1, variance=1., lengthscale=1.)\n",
    "ker2 = GPy.kern.RBF(input_dim=1, variance = .75, lengthscale=2.)\n",
    "ker3 = GPy.kern.RBF(1, .5, .5)"
   ]
  },
  {
   "cell_type": "code",
   "execution_count": 25,
   "id": "090e8584",
   "metadata": {},
   "outputs": [
    {
     "name": "stdout",
     "output_type": "stream",
     "text": [
      "  \u001b[1mmul.             \u001b[0;0m  |  value  |  constraints  |  priors\n",
      "  \u001b[1mrbf.variance     \u001b[0;0m  |    1.0  |      +ve      |        \n",
      "  \u001b[1mrbf.lengthscale  \u001b[0;0m  |    2.0  |      +ve      |        \n",
      "  \u001b[1mMat32.variance   \u001b[0;0m  |    0.5  |      +ve      |        \n",
      "  \u001b[1mMat32.lengthscale\u001b[0;0m  |    0.2  |      +ve      |        \n",
      "  \u001b[1msum.             \u001b[0;0m  |  value  |  constraints  |  priors\n",
      "  \u001b[1mrbf.variance     \u001b[0;0m  |    1.0  |      +ve      |        \n",
      "  \u001b[1mrbf.lengthscale  \u001b[0;0m  |    2.0  |      +ve      |        \n",
      "  \u001b[1mMat32.variance   \u001b[0;0m  |    0.5  |      +ve      |        \n",
      "  \u001b[1mMat32.lengthscale\u001b[0;0m  |    0.2  |      +ve      |        \n"
     ]
    },
    {
     "name": "stderr",
     "output_type": "stream",
     "text": [
      "/Users/manifect/opt/miniconda3/lib/python3.9/site-packages/plotly/tools.py:460: DeprecationWarning:\n",
      "\n",
      "plotly.tools.make_subplots is deprecated, please use plotly.subplots.make_subplots instead\n",
      "\n",
      "/Users/manifect/opt/miniconda3/lib/python3.9/site-packages/plotly/graph_objs/_deprecations.py:322: DeprecationWarning:\n",
      "\n",
      "plotly.graph_objs.Font is deprecated.\n",
      "Please replace it with one of the following more specific types\n",
      "  - plotly.graph_objs.layout.Font\n",
      "  - plotly.graph_objs.layout.hoverlabel.Font\n",
      "  - etc.\n",
      "\n",
      "\n",
      "/Users/manifect/opt/miniconda3/lib/python3.9/site-packages/plotly/graph_objs/_deprecations.py:378: DeprecationWarning:\n",
      "\n",
      "plotly.graph_objs.Line is deprecated.\n",
      "Please replace it with one of the following more specific types\n",
      "  - plotly.graph_objs.scatter.Line\n",
      "  - plotly.graph_objs.layout.shape.Line\n",
      "  - etc.\n",
      "\n",
      "\n"
     ]
    },
    {
     "data": {
      "text/plain": [
       "(Figure({\n",
       "     'data': [{'line': {'color': '#3465a4', 'width': 2},\n",
       "               'mode': 'lines',\n",
       "               'showlegend': False,\n",
       "               'type': 'scatter',\n",
       "               'x': array([-4.5       , -4.45477387, -4.40954774, -4.36432161, -4.31909548,\n",
       "                           -4.27386935, -4.22864322, -4.18341709, -4.13819095, -4.09296482,\n",
       "                           -4.04773869, -4.00251256, -3.95728643, -3.9120603 , -3.86683417,\n",
       "                           -3.82160804, -3.77638191, -3.73115578, -3.68592965, -3.64070352,\n",
       "                           -3.59547739, -3.55025126, -3.50502513, -3.45979899, -3.41457286,\n",
       "                           -3.36934673, -3.3241206 , -3.27889447, -3.23366834, -3.18844221,\n",
       "                           -3.14321608, -3.09798995, -3.05276382, -3.00753769, -2.96231156,\n",
       "                           -2.91708543, -2.8718593 , -2.82663317, -2.78140704, -2.7361809 ,\n",
       "                           -2.69095477, -2.64572864, -2.60050251, -2.55527638, -2.51005025,\n",
       "                           -2.46482412, -2.41959799, -2.37437186, -2.32914573, -2.2839196 ,\n",
       "                           -2.23869347, -2.19346734, -2.14824121, -2.10301508, -2.05778894,\n",
       "                           -2.01256281, -1.96733668, -1.92211055, -1.87688442, -1.83165829,\n",
       "                           -1.78643216, -1.74120603, -1.6959799 , -1.65075377, -1.60552764,\n",
       "                           -1.56030151, -1.51507538, -1.46984925, -1.42462312, -1.37939698,\n",
       "                           -1.33417085, -1.28894472, -1.24371859, -1.19849246, -1.15326633,\n",
       "                           -1.1080402 , -1.06281407, -1.01758794, -0.97236181, -0.92713568,\n",
       "                           -0.88190955, -0.83668342, -0.79145729, -0.74623116, -0.70100503,\n",
       "                           -0.65577889, -0.61055276, -0.56532663, -0.5201005 , -0.47487437,\n",
       "                           -0.42964824, -0.38442211, -0.33919598, -0.29396985, -0.24874372,\n",
       "                           -0.20351759, -0.15829146, -0.11306533, -0.0678392 , -0.02261307,\n",
       "                            0.02261307,  0.0678392 ,  0.11306533,  0.15829146,  0.20351759,\n",
       "                            0.24874372,  0.29396985,  0.33919598,  0.38442211,  0.42964824,\n",
       "                            0.47487437,  0.5201005 ,  0.56532663,  0.61055276,  0.65577889,\n",
       "                            0.70100503,  0.74623116,  0.79145729,  0.83668342,  0.88190955,\n",
       "                            0.92713568,  0.97236181,  1.01758794,  1.06281407,  1.1080402 ,\n",
       "                            1.15326633,  1.19849246,  1.24371859,  1.28894472,  1.33417085,\n",
       "                            1.37939698,  1.42462312,  1.46984925,  1.51507538,  1.56030151,\n",
       "                            1.60552764,  1.65075377,  1.6959799 ,  1.74120603,  1.78643216,\n",
       "                            1.83165829,  1.87688442,  1.92211055,  1.96733668,  2.01256281,\n",
       "                            2.05778894,  2.10301508,  2.14824121,  2.19346734,  2.23869347,\n",
       "                            2.2839196 ,  2.32914573,  2.37437186,  2.41959799,  2.46482412,\n",
       "                            2.51005025,  2.55527638,  2.60050251,  2.64572864,  2.69095477,\n",
       "                            2.7361809 ,  2.78140704,  2.82663317,  2.8718593 ,  2.91708543,\n",
       "                            2.96231156,  3.00753769,  3.05276382,  3.09798995,  3.14321608,\n",
       "                            3.18844221,  3.23366834,  3.27889447,  3.3241206 ,  3.36934673,\n",
       "                            3.41457286,  3.45979899,  3.50502513,  3.55025126,  3.59547739,\n",
       "                            3.64070352,  3.68592965,  3.73115578,  3.77638191,  3.82160804,\n",
       "                            3.86683417,  3.9120603 ,  3.95728643,  4.00251256,  4.04773869,\n",
       "                            4.09296482,  4.13819095,  4.18341709,  4.22864322,  4.27386935,\n",
       "                            4.31909548,  4.36432161,  4.40954774,  4.45477387,  4.5       ]),\n",
       "               'xaxis': 'x',\n",
       "               'y': array([0.02279418, 0.02425046, 0.02578659, 0.027406  , 0.02911223, 0.03090887,\n",
       "                           0.03279961, 0.03478822, 0.03687853, 0.03907446, 0.04137997, 0.04379912,\n",
       "                           0.046336  , 0.04899475, 0.05177958, 0.05469472, 0.05774445, 0.06093306,\n",
       "                           0.06426487, 0.06774422, 0.07137543, 0.07516284, 0.07911076, 0.08322347,\n",
       "                           0.08750523, 0.09196025, 0.09659267, 0.10140659, 0.10640599, 0.11159478,\n",
       "                           0.11697677, 0.12255563, 0.12833493, 0.13431805, 0.14050824, 0.14690858,\n",
       "                           0.15352194, 0.16035099, 0.1673982 , 0.17466578, 0.18215571, 0.18986971,\n",
       "                           0.19780921, 0.20597535, 0.21436897, 0.22299057, 0.23184035, 0.24091811,\n",
       "                           0.25022334, 0.25975511, 0.26951212, 0.27949267, 0.28969465, 0.30011552,\n",
       "                           0.3107523 , 0.32160158, 0.33265949, 0.3439217 , 0.35538343, 0.3670394 ,\n",
       "                           0.37888387, 0.39091063, 0.40311296, 0.41548368, 0.42801511, 0.44069909,\n",
       "                           0.45352698, 0.46648967, 0.47957756, 0.4927806 , 0.50608828, 0.51948962,\n",
       "                           0.53297324, 0.54652729, 0.56013954, 0.57379735, 0.58748771, 0.60119722,\n",
       "                           0.61491217, 0.62861852, 0.64230191, 0.65594774, 0.66954115, 0.68306708,\n",
       "                           0.69651027, 0.70985534, 0.72308683, 0.73618921, 0.74914699, 0.7619448 ,\n",
       "                           0.77456747, 0.78700016, 0.79922855, 0.81123906, 0.82301917, 0.83455784,\n",
       "                           0.84584608, 0.85687777, 0.86765071, 0.8781682 , 0.88844103, 0.89849031,\n",
       "                           0.90835133, 0.91807868, 0.92775319, 0.93749109, 0.947456  , 0.9578744 ,\n",
       "                           0.96905509, 0.98141291, 0.99549651, 1.01201836, 1.0318829 , 1.0562043 ,\n",
       "                           1.08629701, 1.12360941, 1.16954772, 1.22510063, 1.29011367, 1.36196394,\n",
       "                           1.43322712, 1.48767473, 1.49471793, 1.44759488, 1.37824848, 1.30565456,\n",
       "                           1.23877194, 1.18104266, 1.1330275 , 1.09391277, 1.06234314, 1.03685913,\n",
       "                           1.01610793, 0.99892866, 0.98437115, 0.97168252, 0.96028036, 0.94972257,\n",
       "                           0.93967902, 0.92990677, 0.92022968, 0.91052214, 0.90069634, 0.89069253,\n",
       "                           0.88047164, 0.87000976, 0.8592941 , 0.84831989, 0.83708825, 0.82560454,\n",
       "                           0.81387719, 0.80191684, 0.78973573, 0.77734722, 0.76476551, 0.75200531,\n",
       "                           0.73908175, 0.72601017, 0.71280604, 0.69948486, 0.68606214, 0.67255328,\n",
       "                           0.65897356, 0.64533808, 0.63166177, 0.61795927, 0.60424501, 0.59053309,\n",
       "                           0.57683731, 0.56317113, 0.54954764, 0.53597958, 0.52247928, 0.50905865,\n",
       "                           0.4957292 , 0.48250198, 0.46938762, 0.45639626, 0.44353761, 0.43082089,\n",
       "                           0.41825483, 0.40584772, 0.39360733, 0.38154096, 0.36965543, 0.35795705,\n",
       "                           0.34645169, 0.33514471, 0.32404101, 0.31314501, 0.3024607 , 0.29199158,\n",
       "                           0.28174073, 0.27171077, 0.26190392, 0.25232197, 0.24296631, 0.23383794,\n",
       "                           0.22493747, 0.21626517]),\n",
       "               'yaxis': 'y'}],\n",
       "     'layout': {'font': {'family': 'Raleway, sans-serif'},\n",
       "                'showlegend': False,\n",
       "                'template': '...',\n",
       "                'xaxis': {'anchor': 'y', 'domain': [0.0, 1.0]},\n",
       "                'yaxis': {'anchor': 'x', 'domain': [0.0, 1.0]}}\n",
       " }),\n",
       " 1,\n",
       " 1)"
      ]
     },
     "execution_count": 25,
     "metadata": {},
     "output_type": "execute_result"
    }
   ],
   "source": [
    "# Product of kernels\n",
    "k1 = GPy.kern.RBF(1,1.,2.)\n",
    "k2 = GPy.kern.Matern32(1, 0.5, 0.2)\n",
    "k_prod = k1 *k2\n",
    "print(k_prod)\n",
    "k_prod.plot()\n",
    "\n",
    "\n",
    "\n",
    "# Sum of kernels\n",
    "k1 = GPy.kern.RBF(1,1.,2.)\n",
    "k2 = GPy.kern.Matern32(1, 0.5, 0.2)\n",
    "k_add = k1 + k2\n",
    "print(k_add)\n",
    "k_add.plot()"
   ]
  },
  {
   "cell_type": "code",
   "execution_count": 26,
   "id": "257b454c",
   "metadata": {},
   "outputs": [
    {
     "data": {
      "text/plain": [
       "(Figure({\n",
       "     'data': [{'colorscale': [[0.0, 'rgb(0,0,0)'], [0.3333333333333333,\n",
       "                              'rgb(230,0,0)'], [0.6666666666666666,\n",
       "                              'rgb(255,210,0)'], [1.0, 'rgb(255,255,255)']],\n",
       "               'type': 'contour',\n",
       "               'x': array([-3.45      , -3.24705882, -3.04411765, -2.84117647, -2.63823529,\n",
       "                           -2.43529412, -2.23235294, -2.02941176, -1.82647059, -1.62352941,\n",
       "                           -1.42058824, -1.21764706, -1.01470588, -0.81176471, -0.60882353,\n",
       "                           -0.40588235, -0.20294118,  0.        ,  0.20294118,  0.40588235,\n",
       "                            0.60882353,  0.81176471,  1.01470588,  1.21764706,  1.42058824,\n",
       "                            1.62352941,  1.82647059,  2.02941176,  2.23235294,  2.43529412,\n",
       "                            2.63823529,  2.84117647,  3.04411765,  3.24705882,  3.45      ]),\n",
       "               'xaxis': 'x',\n",
       "               'y': array([-3.45      , -3.24705882, -3.04411765, -2.84117647, -2.63823529,\n",
       "                           -2.43529412, -2.23235294, -2.02941176, -1.82647059, -1.62352941,\n",
       "                           -1.42058824, -1.21764706, -1.01470588, -0.81176471, -0.60882353,\n",
       "                           -0.40588235, -0.20294118,  0.        ,  0.20294118,  0.40588235,\n",
       "                            0.60882353,  0.81176471,  1.01470588,  1.21764706,  1.42058824,\n",
       "                            1.62352941,  1.82647059,  2.02941176,  2.23235294,  2.43529412,\n",
       "                            2.63823529,  2.84117647,  3.04411765,  3.24705882,  3.45      ]),\n",
       "               'yaxis': 'y',\n",
       "               'z': array([[-1.14824575, -1.26654208, -1.39064736, ..., -2.73529682, -2.60611093,\n",
       "                            -2.47168971],\n",
       "                           [-1.08070188, -1.19203961, -1.30884458, ..., -2.57439701, -2.45281029,\n",
       "                            -2.3262962 ],\n",
       "                           [-1.01315801, -1.11753713, -1.22704179, ..., -2.41349719, -2.29950964,\n",
       "                            -2.18090268],\n",
       "                           ...,\n",
       "                           [ 1.01315801,  1.11753713,  1.22704179, ...,  2.41349719,  2.29950964,\n",
       "                             2.18090268],\n",
       "                           [ 1.08070188,  1.19203961,  1.30884458, ...,  2.57439701,  2.45281029,\n",
       "                             2.3262962 ],\n",
       "                           [ 1.14824575,  1.26654208,  1.39064736, ...,  2.73529682,  2.60611093,\n",
       "                             2.47168971]])}],\n",
       "     'layout': {'font': {'family': 'Raleway, sans-serif'},\n",
       "                'showlegend': False,\n",
       "                'template': '...',\n",
       "                'xaxis': {'anchor': 'y', 'domain': [0.0, 1.0]},\n",
       "                'yaxis': {'anchor': 'x', 'domain': [0.0, 1.0]}}\n",
       " }),\n",
       " 1,\n",
       " 1)"
      ]
     },
     "execution_count": 26,
     "metadata": {},
     "output_type": "execute_result"
    }
   ],
   "source": [
    "k1 = GPy.kern.Linear(input_dim=1, active_dims=[0]) # works on the first column of X, index=0\n",
    "k2 = GPy.kern.ExpQuad(input_dim=1, lengthscale=3, active_dims=[1]) # works on the second column of X, index=1\n",
    "k = k1 * k2\n",
    "k.plot(x=np.ones((1,2)))"
   ]
  },
  {
   "cell_type": "code",
   "execution_count": 28,
   "id": "d1a2e4ca",
   "metadata": {},
   "outputs": [],
   "source": [
    "k1 = GPy.kern.PeriodicExponential(input_dim=1, active_dims=[0], period=6, lower=-10, upper=10)# + GPy.kern.Bias(1, variance=0, active_dims=[0])\n",
    "k2 = GPy.kern.PeriodicExponential(input_dim=1, active_dims=[1], period=8, lower=-10, upper=10)# + GPy.kern.Bias(1, variance=0, active_dims=[0])\n",
    "\n",
    "#k2 = GPy.kern.ExpQuad(1, active_dims=[1])\n",
    "k = k1 * k2\n"
   ]
  },
  {
   "cell_type": "code",
   "execution_count": 29,
   "id": "f240ce97",
   "metadata": {},
   "outputs": [],
   "source": [
    "N = 50\n",
    "noise_var = 0.05\n",
    "\n",
    "X = np.linspace(0,10,50)[:,None]\n",
    "k = GPy.kern.RBF(1)\n",
    "y = np.random.multivariate_normal(np.zeros(N),k.K(X)+np.eye(N)*np.sqrt(noise_var)).reshape(-1,1)"
   ]
  },
  {
   "cell_type": "code",
   "execution_count": 35,
   "id": "f1e31a69",
   "metadata": {},
   "outputs": [
    {
     "data": {
      "application/vnd.jupyter.widget-view+json": {
       "model_id": "5ca2c505e0c04801b70538db386dae34",
       "version_major": 2,
       "version_minor": 0
      },
      "text/plain": [
       "HBox(children=(VBox(children=(IntProgress(value=0, max=1000), HTML(value=''))), Box(children=(HTML(value=''),)…"
      ]
     },
     "metadata": {},
     "output_type": "display_data"
    },
    {
     "name": "stdout",
     "output_type": "stream",
     "text": [
      "\n",
      "Name : GP regression\n",
      "Objective : 41.09808510591479\n",
      "Number of Parameters : 3\n",
      "Number of Optimization Parameters : 3\n",
      "Updates : True\n",
      "Parameters:\n",
      "  \u001b[1mGP_regression.         \u001b[0;0m  |                value  |  constraints  |  priors\n",
      "  \u001b[1mrbf.variance           \u001b[0;0m  |   1.1124418658548374  |      +ve      |        \n",
      "  \u001b[1mrbf.lengthscale        \u001b[0;0m  |     1.23018173189931  |      +ve      |        \n",
      "  \u001b[1mGaussian_noise.variance\u001b[0;0m  |  0.17383910530851418  |      +ve      |        \n"
     ]
    }
   ],
   "source": [
    "m_full = GPy.models.GPRegression(X,y)\n",
    "m_full.optimize('bfgs',messages = True)\n",
    "\n",
    "print(m_full)"
   ]
  },
  {
   "cell_type": "code",
   "execution_count": null,
   "id": "2e53063c",
   "metadata": {},
   "outputs": [],
   "source": []
  },
  {
   "cell_type": "code",
   "execution_count": null,
   "id": "132d4c1d",
   "metadata": {},
   "outputs": [],
   "source": []
  },
  {
   "cell_type": "code",
   "execution_count": null,
   "id": "3400f56f",
   "metadata": {},
   "outputs": [],
   "source": []
  },
  {
   "cell_type": "code",
   "execution_count": null,
   "id": "1c3e6ad8",
   "metadata": {},
   "outputs": [],
   "source": []
  },
  {
   "cell_type": "code",
   "execution_count": null,
   "id": "4d013f7b",
   "metadata": {},
   "outputs": [],
   "source": []
  }
 ],
 "metadata": {
  "kernelspec": {
   "display_name": "Python 3 (ipykernel)",
   "language": "python",
   "name": "python3"
  },
  "language_info": {
   "codemirror_mode": {
    "name": "ipython",
    "version": 3
   },
   "file_extension": ".py",
   "mimetype": "text/x-python",
   "name": "python",
   "nbconvert_exporter": "python",
   "pygments_lexer": "ipython3",
   "version": "3.9.16"
  }
 },
 "nbformat": 4,
 "nbformat_minor": 5
}
